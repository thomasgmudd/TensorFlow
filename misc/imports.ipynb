{
 "cells": [
  {
   "cell_type": "code",
   "execution_count": 2,
   "id": "20a3a20c",
   "metadata": {},
   "outputs": [
    {
     "name": "stdout",
     "output_type": "stream",
     "text": [
      "TF version:  2.6.0\n",
      "Compute on:  [PhysicalDevice(name='/physical_device:GPU:0', device_type='GPU')]\n",
      "Cuda build:  True\n",
      "cwd       :  C:\\Users\\Tom\\Jupyter\\TensorFlow\n"
     ]
    }
   ],
   "source": [
    "import tensorflow as tf\n",
    "import keras\n",
    "import sklearn\n",
    "import pandas\n",
    "import matplotlib\n",
    "import seaborn\n",
    "import numpy as np\n",
    "import random\n",
    "import os\n",
    "\n",
    "from tensorflow.keras.preprocessing.image import ImageDataGenerator\n",
    "import tensorflow_datasets as tfds\n",
    "import image\n",
    "from PIL import Image, ImageDraw\n",
    "from ipywidgets import interact\n",
    "\n",
    "print(\"TF version: \",tf.__version__)\n",
    "print(\"Compute on: \",tf.config.list_physical_devices('GPU'))\n",
    "print(\"Cuda build: \",tf.test.is_built_with_cuda())\n",
    "print(\"cwd       : \",os.getcwd())"
   ]
  },
  {
   "cell_type": "code",
   "execution_count": 5,
   "id": "6c5019dc",
   "metadata": {},
   "outputs": [
    {
     "data": {
      "text/plain": [
       "array([[17.642405]], dtype=float32)"
      ]
     },
     "execution_count": 5,
     "metadata": {},
     "output_type": "execute_result"
    }
   ],
   "source": [
    "xs = np.array([-1.0,  0.0, 1.0, 2.0, 3.0, 4.0], dtype=float)\n",
    "ys = np.array([-3.0, -1.0, 1.0, 3.0, 5.0, 7.0], dtype=float)\n",
    "\n",
    "model = tf.keras.Sequential([keras.layers.Dense(units=1, input_shape=[1])])\n",
    "model.compile(optimizer='sgd', loss='mean_squared_error')\n",
    "model.fit(xs, ys, epochs=50,verbose=0)\n",
    "\n",
    "model.predict([10.0])"
   ]
  }
 ],
 "metadata": {
  "kernelspec": {
   "display_name": "Python 3 (ipykernel)",
   "language": "python",
   "name": "python3"
  },
  "language_info": {
   "codemirror_mode": {
    "name": "ipython",
    "version": 3
   },
   "file_extension": ".py",
   "mimetype": "text/x-python",
   "name": "python",
   "nbconvert_exporter": "python",
   "pygments_lexer": "ipython3",
   "version": "3.9.13"
  }
 },
 "nbformat": 4,
 "nbformat_minor": 5
}
