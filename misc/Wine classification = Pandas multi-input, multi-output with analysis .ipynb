{
 "cells": [
  {
   "cell_type": "markdown",
   "metadata": {
    "colab_type": "text",
    "id": "ZL_6GK8qX35J"
   },
   "source": [
    "\n",
    "\n",
    "# Week 1: Multiple Output Models using the Keras Functional API\n",
    "\n",
    "Welcome to the first programming assignment of the course! Your task will be to use the Keras functional API to train a model to predict two outputs. For this lab, you will use the **[Wine Quality Dataset](https://archive.ics.uci.edu/ml/datasets/Wine+Quality)** from the **UCI machine learning repository**. It has separate datasets for red wine and white wine.\n",
    "\n",
    "Normally, the wines are classified into one of the quality ratings specified in the attributes. In this exercise, you will combine the two datasets to predict the wine quality and whether the wine is red or white solely from the attributes. \n",
    "\n",
    "You will model wine quality estimations as a regression problem and wine type detection as a binary classification problem.\n",
    "\n",
    "#### Please complete sections that are marked **(TODO)**"
   ]
  },
  {
   "cell_type": "markdown",
   "metadata": {
    "colab_type": "text",
    "id": "obdcD6urYBY9"
   },
   "source": [
    "## Imports"
   ]
  },
  {
   "cell_type": "code",
   "execution_count": 3,
   "metadata": {
    "colab": {},
    "colab_type": "code",
    "id": "t8N3pcTQ5oQI"
   },
   "outputs": [],
   "source": [
    "import tensorflow as tf\n",
    "from tensorflow.keras.models import Model\n",
    "from tensorflow.keras.layers import Dense, Input\n",
    "\n",
    "import numpy as np\n",
    "import matplotlib.pyplot as plt\n",
    "import pandas as pd\n",
    "from sklearn.model_selection import train_test_split\n",
    "from sklearn.metrics import confusion_matrix\n",
    "import itertools\n",
    "\n",
    "import utils"
   ]
  },
  {
   "cell_type": "markdown",
   "metadata": {
    "colab_type": "text",
    "id": "gQMERzWQYpgm"
   },
   "source": [
    "## Load Dataset\n",
    "\n",
    "\n",
    "You will now download the dataset from the [UCI Machine Learning Repository](https://archive.ics.uci.edu/ml/index.php). \n",
    "\n",
    "### Pre-process the white wine dataset (TODO)\n",
    "You will add a new column named `is_red` in your dataframe to indicate if the wine is white or red. \n",
    "- In the white wine dataset, you will fill the column `is_red` with  zeros (0)."
   ]
  },
  {
   "cell_type": "code",
   "execution_count": 4,
   "metadata": {
    "colab": {},
    "colab_type": "code",
    "deletable": false,
    "id": "2qYAjKXCd4RH",
    "nbgrader": {
     "cell_type": "code",
     "checksum": "cb9f284ba6255170fe04a309a407d72d",
     "grade": false,
     "grade_id": "cell-e5bfa0f152d9a21f",
     "locked": false,
     "schema_version": 3,
     "solution": true,
     "task": false
    }
   },
   "outputs": [
    {
     "name": "stdout",
     "output_type": "stream",
     "text": [
      "<class 'pandas.core.frame.DataFrame'> (4898, 12)\n",
      "Index(['fixed acidity', 'volatile acidity', 'citric acid', 'residual sugar',\n",
      "       'chlorides', 'free sulfur dioxide', 'total sulfur dioxide', 'density',\n",
      "       'pH', 'sulphates', 'alcohol', 'quality'],\n",
      "      dtype='object')\n"
     ]
    }
   ],
   "source": [
    "# Please uncomment all lines in this cell and replace those marked with `# YOUR CODE HERE`.\n",
    "# You can select all lines in this code cell with Ctrl+A (Windows/Linux) or Cmd+A (Mac), then press Ctrl+/ (Windows/Linux) or Cmd+/ (Mac) to uncomment.\n",
    "\n",
    "\n",
    "\n",
    "# URL of the white wine dataset\n",
    "URL = 'http://archive.ics.uci.edu/ml/machine-learning-databases/wine-quality/winequality-white.csv'\n",
    "\n",
    "# load the dataset from the URL\n",
    "white_df = pd.read_csv(URL, sep=\";\")\n",
    "\n",
    "print(type(white_df),np.shape(white_df))\n",
    "print(white_df.keys())\n",
    "#white_df['is_red']=None\n",
    "\n",
    "# fill the `is_red` column with zeros.\n",
    "white_df[\"is_red\"] = 0\n",
    "\n",
    "# keep only the first of duplicate items\n",
    "white_df = white_df.drop_duplicates(keep='first')\n"
   ]
  },
  {
   "cell_type": "code",
   "execution_count": 5,
   "metadata": {
    "deletable": false,
    "editable": false,
    "nbgrader": {
     "cell_type": "code",
     "checksum": "defe38d6ec58fd31cd67b89e46c4373f",
     "grade": true,
     "grade_id": "cell-30575e713b55fc51",
     "locked": true,
     "points": 1,
     "schema_version": 3,
     "solution": false,
     "task": false
    }
   },
   "outputs": [
    {
     "name": "stdout",
     "output_type": "stream",
     "text": [
      "\u001b[92m All public tests passed\n"
     ]
    }
   ],
   "source": [
    "# You can click `File -> Open` in the menu above and open the `utils.py` file \n",
    "# in case you want to inspect the unit tests being used for each graded function.\n",
    "\n",
    "utils.test_white_df(white_df)\n"
   ]
  },
  {
   "cell_type": "code",
   "execution_count": 6,
   "metadata": {
    "colab": {},
    "colab_type": "code",
    "id": "OQHK0ohBQRCk"
   },
   "outputs": [
    {
     "name": "stdout",
     "output_type": "stream",
     "text": [
      "8.8\n",
      "9.1\n"
     ]
    }
   ],
   "source": [
    "print(white_df.alcohol[0])\n",
    "print(white_df.alcohol[100])\n",
    "\n",
    "# EXPECTED OUTPUT\n",
    "# 8.8\n",
    "# 9.1"
   ]
  },
  {
   "cell_type": "markdown",
   "metadata": {},
   "source": [
    "### Pre-process the red wine dataset (TODO)\n",
    "- In the red wine dataset, you will fill in the column `is_red` with ones (1)."
   ]
  },
  {
   "cell_type": "code",
   "execution_count": 7,
   "metadata": {
    "colab": {},
    "colab_type": "code",
    "deletable": false,
    "id": "8y3QxKwBed8v",
    "nbgrader": {
     "cell_type": "code",
     "checksum": "be72275f78e2c2d0038dde9aa63f8d4f",
     "grade": false,
     "grade_id": "cell-e47a40f306593274",
     "locked": false,
     "schema_version": 3,
     "solution": true,
     "task": false
    }
   },
   "outputs": [],
   "source": [
    "# Please uncomment all lines in this cell and replace those marked with `# YOUR CODE HERE`.\n",
    "# You can select all lines in this code cell with Ctrl+A (Windows/Linux) or Cmd+A (Mac), then press Ctrl+/ (Windows/Linux) or Cmd+/ (Mac) to uncomment.\n",
    "\n",
    "\n",
    "\n",
    "# URL of the red wine dataset\n",
    "URL = 'http://archive.ics.uci.edu/ml/machine-learning-databases/wine-quality/winequality-red.csv'\n",
    "\n",
    "# load the dataset from the URL\n",
    "red_df = pd.read_csv(URL, sep=\";\")\n",
    "\n",
    "# fill the `is_red` column with ones.\n",
    "red_df[\"is_red\"] = 1\n",
    "\n",
    "# keep only the first of duplicate items\n",
    "red_df = red_df.drop_duplicates(keep='first')\n"
   ]
  },
  {
   "cell_type": "code",
   "execution_count": 10,
   "metadata": {
    "deletable": false,
    "editable": false,
    "nbgrader": {
     "cell_type": "code",
     "checksum": "d8e0c91b0fd668b63ba74a8f2f958b59",
     "grade": true,
     "grade_id": "cell-2a75937adcc0c25b",
     "locked": true,
     "points": 1,
     "schema_version": 3,
     "solution": false,
     "task": false
    }
   },
   "outputs": [
    {
     "name": "stdout",
     "output_type": "stream",
     "text": [
      "\u001b[92m All public tests passed\n"
     ]
    }
   ],
   "source": [
    "utils.test_red_df(red_df)\n"
   ]
  },
  {
   "cell_type": "code",
   "execution_count": 11,
   "metadata": {
    "colab": {},
    "colab_type": "code",
    "id": "zsB3LUzNQpo_"
   },
   "outputs": [
    {
     "name": "stdout",
     "output_type": "stream",
     "text": [
      "9.4\n",
      "10.2\n"
     ]
    }
   ],
   "source": [
    "print(red_df.alcohol[0])\n",
    "print(red_df.alcohol[100])\n",
    "\n",
    "# EXPECTED OUTPUT\n",
    "# 9.4\n",
    "# 10.2"
   ]
  },
  {
   "cell_type": "markdown",
   "metadata": {
    "colab_type": "text",
    "id": "2G8B-NYuM6-f"
   },
   "source": [
    "### Concatenate the datasets\n",
    "\n",
    "Next, concatenate the red and white wine dataframes."
   ]
  },
  {
   "cell_type": "code",
   "execution_count": 12,
   "metadata": {
    "colab": {},
    "colab_type": "code",
    "id": "YpQrOjJbfN3m"
   },
   "outputs": [],
   "source": [
    "df = pd.concat([red_df, white_df], ignore_index=True)"
   ]
  },
  {
   "cell_type": "code",
   "execution_count": 13,
   "metadata": {
    "colab": {},
    "colab_type": "code",
    "id": "Se2dTmThQyjb"
   },
   "outputs": [
    {
     "name": "stdout",
     "output_type": "stream",
     "text": [
      "9.4\n",
      "9.5\n"
     ]
    }
   ],
   "source": [
    "print(df.alcohol[0])\n",
    "print(df.alcohol[100])\n",
    "\n",
    "# EXPECTED OUTPUT\n",
    "# 9.4\n",
    "# 9.5"
   ]
  },
  {
   "cell_type": "code",
   "execution_count": 14,
   "metadata": {
    "colab": {},
    "colab_type": "code",
    "id": "wx6y3rPpQv4k"
   },
   "outputs": [],
   "source": [
    "# NOTE: In a real-world scenario, you should shuffle the data.\n",
    "# YOU ARE NOT going to do that here because we want to test\n",
    "# with deterministic data. But if you want the code to do it,\n",
    "# it's in the commented line below:\n",
    "\n",
    "#df = df.iloc[np.random.permutation(len(df))]"
   ]
  },
  {
   "cell_type": "markdown",
   "metadata": {
    "colab_type": "text",
    "id": "-EqIcbg5M_n1"
   },
   "source": [
    "This will chart the quality of the wines."
   ]
  },
  {
   "cell_type": "code",
   "execution_count": 43,
   "metadata": {
    "colab": {},
    "colab_type": "code",
    "id": "IsvK0-Sgy17C"
   },
   "outputs": [
    {
     "data": {
      "image/png": "[encoded data removed]",
      "text/plain": [
       "<Figure size 640x480 with 1 Axes>"
      ]
     },
     "metadata": {},
     "output_type": "display_data"
    }
   ],
   "source": [
    "df['quality'].hist(bins=20);"
   ]
  },
  {
   "cell_type": "markdown",
   "metadata": {
    "colab_type": "text",
    "id": "Nut1rmYLzf-p"
   },
   "source": [
    "### Imbalanced data (TODO)\n",
    "You can see from the plot above that the wine quality dataset is imbalanced. \n",
    "- Since there are very few observations with quality equal to 3, 4, 8 and 9, you can drop these observations from your dataset. \n",
    "- You can do this by removing data belonging to all classes except those > 4 and < 8."
   ]
  },
  {
   "cell_type": "code",
   "execution_count": 15,
   "metadata": {
    "colab": {},
    "colab_type": "code",
    "deletable": false,
    "id": "doH9_-gnf3sz",
    "nbgrader": {
     "cell_type": "code",
     "checksum": "d9ba9fc3a3ca02ccc567be33652b80fe",
     "grade": false,
     "grade_id": "cell-6a3e9db696f6827b",
     "locked": false,
     "schema_version": 3,
     "solution": true,
     "task": false
    }
   },
   "outputs": [],
   "source": [
    "# Please uncomment all lines in this cell and replace those marked with `# YOUR CODE HERE`.\n",
    "# You can select all lines in this code cell with Ctrl+A (Windows/Linux) or Cmd+A (Mac), then press Ctrl+/ (Windows/Linux) or Cmd+/ (Mac) to uncomment.\n",
    "\n",
    "\n",
    "\n",
    "# get data with wine quality greater than 4 and less than 8\n",
    "df = df[(df['quality'] > 4) & (df['quality'] < 8 )]\n",
    "\n",
    "# reset index and drop the old one\n",
    "df = df.reset_index(drop=True)"
   ]
  },
  {
   "cell_type": "code",
   "execution_count": 16,
   "metadata": {
    "deletable": false,
    "editable": false,
    "nbgrader": {
     "cell_type": "code",
     "checksum": "281e1d86a4803560ed5892cd7eda4c01",
     "grade": true,
     "grade_id": "cell-aed3da719d4682c7",
     "locked": true,
     "points": 1,
     "schema_version": 3,
     "solution": false,
     "task": false
    }
   },
   "outputs": [
    {
     "name": "stdout",
     "output_type": "stream",
     "text": [
      "\u001b[92m All public tests passed\n"
     ]
    }
   ],
   "source": [
    "utils.test_df_drop(df)\n",
    "\n"
   ]
  },
  {
   "cell_type": "code",
   "execution_count": 17,
   "metadata": {
    "colab": {},
    "colab_type": "code",
    "id": "xNR1iAlMRPXO"
   },
   "outputs": [
    {
     "name": "stdout",
     "output_type": "stream",
     "text": [
      "9.4\n",
      "10.9\n"
     ]
    }
   ],
   "source": [
    "print(df.alcohol[0])\n",
    "print(df.alcohol[100])\n",
    "\n",
    "# EXPECTED OUTPUT\n",
    "# 9.4\n",
    "# 10.9"
   ]
  },
  {
   "cell_type": "markdown",
   "metadata": {
    "colab_type": "text",
    "id": "cwhuRpnVRTzG"
   },
   "source": [
    "You can plot again to see the new range of data and quality"
   ]
  },
  {
   "cell_type": "code",
   "execution_count": 23,
   "metadata": {
    "colab": {},
    "colab_type": "code",
    "id": "857ygzZiLgGg"
   },
   "outputs": [
    {
     "data": {
      "image/png": "[encoded data removed]",
      "text/plain": [
       "<Figure size 640x480 with 1 Axes>"
      ]
     },
     "metadata": {},
     "output_type": "display_data"
    }
   ],
   "source": [
    "df['quality'].hist(bins=20);"
   ]
  },
  {
   "cell_type": "markdown",
   "metadata": {
    "colab_type": "text",
    "id": "n3k0vqSsp84t"
   },
   "source": [
    "### Train Test Split (TODO)\n",
    "\n",
    "Next, you can split the datasets into training, test and validation datasets.\n",
    "- The data frame should be split 80:20 into `train` and `test` sets.\n",
    "- The resulting `train` should then be split 80:20 into `train` and `val` sets.\n",
    "- The `train_test_split` parameter `test_size` takes a float value that ranges between 0. and 1, and represents the proportion of the dataset that is allocated to the test set.  The rest of the data is allocated to the training set."
   ]
  },
  {
   "cell_type": "code",
   "execution_count": 18,
   "metadata": {
    "colab": {},
    "colab_type": "code",
    "deletable": false,
    "id": "PAVIf2-fgRVY",
    "nbgrader": {
     "cell_type": "code",
     "checksum": "7f5738f4fb51d65adc9a8acbdf2b9970",
     "grade": false,
     "grade_id": "cell-91946cadf745206b",
     "locked": false,
     "schema_version": 3,
     "solution": true,
     "task": false
    }
   },
   "outputs": [],
   "source": [
    "# Please uncomment all lines in this cell and replace those marked with `# YOUR CODE HERE`.\n",
    "# You can select all lines in this code cell with Ctrl+A (Windows/Linux) or Cmd+A (Mac), then press Ctrl+/ (Windows/Linux) or Cmd+/ (Mac) to uncomment.\n",
    "\n",
    "\n",
    "\n",
    "# Please do not change the random_state parameter. This is needed for grading.\n",
    "\n",
    "# split df into 80:20 train and test sets\n",
    "train, test = train_test_split(df, test_size=0.2, random_state = 1)\n",
    "                               \n",
    "# split train into 80:20 train and val sets\n",
    "train, val = train_test_split(train, test_size=0.2, random_state = 1)"
   ]
  },
  {
   "cell_type": "code",
   "execution_count": 19,
   "metadata": {
    "colab": {},
    "colab_type": "code",
    "deletable": false,
    "editable": false,
    "id": "57h9LcEzRWpk",
    "nbgrader": {
     "cell_type": "code",
     "checksum": "42adbe9e66efac7c7a5f8cd73ac92f22",
     "grade": true,
     "grade_id": "cell-64b8b38cd0b965f6",
     "locked": true,
     "points": 1,
     "schema_version": 3,
     "solution": false,
     "task": false
    }
   },
   "outputs": [
    {
     "name": "stdout",
     "output_type": "stream",
     "text": [
      "\u001b[92m All public tests passed\n"
     ]
    }
   ],
   "source": [
    "utils.test_data_sizes(train.size, test.size, val.size)\n",
    "\n"
   ]
  },
  {
   "cell_type": "markdown",
   "metadata": {
    "colab_type": "text",
    "id": "RwTNu4KFqG-K"
   },
   "source": [
    "Here's where you can explore the training stats. You can pop the labels 'is_red' and 'quality' from the data as these will be used as the labels\n"
   ]
  },
  {
   "cell_type": "code",
   "execution_count": 20,
   "metadata": {
    "colab": {},
    "colab_type": "code",
    "id": "Y_afyhhHM6WQ"
   },
   "outputs": [],
   "source": [
    "train_stats = train.describe()\n",
    "train_stats.pop('is_red')\n",
    "train_stats.pop('quality')\n",
    "train_stats = train_stats.transpose()"
   ]
  },
  {
   "cell_type": "markdown",
   "metadata": {
    "colab_type": "text",
    "id": "ahvbYm4fNqSt"
   },
   "source": [
    "Explore the training stats!"
   ]
  },
  {
   "cell_type": "code",
   "execution_count": 21,
   "metadata": {
    "colab": {},
    "colab_type": "code",
    "id": "n_gAtPjZ0otF"
   },
   "outputs": [
    {
     "data": {
      "text/html": [
       "<div>\n",
       "<style scoped>\n",
       "    .dataframe tbody tr th:only-of-type {\n",
       "        vertical-align: middle;\n",
       "    }\n",
       "\n",
       "    .dataframe tbody tr th {\n",
       "        vertical-align: top;\n",
       "    }\n",
       "\n",
       "    .dataframe thead th {\n",
       "        text-align: right;\n",
       "    }\n",
       "</style>\n",
       "<table border=\"1\" class=\"dataframe\">\n",
       "  <thead>\n",
       "    <tr style=\"text-align: right;\">\n",
       "      <th></th>\n",
       "      <th>count</th>\n",
       "      <th>mean</th>\n",
       "      <th>std</th>\n",
       "      <th>min</th>\n",
       "      <th>25%</th>\n",
       "      <th>50%</th>\n",
       "      <th>75%</th>\n",
       "      <th>max</th>\n",
       "    </tr>\n",
       "  </thead>\n",
       "  <tbody>\n",
       "    <tr>\n",
       "      <th>fixed acidity</th>\n",
       "      <td>3155.0</td>\n",
       "      <td>7.221616</td>\n",
       "      <td>1.325297</td>\n",
       "      <td>3.80000</td>\n",
       "      <td>6.40000</td>\n",
       "      <td>7.00000</td>\n",
       "      <td>7.7000</td>\n",
       "      <td>15.60000</td>\n",
       "    </tr>\n",
       "    <tr>\n",
       "      <th>volatile acidity</th>\n",
       "      <td>3155.0</td>\n",
       "      <td>0.338929</td>\n",
       "      <td>0.162476</td>\n",
       "      <td>0.08000</td>\n",
       "      <td>0.23000</td>\n",
       "      <td>0.29000</td>\n",
       "      <td>0.4000</td>\n",
       "      <td>1.24000</td>\n",
       "    </tr>\n",
       "    <tr>\n",
       "      <th>citric acid</th>\n",
       "      <td>3155.0</td>\n",
       "      <td>0.321569</td>\n",
       "      <td>0.147970</td>\n",
       "      <td>0.00000</td>\n",
       "      <td>0.25000</td>\n",
       "      <td>0.31000</td>\n",
       "      <td>0.4000</td>\n",
       "      <td>1.66000</td>\n",
       "    </tr>\n",
       "    <tr>\n",
       "      <th>residual sugar</th>\n",
       "      <td>3155.0</td>\n",
       "      <td>5.155911</td>\n",
       "      <td>4.639632</td>\n",
       "      <td>0.60000</td>\n",
       "      <td>1.80000</td>\n",
       "      <td>2.80000</td>\n",
       "      <td>7.6500</td>\n",
       "      <td>65.80000</td>\n",
       "    </tr>\n",
       "    <tr>\n",
       "      <th>chlorides</th>\n",
       "      <td>3155.0</td>\n",
       "      <td>0.056976</td>\n",
       "      <td>0.036802</td>\n",
       "      <td>0.01200</td>\n",
       "      <td>0.03800</td>\n",
       "      <td>0.04700</td>\n",
       "      <td>0.0660</td>\n",
       "      <td>0.61100</td>\n",
       "    </tr>\n",
       "    <tr>\n",
       "      <th>free sulfur dioxide</th>\n",
       "      <td>3155.0</td>\n",
       "      <td>30.388590</td>\n",
       "      <td>17.236784</td>\n",
       "      <td>1.00000</td>\n",
       "      <td>17.00000</td>\n",
       "      <td>28.00000</td>\n",
       "      <td>41.0000</td>\n",
       "      <td>131.00000</td>\n",
       "    </tr>\n",
       "    <tr>\n",
       "      <th>total sulfur dioxide</th>\n",
       "      <td>3155.0</td>\n",
       "      <td>115.062282</td>\n",
       "      <td>56.706617</td>\n",
       "      <td>6.00000</td>\n",
       "      <td>75.00000</td>\n",
       "      <td>117.00000</td>\n",
       "      <td>156.0000</td>\n",
       "      <td>344.00000</td>\n",
       "    </tr>\n",
       "    <tr>\n",
       "      <th>density</th>\n",
       "      <td>3155.0</td>\n",
       "      <td>0.994633</td>\n",
       "      <td>0.003005</td>\n",
       "      <td>0.98711</td>\n",
       "      <td>0.99232</td>\n",
       "      <td>0.99481</td>\n",
       "      <td>0.9968</td>\n",
       "      <td>1.03898</td>\n",
       "    </tr>\n",
       "    <tr>\n",
       "      <th>pH</th>\n",
       "      <td>3155.0</td>\n",
       "      <td>3.223201</td>\n",
       "      <td>0.161272</td>\n",
       "      <td>2.72000</td>\n",
       "      <td>3.11000</td>\n",
       "      <td>3.21000</td>\n",
       "      <td>3.3300</td>\n",
       "      <td>4.01000</td>\n",
       "    </tr>\n",
       "    <tr>\n",
       "      <th>sulphates</th>\n",
       "      <td>3155.0</td>\n",
       "      <td>0.534051</td>\n",
       "      <td>0.149149</td>\n",
       "      <td>0.22000</td>\n",
       "      <td>0.43000</td>\n",
       "      <td>0.51000</td>\n",
       "      <td>0.6000</td>\n",
       "      <td>1.95000</td>\n",
       "    </tr>\n",
       "    <tr>\n",
       "      <th>alcohol</th>\n",
       "      <td>3155.0</td>\n",
       "      <td>10.504466</td>\n",
       "      <td>1.154654</td>\n",
       "      <td>8.50000</td>\n",
       "      <td>9.50000</td>\n",
       "      <td>10.30000</td>\n",
       "      <td>11.3000</td>\n",
       "      <td>14.00000</td>\n",
       "    </tr>\n",
       "  </tbody>\n",
       "</table>\n",
       "</div>"
      ],
      "text/plain": [
       "                       count        mean        std      min       25%  \\\n",
       "fixed acidity         3155.0    7.221616   1.325297  3.80000   6.40000   \n",
       "volatile acidity      3155.0    0.338929   0.162476  0.08000   0.23000   \n",
       "citric acid           3155.0    0.321569   0.147970  0.00000   0.25000   \n",
       "residual sugar        3155.0    5.155911   4.639632  0.60000   1.80000   \n",
       "chlorides             3155.0    0.056976   0.036802  0.01200   0.03800   \n",
       "free sulfur dioxide   3155.0   30.388590  17.236784  1.00000  17.00000   \n",
       "total sulfur dioxide  3155.0  115.062282  56.706617  6.00000  75.00000   \n",
       "density               3155.0    0.994633   0.003005  0.98711   0.99232   \n",
       "pH                    3155.0    3.223201   0.161272  2.72000   3.11000   \n",
       "sulphates             3155.0    0.534051   0.149149  0.22000   0.43000   \n",
       "alcohol               3155.0   10.504466   1.154654  8.50000   9.50000   \n",
       "\n",
       "                            50%       75%        max  \n",
       "fixed acidity           7.00000    7.7000   15.60000  \n",
       "volatile acidity        0.29000    0.4000    1.24000  \n",
       "citric acid             0.31000    0.4000    1.66000  \n",
       "residual sugar          2.80000    7.6500   65.80000  \n",
       "chlorides               0.04700    0.0660    0.61100  \n",
       "free sulfur dioxide    28.00000   41.0000  131.00000  \n",
       "total sulfur dioxide  117.00000  156.0000  344.00000  \n",
       "density                 0.99481    0.9968    1.03898  \n",
       "pH                      3.21000    3.3300    4.01000  \n",
       "sulphates               0.51000    0.6000    1.95000  \n",
       "alcohol                10.30000   11.3000   14.00000  "
      ]
     },
     "execution_count": 21,
     "metadata": {},
     "output_type": "execute_result"
    }
   ],
   "source": [
    "train_stats"
   ]
  },
  {
   "cell_type": "markdown",
   "metadata": {
    "colab_type": "text",
    "id": "bGPvt9jir_HC"
   },
   "source": [
    "### Get the labels (TODO)\n",
    "\n",
    "The features and labels are currently in the same dataframe.\n",
    "- You will want to store the label columns `is_red` and `quality` separately from the feature columns.  \n",
    "- The following function, `format_output`, gets these two columns from the dataframe (it's given to you).\n",
    "- `format_output` also formats the data into numpy arrays. \n",
    "- Please use the `format_output` and apply it to the `train`, `val` and `test` sets to get dataframes for the labels."
   ]
  },
  {
   "cell_type": "code",
   "execution_count": 22,
   "metadata": {
    "colab": {},
    "colab_type": "code",
    "id": "Z_fs14XQqZVP"
   },
   "outputs": [],
   "source": [
    "def format_output(data):\n",
    "    is_red = data.pop('is_red')\n",
    "    is_red = np.array(is_red)\n",
    "    quality = data.pop('quality')\n",
    "    quality = np.array(quality)\n",
    "    return (quality, is_red)"
   ]
  },
  {
   "cell_type": "code",
   "execution_count": 23,
   "metadata": {
    "colab": {},
    "colab_type": "code",
    "deletable": false,
    "id": "8L3ZZe1fQicm",
    "nbgrader": {
     "cell_type": "code",
     "checksum": "7a86809e54895a816434c48dc903f55d",
     "grade": false,
     "grade_id": "cell-5c30fa2c2a354b0f",
     "locked": false,
     "schema_version": 3,
     "solution": true,
     "task": false
    }
   },
   "outputs": [],
   "source": [
    "# Please uncomment all lines in this cell and replace those marked with `# YOUR CODE HERE`.\n",
    "# You can select all lines in this code cell with Ctrl+A (Windows/Linux) or Cmd+A (Mac), then press Ctrl+/ (Windows/Linux) or Cmd+/ (Mac) to uncomment.\n",
    "\n",
    "\n",
    "\n",
    "# format the output of the train set\n",
    "train_Y = format_output(train)\n",
    "\n",
    "# format the output of the val set\n",
    "val_Y = format_output(val)\n",
    "    \n",
    "# format the output of the test set\n",
    "test_Y = format_output(test)"
   ]
  },
  {
   "cell_type": "code",
   "execution_count": 24,
   "metadata": {
    "deletable": false,
    "editable": false,
    "nbgrader": {
     "cell_type": "code",
     "checksum": "359cabbafaed14ec9bbc1e57a7b6f32c",
     "grade": true,
     "grade_id": "cell-4977d8befb80f56b",
     "locked": true,
     "points": 1,
     "schema_version": 3,
     "solution": false,
     "task": false
    }
   },
   "outputs": [
    {
     "name": "stdout",
     "output_type": "stream",
     "text": [
      "\u001b[92m All public tests passed\n"
     ]
    }
   ],
   "source": [
    "utils.test_format_output(df, train_Y, val_Y, test_Y)"
   ]
  },
  {
   "cell_type": "markdown",
   "metadata": {},
   "source": [
    "Notice that after you get the labels, the `train`, `val` and `test` dataframes no longer contain the label columns, and contain just the feature columns.\n",
    "- This is because you used `.pop` in the `format_output` function."
   ]
  },
  {
   "cell_type": "code",
   "execution_count": 20,
   "metadata": {},
   "outputs": [
    {
     "data": {
      "text/html": [
       "<div>\n",
       "<style scoped>\n",
       "    .dataframe tbody tr th:only-of-type {\n",
       "        vertical-align: middle;\n",
       "    }\n",
       "\n",
       "    .dataframe tbody tr th {\n",
       "        vertical-align: top;\n",
       "    }\n",
       "\n",
       "    .dataframe thead th {\n",
       "        text-align: right;\n",
       "    }\n",
       "</style>\n",
       "<table border=\"1\" class=\"dataframe\">\n",
       "  <thead>\n",
       "    <tr style=\"text-align: right;\">\n",
       "      <th></th>\n",
       "      <th>fixed acidity</th>\n",
       "      <th>volatile acidity</th>\n",
       "      <th>citric acid</th>\n",
       "      <th>residual sugar</th>\n",
       "      <th>chlorides</th>\n",
       "      <th>free sulfur dioxide</th>\n",
       "      <th>total sulfur dioxide</th>\n",
       "      <th>density</th>\n",
       "      <th>pH</th>\n",
       "      <th>sulphates</th>\n",
       "      <th>alcohol</th>\n",
       "    </tr>\n",
       "  </thead>\n",
       "  <tbody>\n",
       "    <tr>\n",
       "      <th>225</th>\n",
       "      <td>7.5</td>\n",
       "      <td>0.65</td>\n",
       "      <td>0.18</td>\n",
       "      <td>7.0</td>\n",
       "      <td>0.088</td>\n",
       "      <td>27.0</td>\n",
       "      <td>94.0</td>\n",
       "      <td>0.99915</td>\n",
       "      <td>3.38</td>\n",
       "      <td>0.77</td>\n",
       "      <td>9.4</td>\n",
       "    </tr>\n",
       "    <tr>\n",
       "      <th>3557</th>\n",
       "      <td>6.3</td>\n",
       "      <td>0.27</td>\n",
       "      <td>0.29</td>\n",
       "      <td>12.2</td>\n",
       "      <td>0.044</td>\n",
       "      <td>59.0</td>\n",
       "      <td>196.0</td>\n",
       "      <td>0.99782</td>\n",
       "      <td>3.14</td>\n",
       "      <td>0.40</td>\n",
       "      <td>8.8</td>\n",
       "    </tr>\n",
       "    <tr>\n",
       "      <th>3825</th>\n",
       "      <td>8.8</td>\n",
       "      <td>0.27</td>\n",
       "      <td>0.25</td>\n",
       "      <td>5.0</td>\n",
       "      <td>0.024</td>\n",
       "      <td>52.0</td>\n",
       "      <td>99.0</td>\n",
       "      <td>0.99250</td>\n",
       "      <td>2.87</td>\n",
       "      <td>0.49</td>\n",
       "      <td>11.4</td>\n",
       "    </tr>\n",
       "    <tr>\n",
       "      <th>1740</th>\n",
       "      <td>6.4</td>\n",
       "      <td>0.45</td>\n",
       "      <td>0.07</td>\n",
       "      <td>1.1</td>\n",
       "      <td>0.030</td>\n",
       "      <td>10.0</td>\n",
       "      <td>131.0</td>\n",
       "      <td>0.99050</td>\n",
       "      <td>2.97</td>\n",
       "      <td>0.28</td>\n",
       "      <td>10.8</td>\n",
       "    </tr>\n",
       "    <tr>\n",
       "      <th>1221</th>\n",
       "      <td>7.2</td>\n",
       "      <td>0.53</td>\n",
       "      <td>0.13</td>\n",
       "      <td>2.0</td>\n",
       "      <td>0.058</td>\n",
       "      <td>18.0</td>\n",
       "      <td>22.0</td>\n",
       "      <td>0.99573</td>\n",
       "      <td>3.21</td>\n",
       "      <td>0.68</td>\n",
       "      <td>9.9</td>\n",
       "    </tr>\n",
       "  </tbody>\n",
       "</table>\n",
       "</div>"
      ],
      "text/plain": [
       "      fixed acidity  volatile acidity  citric acid  residual sugar  chlorides  \\\n",
       "225             7.5              0.65         0.18             7.0      0.088   \n",
       "3557            6.3              0.27         0.29            12.2      0.044   \n",
       "3825            8.8              0.27         0.25             5.0      0.024   \n",
       "1740            6.4              0.45         0.07             1.1      0.030   \n",
       "1221            7.2              0.53         0.13             2.0      0.058   \n",
       "\n",
       "      free sulfur dioxide  total sulfur dioxide  density    pH  sulphates  \\\n",
       "225                  27.0                  94.0  0.99915  3.38       0.77   \n",
       "3557                 59.0                 196.0  0.99782  3.14       0.40   \n",
       "3825                 52.0                  99.0  0.99250  2.87       0.49   \n",
       "1740                 10.0                 131.0  0.99050  2.97       0.28   \n",
       "1221                 18.0                  22.0  0.99573  3.21       0.68   \n",
       "\n",
       "      alcohol  \n",
       "225       9.4  \n",
       "3557      8.8  \n",
       "3825     11.4  \n",
       "1740     10.8  \n",
       "1221      9.9  "
      ]
     },
     "execution_count": 20,
     "metadata": {},
     "output_type": "execute_result"
    }
   ],
   "source": [
    "train.head()"
   ]
  },
  {
   "cell_type": "markdown",
   "metadata": {
    "colab_type": "text",
    "id": "hEdbrruAsN1D"
   },
   "source": [
    "### Normalize the data (TODO)\n",
    "\n",
    "Next, you can normalize the data, x, using the formula:\n",
    "$$x_{norm} = \\frac{x - \\mu}{\\sigma}$$\n",
    "- The `norm` function is defined for you.\n",
    "- Please apply the `norm` function to normalize the dataframes that contains the feature columns of `train`, `val` and `test` sets."
   ]
  },
  {
   "cell_type": "code",
   "execution_count": 25,
   "metadata": {
    "colab": {},
    "colab_type": "code",
    "id": "WWiZPAHCLjUs"
   },
   "outputs": [],
   "source": [
    "def norm(x):\n",
    "    return (x - train_stats['mean']) / train_stats['std']"
   ]
  },
  {
   "cell_type": "code",
   "execution_count": 26,
   "metadata": {
    "colab": {},
    "colab_type": "code",
    "deletable": false,
    "id": "JEaOi2I2Lk69",
    "nbgrader": {
     "cell_type": "code",
     "checksum": "6bc0cdcb563d192f271067aa3373ff32",
     "grade": false,
     "grade_id": "cell-d8416d975c371095",
     "locked": false,
     "schema_version": 3,
     "solution": true,
     "task": false
    }
   },
   "outputs": [],
   "source": [
    "# Please uncomment all lines in this cell and replace those marked with `# YOUR CODE HERE`.\n",
    "# You can select all lines in this code cell with Ctrl+A (Windows/Linux) or Cmd+A (Mac), then press Ctrl+/ (Windows/Linux) or Cmd+/ (Mac) to uncomment.\n",
    "\n",
    "\n",
    "\n",
    "# normalize the train set\n",
    "norm_train_X = norm(train)\n",
    "    \n",
    "# normalize the val set\n",
    "norm_val_X = norm(val)\n",
    "    \n",
    "# normalize the test set\n",
    "norm_test_X = norm(test)"
   ]
  },
  {
   "cell_type": "code",
   "execution_count": 98,
   "metadata": {
    "deletable": false,
    "editable": false,
    "nbgrader": {
     "cell_type": "code",
     "checksum": "4f567db45bf40191601780379cc100b8",
     "grade": true,
     "grade_id": "cell-97fad979d157529b",
     "locked": true,
     "points": 1,
     "schema_version": 3,
     "solution": false,
     "task": false
    }
   },
   "outputs": [
    {
     "name": "stdout",
     "output_type": "stream",
     "text": [
      "\u001b[92m All public tests passed\n"
     ]
    }
   ],
   "source": [
    "utils.test_norm(norm_train_X, norm_val_X, norm_test_X, train, val, test)\n"
   ]
  },
  {
   "cell_type": "markdown",
   "metadata": {
    "colab_type": "text",
    "id": "hzykDwQhsaPO"
   },
   "source": [
    "## Define the Model (TODO)\n",
    "\n",
    "Define the model using the functional API. The base model will be 2 `Dense` layers of 128 neurons each, and have the `'relu'` activation.\n",
    "- Check out the documentation for [tf.keras.layers.Dense](https://www.tensorflow.org/api_docs/python/tf/keras/layers/Dense)"
   ]
  },
  {
   "cell_type": "code",
   "execution_count": 42,
   "metadata": {
    "colab": {},
    "colab_type": "code",
    "deletable": false,
    "id": "Rhcns3oTFkM6",
    "nbgrader": {
     "cell_type": "code",
     "checksum": "74b031247e569526552bf13a034a1c07",
     "grade": false,
     "grade_id": "cell-73fceedad1fe351c",
     "locked": false,
     "schema_version": 3,
     "solution": true,
     "task": false
    }
   },
   "outputs": [],
   "source": [
    "def base_model(inputs):\n",
    " \n",
    "    # connect a Dense layer with 128 neurons and a relu activation\n",
    "    # connect another Dense layer with 128 neurons and a relu activation\n",
    "\n",
    "    x = tf.keras.layers.Dense(128,activation='relu')(inputs)\n",
    "    x = tf.keras.layers.Dense(128,activation='relu')(x)\n",
    "\n",
    "    \n",
    "    return x"
   ]
  },
  {
   "cell_type": "code",
   "execution_count": 43,
   "metadata": {
    "deletable": false,
    "editable": false,
    "nbgrader": {
     "cell_type": "code",
     "checksum": "9255924b3def80f679616e4c851a43e1",
     "grade": true,
     "grade_id": "cell-54f742a133353d75",
     "locked": true,
     "points": 1,
     "schema_version": 3,
     "solution": false,
     "task": false
    }
   },
   "outputs": [
    {
     "name": "stdout",
     "output_type": "stream",
     "text": [
      "return_type_check: Return type is incorrect. Please check implementation.\n",
      "Expected: <class 'tensorflow.python.framework.ops.Tensor'>\n",
      "Result: <class 'keras.engine.keras_tensor.KerasTensor'>\n",
      "Please open utils.py if you want to see the unit test here.\n",
      "\n",
      "\u001b[92m 5  Tests passed\n",
      "\u001b[91m 1  Tests failed\n"
     ]
    },
    {
     "ename": "Exception",
     "evalue": "Output layer type is incorrect. Please check implementation.",
     "output_type": "error",
     "traceback": [
      "\u001b[1;31m---------------------------------------------------------------------------\u001b[0m",
      "\u001b[1;31mException\u001b[0m                                 Traceback (most recent call last)",
      "Input \u001b[1;32mIn [43]\u001b[0m, in \u001b[0;36m<cell line: 1>\u001b[1;34m()\u001b[0m\n\u001b[1;32m----> 1\u001b[0m \u001b[43mutils\u001b[49m\u001b[38;5;241;43m.\u001b[39;49m\u001b[43mtest_base_model\u001b[49m\u001b[43m(\u001b[49m\u001b[43mbase_model\u001b[49m\u001b[43m)\u001b[49m\n",
      "File \u001b[1;32m~\\Jupyter\\TensorFlow-Advanced-Techniques-Specialization\\Course 1 - Custom Models, Layers, and Loss Functions with TensorFlow\\Week 1\\utils.py:259\u001b[0m, in \u001b[0;36mtest_base_model\u001b[1;34m(base_model)\u001b[0m\n\u001b[0;32m    218\u001b[0m test_model \u001b[38;5;241m=\u001b[39m Model(inputs\u001b[38;5;241m=\u001b[39mtest_inputs, outputs\u001b[38;5;241m=\u001b[39mtest_output)\n\u001b[0;32m    220\u001b[0m test_cases \u001b[38;5;241m=\u001b[39m [\n\u001b[0;32m    221\u001b[0m     {\n\u001b[0;32m    222\u001b[0m         \u001b[38;5;124m\"\u001b[39m\u001b[38;5;124mname\u001b[39m\u001b[38;5;124m\"\u001b[39m: \u001b[38;5;124m\"\u001b[39m\u001b[38;5;124mreturn_type_check\u001b[39m\u001b[38;5;124m\"\u001b[39m,\n\u001b[1;32m   (...)\u001b[0m\n\u001b[0;32m    256\u001b[0m     },\n\u001b[0;32m    257\u001b[0m ]\n\u001b[1;32m--> 259\u001b[0m \u001b[43mtest_loop\u001b[49m\u001b[43m(\u001b[49m\u001b[43mtest_cases\u001b[49m\u001b[43m)\u001b[49m\n",
      "File \u001b[1;32m~\\Jupyter\\TensorFlow-Advanced-Techniques-Specialization\\Course 1 - Custom Models, Layers, and Loss Functions with TensorFlow\\Week 1\\utils.py:27\u001b[0m, in \u001b[0;36mtest_loop\u001b[1;34m(test_cases)\u001b[0m\n\u001b[0;32m     25\u001b[0m \u001b[38;5;28mprint\u001b[39m(\u001b[38;5;124m'\u001b[39m\u001b[38;5;130;01m\\033\u001b[39;00m\u001b[38;5;124m[92m\u001b[39m\u001b[38;5;124m'\u001b[39m, success,\u001b[38;5;124m\"\u001b[39m\u001b[38;5;124m Tests passed\u001b[39m\u001b[38;5;124m\"\u001b[39m)\n\u001b[0;32m     26\u001b[0m \u001b[38;5;28mprint\u001b[39m(\u001b[38;5;124m'\u001b[39m\u001b[38;5;130;01m\\033\u001b[39;00m\u001b[38;5;124m[91m\u001b[39m\u001b[38;5;124m'\u001b[39m, fails, \u001b[38;5;124m\"\u001b[39m\u001b[38;5;124m Tests failed\u001b[39m\u001b[38;5;124m\"\u001b[39m)\n\u001b[1;32m---> 27\u001b[0m \u001b[38;5;28;01mraise\u001b[39;00m \u001b[38;5;167;01mException\u001b[39;00m(test_case[\u001b[38;5;124m\"\u001b[39m\u001b[38;5;124merror_message\u001b[39m\u001b[38;5;124m\"\u001b[39m])\n",
      "\u001b[1;31mException\u001b[0m: Output layer type is incorrect. Please check implementation."
     ]
    }
   ],
   "source": [
    "utils.test_base_model(base_model)"
   ]
  },
  {
   "cell_type": "markdown",
   "metadata": {
    "colab_type": "text",
    "id": "xem_fcVws6Kz"
   },
   "source": [
    "# Define output layers of the model (TODO)\n",
    "\n",
    "You will add output layers to the base model. \n",
    "- The model will need two outputs.\n",
    "\n",
    "One output layer will predict wine quality, which is a numeric value.\n",
    "- Define a `Dense` layer with 1 neuron.\n",
    "- Since this is a regression output, the activation can be left as its default value `None`.\n",
    "\n",
    "The other output layer will predict the wine type, which is either red `1` or not red `0` (white).\n",
    "- Define a `Dense` layer with 1 neuron.\n",
    "- Since there are two possible categories, you can use a sigmoid activation for binary classification.\n",
    "\n",
    "Define the `Model`\n",
    "- Define the `Model` object, and set the following parameters:\n",
    "  - `inputs`: pass in the inputs to the model as a list.\n",
    "  - `outputs`: pass in a list of the outputs that you just defined: wine quality, then wine type.\n",
    "  - **Note**: please list the wine quality before wine type in the outputs, as this will affect the calculated loss if you choose the other order."
   ]
  },
  {
   "cell_type": "code",
   "execution_count": 44,
   "metadata": {
    "colab": {},
    "colab_type": "code",
    "deletable": false,
    "id": "n5UGF8PMVLPt",
    "nbgrader": {
     "cell_type": "code",
     "checksum": "76d35b90d20cdcbb22986cd8211057de",
     "grade": false,
     "grade_id": "cell-19e285f482f021fb",
     "locked": false,
     "schema_version": 3,
     "solution": true,
     "task": false
    }
   },
   "outputs": [],
   "source": [
    "# Please uncomment all lines in this cell and replace those marked with `# YOUR CODE HERE`.\n",
    "# You can select all lines in this code cell with Ctrl+A (Windows/Linux) or Cmd+A (Mac), then press Ctrl+/ (Windows/Linux) or Cmd+/ (Mac) to uncomment.\n",
    "\n",
    "\n",
    "\n",
    "def final_model(inputs):\n",
    "    \n",
    "    # get the base model\n",
    "    x = base_model(inputs)\n",
    "\n",
    "    # connect the output Dense layer for regression\n",
    "    wine_quality = Dense(units='1', name='wine_quality', activation=None)(x)\n",
    "\n",
    "    # connect the output Dense layer for classification. this will use a sigmoid activation.\n",
    "    wine_type = Dense(units='1', activation='sigmoid', name='wine_type')(x)\n",
    "\n",
    "    # define the model using the input and output layers\n",
    "    model = Model(inputs=inputs, outputs=[wine_quality, wine_type])\n",
    "\n",
    "    return model"
   ]
  },
  {
   "cell_type": "code",
   "execution_count": 45,
   "metadata": {
    "deletable": false,
    "editable": false,
    "nbgrader": {
     "cell_type": "code",
     "checksum": "89cbf89d8ab5e2e59ecf7f63f517520a",
     "grade": true,
     "grade_id": "cell-40d050f855c817d1",
     "locked": true,
     "points": 1,
     "schema_version": 3,
     "solution": false,
     "task": false
    }
   },
   "outputs": [
    {
     "name": "stdout",
     "output_type": "stream",
     "text": [
      "return_type_check: Return type is incorrect. Please check implementation.\n",
      "Expected: <class 'keras.engine.training.Model'>\n",
      "Result: <class 'keras.engine.functional.Functional'>\n",
      "Please open utils.py if you want to see the unit test here.\n",
      "\n",
      "\u001b[92m 1  Tests passed\n",
      "\u001b[91m 1  Tests failed\n"
     ]
    },
    {
     "ename": "Exception",
     "evalue": "wine_quality layer has an incorrect activation. Please check implementation.",
     "output_type": "error",
     "traceback": [
      "\u001b[1;31m---------------------------------------------------------------------------\u001b[0m",
      "\u001b[1;31mException\u001b[0m                                 Traceback (most recent call last)",
      "Input \u001b[1;32mIn [45]\u001b[0m, in \u001b[0;36m<cell line: 1>\u001b[1;34m()\u001b[0m\n\u001b[1;32m----> 1\u001b[0m \u001b[43mutils\u001b[49m\u001b[38;5;241;43m.\u001b[39;49m\u001b[43mtest_final_model\u001b[49m\u001b[43m(\u001b[49m\u001b[43mfinal_model\u001b[49m\u001b[43m)\u001b[49m\n",
      "File \u001b[1;32m~\\Jupyter\\TensorFlow-Advanced-Techniques-Specialization\\Course 1 - Custom Models, Layers, and Loss Functions with TensorFlow\\Week 1\\utils.py:281\u001b[0m, in \u001b[0;36mtest_final_model\u001b[1;34m(final_model)\u001b[0m\n\u001b[0;32m    264\u001b[0m test_output \u001b[38;5;241m=\u001b[39m final_model(test_inputs)\n\u001b[0;32m    266\u001b[0m test_cases \u001b[38;5;241m=\u001b[39m [\n\u001b[0;32m    267\u001b[0m     {\n\u001b[0;32m    268\u001b[0m         \u001b[38;5;124m\"\u001b[39m\u001b[38;5;124mname\u001b[39m\u001b[38;5;124m\"\u001b[39m: \u001b[38;5;124m\"\u001b[39m\u001b[38;5;124mreturn_type_check\u001b[39m\u001b[38;5;124m\"\u001b[39m,\n\u001b[1;32m   (...)\u001b[0m\n\u001b[0;32m    278\u001b[0m     },\n\u001b[0;32m    279\u001b[0m ]\n\u001b[1;32m--> 281\u001b[0m \u001b[43mtest_loop\u001b[49m\u001b[43m(\u001b[49m\u001b[43mtest_cases\u001b[49m\u001b[43m)\u001b[49m\n",
      "File \u001b[1;32m~\\Jupyter\\TensorFlow-Advanced-Techniques-Specialization\\Course 1 - Custom Models, Layers, and Loss Functions with TensorFlow\\Week 1\\utils.py:27\u001b[0m, in \u001b[0;36mtest_loop\u001b[1;34m(test_cases)\u001b[0m\n\u001b[0;32m     25\u001b[0m \u001b[38;5;28mprint\u001b[39m(\u001b[38;5;124m'\u001b[39m\u001b[38;5;130;01m\\033\u001b[39;00m\u001b[38;5;124m[92m\u001b[39m\u001b[38;5;124m'\u001b[39m, success,\u001b[38;5;124m\"\u001b[39m\u001b[38;5;124m Tests passed\u001b[39m\u001b[38;5;124m\"\u001b[39m)\n\u001b[0;32m     26\u001b[0m \u001b[38;5;28mprint\u001b[39m(\u001b[38;5;124m'\u001b[39m\u001b[38;5;130;01m\\033\u001b[39;00m\u001b[38;5;124m[91m\u001b[39m\u001b[38;5;124m'\u001b[39m, fails, \u001b[38;5;124m\"\u001b[39m\u001b[38;5;124m Tests failed\u001b[39m\u001b[38;5;124m\"\u001b[39m)\n\u001b[1;32m---> 27\u001b[0m \u001b[38;5;28;01mraise\u001b[39;00m \u001b[38;5;167;01mException\u001b[39;00m(test_case[\u001b[38;5;124m\"\u001b[39m\u001b[38;5;124merror_message\u001b[39m\u001b[38;5;124m\"\u001b[39m])\n",
      "\u001b[1;31mException\u001b[0m: wine_quality layer has an incorrect activation. Please check implementation."
     ]
    }
   ],
   "source": [
    "utils.test_final_model(final_model)"
   ]
  },
  {
   "cell_type": "markdown",
   "metadata": {
    "colab_type": "text",
    "id": "5R0BMTsltZyu"
   },
   "source": [
    "## Compiling the Model\n",
    "\n",
    "Next, compile the model. When setting the loss parameter of `model.compile`, you're setting the loss for each of the two outputs (wine quality and wine type).\n",
    "\n",
    "To set more than one loss, use a dictionary of key-value pairs.\n",
    "- You can look at the docs for the losses [here](https://www.tensorflow.org/api_docs/python/tf/keras/losses#functions).\n",
    "    - **Note**: For the desired spelling, please look at the \"Functions\" section of the documentation and not the \"classes\" section on that same page.\n",
    "- wine_type: Since you will be performing binary classification on wine type, you should use the binary crossentropy loss function for it.  Please pass this in as a string.  \n",
    "  - **Hint**, this should be all lowercase.  In the documentation, you'll see this under the \"Functions\" section, not the \"Classes\" section.\n",
    "- wine_quality: since this is a regression output, use the mean squared error.  Please pass it in as a string, all lowercase.\n",
    "  - **Hint**: You may notice that there are two aliases for mean squared error.  Please use the shorter name.\n",
    "\n",
    "\n",
    "You will also set the metric for each of the two outputs.  Again, to set metrics for two or more outputs, use a dictionary with key value pairs.\n",
    "- The metrics documentation is linked [here](https://www.tensorflow.org/api_docs/python/tf/keras/metrics).\n",
    "- For the wine type, please set it to accuracy as a string, all lowercase.\n",
    "- For wine quality, please use the root mean squared error.  Instead of a string, you'll set it to an instance of the class [RootMeanSquaredError](https://www.tensorflow.org/api_docs/python/tf/keras/metrics/RootMeanSquaredError), which belongs to the tf.keras.metrics module.\n",
    "\n",
    "**Note**: If you see the error message \n",
    ">Exception: wine quality loss function is incorrect.\n",
    "\n",
    "- Please also check your other losses and metrics, as the error may be caused by the other three key-value pairs and not the wine quality loss."
   ]
  },
  {
   "cell_type": "code",
   "execution_count": 49,
   "metadata": {
    "colab": {},
    "colab_type": "code",
    "deletable": false,
    "id": "LK11duUbUjmh",
    "nbgrader": {
     "cell_type": "code",
     "checksum": "22f45067ca69eb2ccadb43874dbcc27b",
     "grade": false,
     "grade_id": "cell-81afdc4dcca51d5e",
     "locked": false,
     "schema_version": 3,
     "solution": true,
     "task": false
    }
   },
   "outputs": [
    {
     "data": {
      "text/plain": [
       "[array([[-0.11635119],\n",
       "        [-0.18928865],\n",
       "        [-0.13417056],\n",
       "        ...,\n",
       "        [ 0.03467327],\n",
       "        [-0.07414717],\n",
       "        [-0.12160444]], dtype=float32),\n",
       " array([[0.6438722 ],\n",
       "        [0.5963608 ],\n",
       "        [0.6220446 ],\n",
       "        ...,\n",
       "        [0.7123827 ],\n",
       "        [0.61167645],\n",
       "        [0.53522205]], dtype=float32)]"
      ]
     },
     "execution_count": 49,
     "metadata": {},
     "output_type": "execute_result"
    }
   ],
   "source": [
    "# Please uncomment all lines in this cell and replace those marked with `# YOUR CODE HERE`.\n",
    "# You can select all lines in this code cell with Ctrl+A (Windows/Linux) or Cmd+A (Mac), then press Ctrl+/ (Windows/Linux) or Cmd+/ (Mac) to uncomment.\n",
    "\n",
    "\n",
    "\n",
    "inputs = tf.keras.layers.Input(shape=(11,))\n",
    "rms = tf.keras.optimizers.RMSprop(learning_rate=0.0001)\n",
    "model = final_model(inputs)\n",
    "\n",
    "model.compile(optimizer=rms, \n",
    "              loss = {'wine_type' : 'binary_crossentropy',\n",
    "                      'wine_quality' : 'mean_squared_error'\n",
    "                     },\n",
    "              metrics = {'wine_type' : 'accuracy',\n",
    "                         'wine_quality': tf.keras.metrics.RootMeanSquaredError()\n",
    "                       }\n",
    "             )\n",
    "\n",
    "model.predict(norm_train_X)\n"
   ]
  },
  {
   "cell_type": "code",
   "execution_count": 47,
   "metadata": {
    "deletable": false,
    "editable": false,
    "nbgrader": {
     "cell_type": "code",
     "checksum": "88e02238ea5e456ff65e835cc8158054",
     "grade": true,
     "grade_id": "cell-2eeeba02391c4632",
     "locked": true,
     "points": 1,
     "schema_version": 3,
     "solution": false,
     "task": false
    }
   },
   "outputs": [
    {
     "ename": "IndexError",
     "evalue": "list index out of range",
     "output_type": "error",
     "traceback": [
      "\u001b[1;31m---------------------------------------------------------------------------\u001b[0m",
      "\u001b[1;31mIndexError\u001b[0m                                Traceback (most recent call last)",
      "Input \u001b[1;32mIn [47]\u001b[0m, in \u001b[0;36m<cell line: 1>\u001b[1;34m()\u001b[0m\n\u001b[1;32m----> 1\u001b[0m \u001b[43mutils\u001b[49m\u001b[38;5;241;43m.\u001b[39;49m\u001b[43mtest_model_compile\u001b[49m\u001b[43m(\u001b[49m\u001b[43mmodel\u001b[49m\u001b[43m)\u001b[49m\n",
      "File \u001b[1;32m~\\Jupyter\\TensorFlow-Advanced-Techniques-Specialization\\Course 1 - Custom Models, Layers, and Loss Functions with TensorFlow\\Week 1\\utils.py:290\u001b[0m, in \u001b[0;36mtest_model_compile\u001b[1;34m(model)\u001b[0m\n\u001b[0;32m    283\u001b[0m \u001b[38;5;28;01mdef\u001b[39;00m \u001b[38;5;21mtest_model_compile\u001b[39m(model):\n\u001b[0;32m    285\u001b[0m     \u001b[38;5;28;01mfrom\u001b[39;00m \u001b[38;5;21;01mtensorflow\u001b[39;00m\u001b[38;5;21;01m.\u001b[39;00m\u001b[38;5;21;01mpython\u001b[39;00m\u001b[38;5;21;01m.\u001b[39;00m\u001b[38;5;21;01mkeras\u001b[39;00m\u001b[38;5;21;01m.\u001b[39;00m\u001b[38;5;21;01mmetrics\u001b[39;00m \u001b[38;5;28;01mimport\u001b[39;00m MeanMetricWrapper\n\u001b[0;32m    287\u001b[0m     test_cases \u001b[38;5;241m=\u001b[39m [\n\u001b[0;32m    288\u001b[0m         {\n\u001b[0;32m    289\u001b[0m             \u001b[38;5;124m\"\u001b[39m\u001b[38;5;124mname\u001b[39m\u001b[38;5;124m\"\u001b[39m: \u001b[38;5;124m\"\u001b[39m\u001b[38;5;124mmetrics_0_check\u001b[39m\u001b[38;5;124m\"\u001b[39m,\n\u001b[1;32m--> 290\u001b[0m             \u001b[38;5;124m\"\u001b[39m\u001b[38;5;124mresult\u001b[39m\u001b[38;5;124m\"\u001b[39m: \u001b[38;5;28mtype\u001b[39m(\u001b[43mmodel\u001b[49m\u001b[38;5;241;43m.\u001b[39;49m\u001b[43mmetrics\u001b[49m\u001b[43m[\u001b[49m\u001b[38;5;241;43m0\u001b[39;49m\u001b[43m]\u001b[49m),\n\u001b[0;32m    291\u001b[0m             \u001b[38;5;124m\"\u001b[39m\u001b[38;5;124mexpected\u001b[39m\u001b[38;5;124m\"\u001b[39m: tf\u001b[38;5;241m.\u001b[39mkeras\u001b[38;5;241m.\u001b[39mmetrics\u001b[38;5;241m.\u001b[39mRootMeanSquaredError,\n\u001b[0;32m    292\u001b[0m             \u001b[38;5;124m\"\u001b[39m\u001b[38;5;124merror_message\u001b[39m\u001b[38;5;124m\"\u001b[39m: \u001b[38;5;124m'\u001b[39m\u001b[38;5;124mwine quality metrics is incorrect. Please check implementation.\u001b[39m\u001b[38;5;124m'\u001b[39m\n\u001b[0;32m    293\u001b[0m         },\n\u001b[0;32m    294\u001b[0m         {\n\u001b[0;32m    295\u001b[0m             \u001b[38;5;124m\"\u001b[39m\u001b[38;5;124mname\u001b[39m\u001b[38;5;124m\"\u001b[39m: \u001b[38;5;124m\"\u001b[39m\u001b[38;5;124mmetrics_1_check\u001b[39m\u001b[38;5;124m\"\u001b[39m,\n\u001b[0;32m    296\u001b[0m             \u001b[38;5;124m\"\u001b[39m\u001b[38;5;124mresult\u001b[39m\u001b[38;5;124m\"\u001b[39m: (model\u001b[38;5;241m.\u001b[39mmetrics[\u001b[38;5;241m1\u001b[39m]\u001b[38;5;241m.\u001b[39mname \u001b[38;5;241m==\u001b[39m \u001b[38;5;124m'\u001b[39m\u001b[38;5;124mwine_type_accuracy\u001b[39m\u001b[38;5;124m'\u001b[39m) \u001b[38;5;129;01mor\u001b[39;00m \n\u001b[0;32m    297\u001b[0m                       (model\u001b[38;5;241m.\u001b[39mmetrics[\u001b[38;5;241m1\u001b[39m]\u001b[38;5;241m.\u001b[39mname \u001b[38;5;241m==\u001b[39m \u001b[38;5;124m'\u001b[39m\u001b[38;5;124mwine_type_binary_accuracy\u001b[39m\u001b[38;5;124m'\u001b[39m),\n\u001b[0;32m    298\u001b[0m             \u001b[38;5;124m\"\u001b[39m\u001b[38;5;124mexpected\u001b[39m\u001b[38;5;124m\"\u001b[39m: \u001b[38;5;28;01mTrue\u001b[39;00m,\n\u001b[0;32m    299\u001b[0m             \u001b[38;5;124m\"\u001b[39m\u001b[38;5;124merror_message\u001b[39m\u001b[38;5;124m\"\u001b[39m: \u001b[38;5;124mf\u001b[39m\u001b[38;5;124m'\u001b[39m\u001b[38;5;124mwine type metrics: \u001b[39m\u001b[38;5;132;01m{\u001b[39;00mmodel\u001b[38;5;241m.\u001b[39mmetrics[\u001b[38;5;241m1\u001b[39m]\u001b[38;5;241m.\u001b[39mname\u001b[38;5;132;01m}\u001b[39;00m\u001b[38;5;124m is incorrect. Please check implementation.\u001b[39m\u001b[38;5;124m'\u001b[39m\n\u001b[0;32m    300\u001b[0m         },\n\u001b[0;32m    301\u001b[0m         {\n\u001b[0;32m    302\u001b[0m             \u001b[38;5;124m\"\u001b[39m\u001b[38;5;124mname\u001b[39m\u001b[38;5;124m\"\u001b[39m: \u001b[38;5;124m\"\u001b[39m\u001b[38;5;124mwine_type_loss_check\u001b[39m\u001b[38;5;124m\"\u001b[39m,\n\u001b[0;32m    303\u001b[0m             \u001b[38;5;124m\"\u001b[39m\u001b[38;5;124mresult\u001b[39m\u001b[38;5;124m\"\u001b[39m: (model\u001b[38;5;241m.\u001b[39mloss[\u001b[38;5;124m'\u001b[39m\u001b[38;5;124mwine_type\u001b[39m\u001b[38;5;124m'\u001b[39m] \u001b[38;5;241m==\u001b[39m \u001b[38;5;124m'\u001b[39m\u001b[38;5;124mbinary_crossentropy\u001b[39m\u001b[38;5;124m'\u001b[39m) \u001b[38;5;129;01mor\u001b[39;00m \n\u001b[0;32m    304\u001b[0m                       (model\u001b[38;5;241m.\u001b[39mloss[\u001b[38;5;124m'\u001b[39m\u001b[38;5;124mwine_type\u001b[39m\u001b[38;5;124m'\u001b[39m]\u001b[38;5;241m.\u001b[39mname \u001b[38;5;241m==\u001b[39m \u001b[38;5;124m'\u001b[39m\u001b[38;5;124mbinary_crossentropy\u001b[39m\u001b[38;5;124m'\u001b[39m) \u001b[38;5;129;01mor\u001b[39;00m \n\u001b[0;32m    305\u001b[0m                       (\u001b[38;5;28mstr\u001b[39m(model\u001b[38;5;241m.\u001b[39mloss[\u001b[38;5;124m'\u001b[39m\u001b[38;5;124mwine_type\u001b[39m\u001b[38;5;124m'\u001b[39m])\u001b[38;5;241m.\u001b[39msplit()[\u001b[38;5;241m1\u001b[39m] \u001b[38;5;241m==\u001b[39m \u001b[38;5;124m'\u001b[39m\u001b[38;5;124mbinary_crossentropy\u001b[39m\u001b[38;5;124m'\u001b[39m),\n\u001b[0;32m    306\u001b[0m             \u001b[38;5;124m\"\u001b[39m\u001b[38;5;124mexpected\u001b[39m\u001b[38;5;124m\"\u001b[39m: \u001b[38;5;28;01mTrue\u001b[39;00m,\n\u001b[0;32m    307\u001b[0m             \u001b[38;5;124m\"\u001b[39m\u001b[38;5;124merror_message\u001b[39m\u001b[38;5;124m\"\u001b[39m: \u001b[38;5;124mf\u001b[39m\u001b[38;5;124m'\u001b[39m\u001b[38;5;124mwine type loss: \u001b[39m\u001b[38;5;132;01m{\u001b[39;00mmodel\u001b[38;5;241m.\u001b[39mloss[\u001b[38;5;124m\"\u001b[39m\u001b[38;5;124mwine_type\u001b[39m\u001b[38;5;124m\"\u001b[39m]\u001b[38;5;132;01m}\u001b[39;00m\u001b[38;5;124m is incorrect. Please check implementation.\u001b[39m\u001b[38;5;124m'\u001b[39m\n\u001b[0;32m    308\u001b[0m         },\n\u001b[0;32m    309\u001b[0m         {\n\u001b[0;32m    310\u001b[0m             \u001b[38;5;124m\"\u001b[39m\u001b[38;5;124mname\u001b[39m\u001b[38;5;124m\"\u001b[39m: \u001b[38;5;124m\"\u001b[39m\u001b[38;5;124mwine_quality_loss_check\u001b[39m\u001b[38;5;124m\"\u001b[39m,\n\u001b[0;32m    311\u001b[0m             \u001b[38;5;124m\"\u001b[39m\u001b[38;5;124mresult\u001b[39m\u001b[38;5;124m\"\u001b[39m: (model\u001b[38;5;241m.\u001b[39mloss[\u001b[38;5;124m'\u001b[39m\u001b[38;5;124mwine_quality\u001b[39m\u001b[38;5;124m'\u001b[39m] \u001b[38;5;129;01min\u001b[39;00m [\u001b[38;5;124m'\u001b[39m\u001b[38;5;124mmse\u001b[39m\u001b[38;5;124m'\u001b[39m, \u001b[38;5;124m'\u001b[39m\u001b[38;5;124mmean_squared_error\u001b[39m\u001b[38;5;124m'\u001b[39m]) \u001b[38;5;129;01mor\u001b[39;00m \n\u001b[0;32m    312\u001b[0m                       (\u001b[38;5;28mstr\u001b[39m(model\u001b[38;5;241m.\u001b[39mloss[\u001b[38;5;124m'\u001b[39m\u001b[38;5;124mwine_quality\u001b[39m\u001b[38;5;124m'\u001b[39m])\u001b[38;5;241m.\u001b[39msplit()[\u001b[38;5;241m1\u001b[39m] \u001b[38;5;241m==\u001b[39m \u001b[38;5;124m'\u001b[39m\u001b[38;5;124mmean_squared_error\u001b[39m\u001b[38;5;124m'\u001b[39m) \u001b[38;5;129;01mor\u001b[39;00m \n\u001b[0;32m    313\u001b[0m                       (model\u001b[38;5;241m.\u001b[39mloss[\u001b[38;5;124m'\u001b[39m\u001b[38;5;124mwine_quality\u001b[39m\u001b[38;5;124m'\u001b[39m]\u001b[38;5;241m.\u001b[39mname \u001b[38;5;241m==\u001b[39m \u001b[38;5;124m'\u001b[39m\u001b[38;5;124mmean_squared_error\u001b[39m\u001b[38;5;124m'\u001b[39m),\n\u001b[0;32m    314\u001b[0m             \u001b[38;5;124m\"\u001b[39m\u001b[38;5;124mexpected\u001b[39m\u001b[38;5;124m\"\u001b[39m: \u001b[38;5;28;01mTrue\u001b[39;00m,\n\u001b[0;32m    315\u001b[0m             \u001b[38;5;124m\"\u001b[39m\u001b[38;5;124merror_message\u001b[39m\u001b[38;5;124m\"\u001b[39m: \u001b[38;5;124mf\u001b[39m\u001b[38;5;124m'\u001b[39m\u001b[38;5;124mwine quality loss: \u001b[39m\u001b[38;5;132;01m{\u001b[39;00mmodel\u001b[38;5;241m.\u001b[39mloss[\u001b[38;5;124m\"\u001b[39m\u001b[38;5;124mwine_type\u001b[39m\u001b[38;5;124m\"\u001b[39m]\u001b[38;5;132;01m}\u001b[39;00m\u001b[38;5;124m is incorrect. Please check implementation.\u001b[39m\u001b[38;5;124m'\u001b[39m\n\u001b[0;32m    316\u001b[0m         },\n\u001b[0;32m    317\u001b[0m     ]\n\u001b[0;32m    319\u001b[0m     test_loop(test_cases)\n",
      "\u001b[1;31mIndexError\u001b[0m: list index out of range"
     ]
    }
   ],
   "source": [
    "utils.test_model_compile(model)"
   ]
  },
  {
   "cell_type": "markdown",
   "metadata": {
    "colab_type": "text",
    "id": "90MpAMpWuKm-"
   },
   "source": [
    "## Training the Model\n",
    "\n",
    "Fit the model to the training inputs and outputs. \n",
    "- Check the documentation for [model.fit](https://www.tensorflow.org/api_docs/python/tf/keras/Model#fit).\n",
    "- Remember to use the normalized training set as inputs. \n",
    "- For the validation data, please use the normalized validation set."
   ]
  },
  {
   "cell_type": "code",
   "execution_count": 50,
   "metadata": {
    "colab": {},
    "colab_type": "code",
    "deletable": false,
    "id": "_eiZkle4XwiY",
    "nbgrader": {
     "cell_type": "code",
     "checksum": "2ca7664be03bfd6fd3651ae44d17b793",
     "grade": false,
     "grade_id": "cell-0bb56262896f6680",
     "locked": false,
     "schema_version": 3,
     "solution": true,
     "task": false
    }
   },
   "outputs": [
    {
     "name": "stdout",
     "output_type": "stream",
     "text": [
      "Epoch 1/180\n",
      "99/99 [==============================] - 1s 7ms/step - loss: 25.6944 - wine_quality_loss: 24.8364 - wine_type_loss: 0.8581 - wine_quality_root_mean_squared_error: 4.9836 - wine_type_accuracy: 0.2567 - val_loss: 17.5921 - val_wine_quality_loss: 16.7252 - val_wine_type_loss: 0.8669 - val_wine_quality_root_mean_squared_error: 4.0896 - val_wine_type_accuracy: 0.2662\n",
      "Epoch 2/180\n",
      "99/99 [==============================] - 0s 5ms/step - loss: 11.5709 - wine_quality_loss: 10.6903 - wine_type_loss: 0.8806 - wine_quality_root_mean_squared_error: 3.2696 - wine_type_accuracy: 0.2564 - val_loss: 6.6111 - val_wine_quality_loss: 5.7549 - val_wine_type_loss: 0.8562 - val_wine_quality_root_mean_squared_error: 2.3989 - val_wine_type_accuracy: 0.2687\n",
      "Epoch 3/180\n",
      "99/99 [==============================] - 0s 5ms/step - loss: 4.5890 - wine_quality_loss: 3.8030 - wine_type_loss: 0.7860 - wine_quality_root_mean_squared_error: 1.9501 - wine_type_accuracy: 0.3182 - val_loss: 3.1154 - val_wine_quality_loss: 2.4416 - val_wine_type_loss: 0.6738 - val_wine_quality_root_mean_squared_error: 1.5626 - val_wine_type_accuracy: 0.5032\n",
      "Epoch 4/180\n",
      "99/99 [==============================] - 0s 5ms/step - loss: 2.9272 - wine_quality_loss: 2.3642 - wine_type_loss: 0.5630 - wine_quality_root_mean_squared_error: 1.5376 - wine_type_accuracy: 0.8162 - val_loss: 2.4565 - val_wine_quality_loss: 1.9940 - val_wine_type_loss: 0.4624 - val_wine_quality_root_mean_squared_error: 1.4121 - val_wine_type_accuracy: 0.9582\n",
      "Epoch 5/180\n",
      "99/99 [==============================] - 0s 5ms/step - loss: 2.3466 - wine_quality_loss: 1.9585 - wine_type_loss: 0.3882 - wine_quality_root_mean_squared_error: 1.3995 - wine_type_accuracy: 0.9525 - val_loss: 2.0798 - val_wine_quality_loss: 1.7458 - val_wine_type_loss: 0.3341 - val_wine_quality_root_mean_squared_error: 1.3213 - val_wine_type_accuracy: 0.9594\n",
      "Epoch 6/180\n",
      "99/99 [==============================] - 0s 5ms/step - loss: 2.0197 - wine_quality_loss: 1.7322 - wine_type_loss: 0.2874 - wine_quality_root_mean_squared_error: 1.3161 - wine_type_accuracy: 0.9642 - val_loss: 1.8372 - val_wine_quality_loss: 1.5825 - val_wine_type_loss: 0.2547 - val_wine_quality_root_mean_squared_error: 1.2580 - val_wine_type_accuracy: 0.9785\n",
      "Epoch 7/180\n",
      "99/99 [==============================] - 1s 5ms/step - loss: 1.7890 - wine_quality_loss: 1.5694 - wine_type_loss: 0.2196 - wine_quality_root_mean_squared_error: 1.2528 - wine_type_accuracy: 0.9759 - val_loss: 1.6308 - val_wine_quality_loss: 1.4349 - val_wine_type_loss: 0.1958 - val_wine_quality_root_mean_squared_error: 1.1979 - val_wine_type_accuracy: 0.9835\n",
      "Epoch 8/180\n",
      "99/99 [==============================] - 1s 6ms/step - loss: 1.6062 - wine_quality_loss: 1.4369 - wine_type_loss: 0.1693 - wine_quality_root_mean_squared_error: 1.1987 - wine_type_accuracy: 0.9832 - val_loss: 1.4900 - val_wine_quality_loss: 1.3374 - val_wine_type_loss: 0.1526 - val_wine_quality_root_mean_squared_error: 1.1565 - val_wine_type_accuracy: 0.9886\n",
      "Epoch 9/180\n",
      "99/99 [==============================] - 1s 5ms/step - loss: 1.4728 - wine_quality_loss: 1.3377 - wine_type_loss: 0.1351 - wine_quality_root_mean_squared_error: 1.1566 - wine_type_accuracy: 0.9864 - val_loss: 1.3773 - val_wine_quality_loss: 1.2541 - val_wine_type_loss: 0.1232 - val_wine_quality_root_mean_squared_error: 1.1199 - val_wine_type_accuracy: 0.9899\n",
      "Epoch 10/180\n",
      "99/99 [==============================] - 0s 5ms/step - loss: 1.3591 - wine_quality_loss: 1.2483 - wine_type_loss: 0.1108 - wine_quality_root_mean_squared_error: 1.1173 - wine_type_accuracy: 0.9880 - val_loss: 1.2795 - val_wine_quality_loss: 1.1773 - val_wine_type_loss: 0.1022 - val_wine_quality_root_mean_squared_error: 1.0850 - val_wine_type_accuracy: 0.9899\n",
      "Epoch 11/180\n",
      "99/99 [==============================] - 0s 5ms/step - loss: 1.2600 - wine_quality_loss: 1.1667 - wine_type_loss: 0.0933 - wine_quality_root_mean_squared_error: 1.0801 - wine_type_accuracy: 0.9883 - val_loss: 1.1788 - val_wine_quality_loss: 1.0924 - val_wine_type_loss: 0.0864 - val_wine_quality_root_mean_squared_error: 1.0452 - val_wine_type_accuracy: 0.9911\n",
      "Epoch 12/180\n",
      "99/99 [==============================] - 0s 5ms/step - loss: 1.1767 - wine_quality_loss: 1.0962 - wine_type_loss: 0.0806 - wine_quality_root_mean_squared_error: 1.0470 - wine_type_accuracy: 0.9908 - val_loss: 1.1113 - val_wine_quality_loss: 1.0362 - val_wine_type_loss: 0.0752 - val_wine_quality_root_mean_squared_error: 1.0179 - val_wine_type_accuracy: 0.9911\n",
      "Epoch 13/180\n",
      "99/99 [==============================] - 0s 5ms/step - loss: 1.1052 - wine_quality_loss: 1.0338 - wine_type_loss: 0.0714 - wine_quality_root_mean_squared_error: 1.0168 - wine_type_accuracy: 0.9908 - val_loss: 1.0397 - val_wine_quality_loss: 0.9725 - val_wine_type_loss: 0.0672 - val_wine_quality_root_mean_squared_error: 0.9862 - val_wine_type_accuracy: 0.9911\n",
      "Epoch 14/180\n",
      "99/99 [==============================] - 0s 5ms/step - loss: 1.0372 - wine_quality_loss: 0.9729 - wine_type_loss: 0.0642 - wine_quality_root_mean_squared_error: 0.9864 - wine_type_accuracy: 0.9918 - val_loss: 0.9855 - val_wine_quality_loss: 0.9252 - val_wine_type_loss: 0.0603 - val_wine_quality_root_mean_squared_error: 0.9619 - val_wine_type_accuracy: 0.9924\n",
      "Epoch 15/180\n",
      "99/99 [==============================] - 0s 5ms/step - loss: 0.9759 - wine_quality_loss: 0.9175 - wine_type_loss: 0.0584 - wine_quality_root_mean_squared_error: 0.9578 - wine_type_accuracy: 0.9918 - val_loss: 0.9157 - val_wine_quality_loss: 0.8608 - val_wine_type_loss: 0.0550 - val_wine_quality_root_mean_squared_error: 0.9278 - val_wine_type_accuracy: 0.9937\n",
      "Epoch 16/180\n",
      "99/99 [==============================] - 0s 5ms/step - loss: 0.9162 - wine_quality_loss: 0.8622 - wine_type_loss: 0.0539 - wine_quality_root_mean_squared_error: 0.9286 - wine_type_accuracy: 0.9918 - val_loss: 0.8603 - val_wine_quality_loss: 0.8094 - val_wine_type_loss: 0.0510 - val_wine_quality_root_mean_squared_error: 0.8997 - val_wine_type_accuracy: 0.9937\n",
      "Epoch 17/180\n",
      "99/99 [==============================] - 0s 5ms/step - loss: 0.8639 - wine_quality_loss: 0.8134 - wine_type_loss: 0.0504 - wine_quality_root_mean_squared_error: 0.9019 - wine_type_accuracy: 0.9921 - val_loss: 0.8231 - val_wine_quality_loss: 0.7753 - val_wine_type_loss: 0.0478 - val_wine_quality_root_mean_squared_error: 0.8805 - val_wine_type_accuracy: 0.9937\n",
      "Epoch 18/180\n",
      "99/99 [==============================] - 1s 5ms/step - loss: 0.8161 - wine_quality_loss: 0.7686 - wine_type_loss: 0.0476 - wine_quality_root_mean_squared_error: 0.8767 - wine_type_accuracy: 0.9918 - val_loss: 0.7772 - val_wine_quality_loss: 0.7320 - val_wine_type_loss: 0.0452 - val_wine_quality_root_mean_squared_error: 0.8556 - val_wine_type_accuracy: 0.9937\n",
      "Epoch 19/180\n",
      "99/99 [==============================] - 0s 5ms/step - loss: 0.7706 - wine_quality_loss: 0.7253 - wine_type_loss: 0.0453 - wine_quality_root_mean_squared_error: 0.8517 - wine_type_accuracy: 0.9918 - val_loss: 0.7307 - val_wine_quality_loss: 0.6876 - val_wine_type_loss: 0.0431 - val_wine_quality_root_mean_squared_error: 0.8292 - val_wine_type_accuracy: 0.9937\n",
      "Epoch 20/180\n",
      "99/99 [==============================] - 0s 5ms/step - loss: 0.7302 - wine_quality_loss: 0.6869 - wine_type_loss: 0.0433 - wine_quality_root_mean_squared_error: 0.8288 - wine_type_accuracy: 0.9918 - val_loss: 0.6921 - val_wine_quality_loss: 0.6505 - val_wine_type_loss: 0.0416 - val_wine_quality_root_mean_squared_error: 0.8065 - val_wine_type_accuracy: 0.9937\n",
      "Epoch 21/180\n",
      "99/99 [==============================] - 0s 5ms/step - loss: 0.6959 - wine_quality_loss: 0.6541 - wine_type_loss: 0.0418 - wine_quality_root_mean_squared_error: 0.8088 - wine_type_accuracy: 0.9921 - val_loss: 0.6593 - val_wine_quality_loss: 0.6192 - val_wine_type_loss: 0.0401 - val_wine_quality_root_mean_squared_error: 0.7869 - val_wine_type_accuracy: 0.9937\n",
      "Epoch 22/180\n",
      "99/99 [==============================] - 0s 5ms/step - loss: 0.6638 - wine_quality_loss: 0.6236 - wine_type_loss: 0.0403 - wine_quality_root_mean_squared_error: 0.7897 - wine_type_accuracy: 0.9924 - val_loss: 0.6333 - val_wine_quality_loss: 0.5944 - val_wine_type_loss: 0.0389 - val_wine_quality_root_mean_squared_error: 0.7710 - val_wine_type_accuracy: 0.9937\n"
     ]
    },
    {
     "name": "stdout",
     "output_type": "stream",
     "text": [
      "Epoch 23/180\n",
      "99/99 [==============================] - 0s 5ms/step - loss: 0.6329 - wine_quality_loss: 0.5938 - wine_type_loss: 0.0391 - wine_quality_root_mean_squared_error: 0.7706 - wine_type_accuracy: 0.9927 - val_loss: 0.6037 - val_wine_quality_loss: 0.5659 - val_wine_type_loss: 0.0378 - val_wine_quality_root_mean_squared_error: 0.7523 - val_wine_type_accuracy: 0.9937\n",
      "Epoch 24/180\n",
      "99/99 [==============================] - 0s 5ms/step - loss: 0.6041 - wine_quality_loss: 0.5661 - wine_type_loss: 0.0380 - wine_quality_root_mean_squared_error: 0.7524 - wine_type_accuracy: 0.9930 - val_loss: 0.5750 - val_wine_quality_loss: 0.5380 - val_wine_type_loss: 0.0370 - val_wine_quality_root_mean_squared_error: 0.7335 - val_wine_type_accuracy: 0.9949\n",
      "Epoch 25/180\n",
      "99/99 [==============================] - 1s 5ms/step - loss: 0.5789 - wine_quality_loss: 0.5419 - wine_type_loss: 0.0370 - wine_quality_root_mean_squared_error: 0.7361 - wine_type_accuracy: 0.9937 - val_loss: 0.5522 - val_wine_quality_loss: 0.5159 - val_wine_type_loss: 0.0363 - val_wine_quality_root_mean_squared_error: 0.7182 - val_wine_type_accuracy: 0.9949\n",
      "Epoch 26/180\n",
      "99/99 [==============================] - 0s 5ms/step - loss: 0.5569 - wine_quality_loss: 0.5206 - wine_type_loss: 0.0363 - wine_quality_root_mean_squared_error: 0.7215 - wine_type_accuracy: 0.9940 - val_loss: 0.5264 - val_wine_quality_loss: 0.4908 - val_wine_type_loss: 0.0356 - val_wine_quality_root_mean_squared_error: 0.7006 - val_wine_type_accuracy: 0.9949\n",
      "Epoch 27/180\n",
      "99/99 [==============================] - 0s 5ms/step - loss: 0.5352 - wine_quality_loss: 0.4997 - wine_type_loss: 0.0355 - wine_quality_root_mean_squared_error: 0.7069 - wine_type_accuracy: 0.9937 - val_loss: 0.5162 - val_wine_quality_loss: 0.4811 - val_wine_type_loss: 0.0351 - val_wine_quality_root_mean_squared_error: 0.6936 - val_wine_type_accuracy: 0.9949\n",
      "Epoch 28/180\n",
      "99/99 [==============================] - 0s 5ms/step - loss: 0.5154 - wine_quality_loss: 0.4804 - wine_type_loss: 0.0349 - wine_quality_root_mean_squared_error: 0.6931 - wine_type_accuracy: 0.9940 - val_loss: 0.5064 - val_wine_quality_loss: 0.4719 - val_wine_type_loss: 0.0345 - val_wine_quality_root_mean_squared_error: 0.6869 - val_wine_type_accuracy: 0.9949\n",
      "Epoch 29/180\n",
      "99/99 [==============================] - 0s 5ms/step - loss: 0.4994 - wine_quality_loss: 0.4652 - wine_type_loss: 0.0342 - wine_quality_root_mean_squared_error: 0.6820 - wine_type_accuracy: 0.9940 - val_loss: 0.4814 - val_wine_quality_loss: 0.4471 - val_wine_type_loss: 0.0343 - val_wine_quality_root_mean_squared_error: 0.6687 - val_wine_type_accuracy: 0.9949\n",
      "Epoch 30/180\n",
      "99/99 [==============================] - 0s 5ms/step - loss: 0.4827 - wine_quality_loss: 0.4490 - wine_type_loss: 0.0337 - wine_quality_root_mean_squared_error: 0.6701 - wine_type_accuracy: 0.9940 - val_loss: 0.4600 - val_wine_quality_loss: 0.4262 - val_wine_type_loss: 0.0338 - val_wine_quality_root_mean_squared_error: 0.6529 - val_wine_type_accuracy: 0.9949\n",
      "Epoch 31/180\n",
      "99/99 [==============================] - 0s 5ms/step - loss: 0.4675 - wine_quality_loss: 0.4344 - wine_type_loss: 0.0332 - wine_quality_root_mean_squared_error: 0.6591 - wine_type_accuracy: 0.9943 - val_loss: 0.4570 - val_wine_quality_loss: 0.4238 - val_wine_type_loss: 0.0333 - val_wine_quality_root_mean_squared_error: 0.6510 - val_wine_type_accuracy: 0.9949\n",
      "Epoch 32/180\n",
      "99/99 [==============================] - 0s 5ms/step - loss: 0.4546 - wine_quality_loss: 0.4218 - wine_type_loss: 0.0328 - wine_quality_root_mean_squared_error: 0.6494 - wine_type_accuracy: 0.9943 - val_loss: 0.4336 - val_wine_quality_loss: 0.4005 - val_wine_type_loss: 0.0331 - val_wine_quality_root_mean_squared_error: 0.6328 - val_wine_type_accuracy: 0.9949\n",
      "Epoch 33/180\n",
      "99/99 [==============================] - 0s 4ms/step - loss: 0.4446 - wine_quality_loss: 0.4123 - wine_type_loss: 0.0323 - wine_quality_root_mean_squared_error: 0.6421 - wine_type_accuracy: 0.9943 - val_loss: 0.4259 - val_wine_quality_loss: 0.3931 - val_wine_type_loss: 0.0328 - val_wine_quality_root_mean_squared_error: 0.6270 - val_wine_type_accuracy: 0.9949\n",
      "Epoch 34/180\n",
      "99/99 [==============================] - 0s 5ms/step - loss: 0.4326 - wine_quality_loss: 0.4006 - wine_type_loss: 0.0320 - wine_quality_root_mean_squared_error: 0.6330 - wine_type_accuracy: 0.9943 - val_loss: 0.4170 - val_wine_quality_loss: 0.3845 - val_wine_type_loss: 0.0325 - val_wine_quality_root_mean_squared_error: 0.6201 - val_wine_type_accuracy: 0.9937\n",
      "Epoch 35/180\n",
      "99/99 [==============================] - 0s 5ms/step - loss: 0.4221 - wine_quality_loss: 0.3906 - wine_type_loss: 0.0315 - wine_quality_root_mean_squared_error: 0.6250 - wine_type_accuracy: 0.9943 - val_loss: 0.4115 - val_wine_quality_loss: 0.3794 - val_wine_type_loss: 0.0321 - val_wine_quality_root_mean_squared_error: 0.6159 - val_wine_type_accuracy: 0.9937\n",
      "Epoch 36/180\n",
      "99/99 [==============================] - 0s 5ms/step - loss: 0.4155 - wine_quality_loss: 0.3842 - wine_type_loss: 0.0312 - wine_quality_root_mean_squared_error: 0.6199 - wine_type_accuracy: 0.9943 - val_loss: 0.4096 - val_wine_quality_loss: 0.3775 - val_wine_type_loss: 0.0321 - val_wine_quality_root_mean_squared_error: 0.6144 - val_wine_type_accuracy: 0.9937\n",
      "Epoch 37/180\n",
      "99/99 [==============================] - 1s 5ms/step - loss: 0.4063 - wine_quality_loss: 0.3755 - wine_type_loss: 0.0309 - wine_quality_root_mean_squared_error: 0.6128 - wine_type_accuracy: 0.9943 - val_loss: 0.4079 - val_wine_quality_loss: 0.3759 - val_wine_type_loss: 0.0320 - val_wine_quality_root_mean_squared_error: 0.6131 - val_wine_type_accuracy: 0.9949\n",
      "Epoch 38/180\n",
      "99/99 [==============================] - 0s 5ms/step - loss: 0.4010 - wine_quality_loss: 0.3705 - wine_type_loss: 0.0306 - wine_quality_root_mean_squared_error: 0.6087 - wine_type_accuracy: 0.9943 - val_loss: 0.3967 - val_wine_quality_loss: 0.3649 - val_wine_type_loss: 0.0317 - val_wine_quality_root_mean_squared_error: 0.6041 - val_wine_type_accuracy: 0.9949\n",
      "Epoch 39/180\n",
      "99/99 [==============================] - 0s 5ms/step - loss: 0.3957 - wine_quality_loss: 0.3653 - wine_type_loss: 0.0303 - wine_quality_root_mean_squared_error: 0.6044 - wine_type_accuracy: 0.9943 - val_loss: 0.3844 - val_wine_quality_loss: 0.3527 - val_wine_type_loss: 0.0317 - val_wine_quality_root_mean_squared_error: 0.5939 - val_wine_type_accuracy: 0.9949\n",
      "Epoch 40/180\n",
      "99/99 [==============================] - 1s 5ms/step - loss: 0.3895 - wine_quality_loss: 0.3594 - wine_type_loss: 0.0301 - wine_quality_root_mean_squared_error: 0.5995 - wine_type_accuracy: 0.9943 - val_loss: 0.3832 - val_wine_quality_loss: 0.3516 - val_wine_type_loss: 0.0315 - val_wine_quality_root_mean_squared_error: 0.5930 - val_wine_type_accuracy: 0.9949\n",
      "Epoch 41/180\n",
      "99/99 [==============================] - 1s 5ms/step - loss: 0.3858 - wine_quality_loss: 0.3560 - wine_type_loss: 0.0298 - wine_quality_root_mean_squared_error: 0.5967 - wine_type_accuracy: 0.9943 - val_loss: 0.3837 - val_wine_quality_loss: 0.3524 - val_wine_type_loss: 0.0313 - val_wine_quality_root_mean_squared_error: 0.5936 - val_wine_type_accuracy: 0.9949\n",
      "Epoch 42/180\n",
      "99/99 [==============================] - 1s 5ms/step - loss: 0.3811 - wine_quality_loss: 0.3516 - wine_type_loss: 0.0295 - wine_quality_root_mean_squared_error: 0.5930 - wine_type_accuracy: 0.9943 - val_loss: 0.3804 - val_wine_quality_loss: 0.3493 - val_wine_type_loss: 0.0311 - val_wine_quality_root_mean_squared_error: 0.5910 - val_wine_type_accuracy: 0.9949\n",
      "Epoch 43/180\n",
      "99/99 [==============================] - 0s 5ms/step - loss: 0.3746 - wine_quality_loss: 0.3453 - wine_type_loss: 0.0293 - wine_quality_root_mean_squared_error: 0.5876 - wine_type_accuracy: 0.9946 - val_loss: 0.3850 - val_wine_quality_loss: 0.3539 - val_wine_type_loss: 0.0311 - val_wine_quality_root_mean_squared_error: 0.5949 - val_wine_type_accuracy: 0.9949\n",
      "Epoch 44/180\n",
      "99/99 [==============================] - 0s 5ms/step - loss: 0.3726 - wine_quality_loss: 0.3436 - wine_type_loss: 0.0290 - wine_quality_root_mean_squared_error: 0.5862 - wine_type_accuracy: 0.9946 - val_loss: 0.3674 - val_wine_quality_loss: 0.3365 - val_wine_type_loss: 0.0310 - val_wine_quality_root_mean_squared_error: 0.5800 - val_wine_type_accuracy: 0.9949\n"
     ]
    },
    {
     "name": "stdout",
     "output_type": "stream",
     "text": [
      "Epoch 45/180\n",
      "99/99 [==============================] - 0s 5ms/step - loss: 0.3694 - wine_quality_loss: 0.3405 - wine_type_loss: 0.0288 - wine_quality_root_mean_squared_error: 0.5836 - wine_type_accuracy: 0.9946 - val_loss: 0.3668 - val_wine_quality_loss: 0.3359 - val_wine_type_loss: 0.0309 - val_wine_quality_root_mean_squared_error: 0.5796 - val_wine_type_accuracy: 0.9949\n",
      "Epoch 46/180\n",
      "99/99 [==============================] - 1s 5ms/step - loss: 0.3644 - wine_quality_loss: 0.3358 - wine_type_loss: 0.0286 - wine_quality_root_mean_squared_error: 0.5795 - wine_type_accuracy: 0.9946 - val_loss: 0.3667 - val_wine_quality_loss: 0.3358 - val_wine_type_loss: 0.0309 - val_wine_quality_root_mean_squared_error: 0.5795 - val_wine_type_accuracy: 0.9949\n",
      "Epoch 47/180\n",
      "99/99 [==============================] - 0s 4ms/step - loss: 0.3638 - wine_quality_loss: 0.3355 - wine_type_loss: 0.0283 - wine_quality_root_mean_squared_error: 0.5792 - wine_type_accuracy: 0.9946 - val_loss: 0.3616 - val_wine_quality_loss: 0.3308 - val_wine_type_loss: 0.0307 - val_wine_quality_root_mean_squared_error: 0.5752 - val_wine_type_accuracy: 0.9949\n",
      "Epoch 48/180\n",
      "99/99 [==============================] - 0s 5ms/step - loss: 0.3613 - wine_quality_loss: 0.3331 - wine_type_loss: 0.0282 - wine_quality_root_mean_squared_error: 0.5772 - wine_type_accuracy: 0.9943 - val_loss: 0.3644 - val_wine_quality_loss: 0.3338 - val_wine_type_loss: 0.0306 - val_wine_quality_root_mean_squared_error: 0.5777 - val_wine_type_accuracy: 0.9949\n",
      "Epoch 49/180\n",
      "99/99 [==============================] - 0s 5ms/step - loss: 0.3565 - wine_quality_loss: 0.3285 - wine_type_loss: 0.0280 - wine_quality_root_mean_squared_error: 0.5732 - wine_type_accuracy: 0.9949 - val_loss: 0.3611 - val_wine_quality_loss: 0.3306 - val_wine_type_loss: 0.0305 - val_wine_quality_root_mean_squared_error: 0.5750 - val_wine_type_accuracy: 0.9949\n",
      "Epoch 50/180\n",
      "99/99 [==============================] - 0s 5ms/step - loss: 0.3551 - wine_quality_loss: 0.3274 - wine_type_loss: 0.0277 - wine_quality_root_mean_squared_error: 0.5722 - wine_type_accuracy: 0.9946 - val_loss: 0.3600 - val_wine_quality_loss: 0.3295 - val_wine_type_loss: 0.0305 - val_wine_quality_root_mean_squared_error: 0.5740 - val_wine_type_accuracy: 0.9949\n",
      "Epoch 51/180\n",
      "99/99 [==============================] - 0s 5ms/step - loss: 0.3532 - wine_quality_loss: 0.3256 - wine_type_loss: 0.0276 - wine_quality_root_mean_squared_error: 0.5707 - wine_type_accuracy: 0.9949 - val_loss: 0.3584 - val_wine_quality_loss: 0.3280 - val_wine_type_loss: 0.0304 - val_wine_quality_root_mean_squared_error: 0.5727 - val_wine_type_accuracy: 0.9949\n",
      "Epoch 52/180\n",
      "99/99 [==============================] - 0s 5ms/step - loss: 0.3513 - wine_quality_loss: 0.3239 - wine_type_loss: 0.0273 - wine_quality_root_mean_squared_error: 0.5692 - wine_type_accuracy: 0.9949 - val_loss: 0.3583 - val_wine_quality_loss: 0.3280 - val_wine_type_loss: 0.0303 - val_wine_quality_root_mean_squared_error: 0.5727 - val_wine_type_accuracy: 0.9949\n",
      "Epoch 53/180\n",
      "99/99 [==============================] - 0s 5ms/step - loss: 0.3482 - wine_quality_loss: 0.3210 - wine_type_loss: 0.0272 - wine_quality_root_mean_squared_error: 0.5665 - wine_type_accuracy: 0.9949 - val_loss: 0.3512 - val_wine_quality_loss: 0.3211 - val_wine_type_loss: 0.0301 - val_wine_quality_root_mean_squared_error: 0.5666 - val_wine_type_accuracy: 0.9949\n",
      "Epoch 54/180\n",
      "99/99 [==============================] - 0s 5ms/step - loss: 0.3464 - wine_quality_loss: 0.3194 - wine_type_loss: 0.0270 - wine_quality_root_mean_squared_error: 0.5651 - wine_type_accuracy: 0.9946 - val_loss: 0.3564 - val_wine_quality_loss: 0.3263 - val_wine_type_loss: 0.0301 - val_wine_quality_root_mean_squared_error: 0.5712 - val_wine_type_accuracy: 0.9949\n",
      "Epoch 55/180\n",
      "99/99 [==============================] - 0s 5ms/step - loss: 0.3449 - wine_quality_loss: 0.3181 - wine_type_loss: 0.0268 - wine_quality_root_mean_squared_error: 0.5640 - wine_type_accuracy: 0.9949 - val_loss: 0.3532 - val_wine_quality_loss: 0.3231 - val_wine_type_loss: 0.0302 - val_wine_quality_root_mean_squared_error: 0.5684 - val_wine_type_accuracy: 0.9949\n",
      "Epoch 56/180\n",
      "99/99 [==============================] - 0s 5ms/step - loss: 0.3434 - wine_quality_loss: 0.3167 - wine_type_loss: 0.0267 - wine_quality_root_mean_squared_error: 0.5627 - wine_type_accuracy: 0.9946 - val_loss: 0.3522 - val_wine_quality_loss: 0.3221 - val_wine_type_loss: 0.0301 - val_wine_quality_root_mean_squared_error: 0.5676 - val_wine_type_accuracy: 0.9949\n",
      "Epoch 57/180\n",
      "99/99 [==============================] - 0s 5ms/step - loss: 0.3409 - wine_quality_loss: 0.3144 - wine_type_loss: 0.0265 - wine_quality_root_mean_squared_error: 0.5607 - wine_type_accuracy: 0.9946 - val_loss: 0.3525 - val_wine_quality_loss: 0.3225 - val_wine_type_loss: 0.0300 - val_wine_quality_root_mean_squared_error: 0.5679 - val_wine_type_accuracy: 0.9949\n",
      "Epoch 58/180\n",
      "99/99 [==============================] - 0s 5ms/step - loss: 0.3409 - wine_quality_loss: 0.3146 - wine_type_loss: 0.0263 - wine_quality_root_mean_squared_error: 0.5609 - wine_type_accuracy: 0.9949 - val_loss: 0.3559 - val_wine_quality_loss: 0.3259 - val_wine_type_loss: 0.0300 - val_wine_quality_root_mean_squared_error: 0.5709 - val_wine_type_accuracy: 0.9949\n",
      "Epoch 59/180\n",
      "99/99 [==============================] - 0s 5ms/step - loss: 0.3391 - wine_quality_loss: 0.3130 - wine_type_loss: 0.0262 - wine_quality_root_mean_squared_error: 0.5594 - wine_type_accuracy: 0.9946 - val_loss: 0.3529 - val_wine_quality_loss: 0.3229 - val_wine_type_loss: 0.0300 - val_wine_quality_root_mean_squared_error: 0.5683 - val_wine_type_accuracy: 0.9949\n",
      "Epoch 60/180\n",
      "99/99 [==============================] - 0s 5ms/step - loss: 0.3370 - wine_quality_loss: 0.3110 - wine_type_loss: 0.0260 - wine_quality_root_mean_squared_error: 0.5577 - wine_type_accuracy: 0.9949 - val_loss: 0.3455 - val_wine_quality_loss: 0.3158 - val_wine_type_loss: 0.0298 - val_wine_quality_root_mean_squared_error: 0.5620 - val_wine_type_accuracy: 0.9949\n",
      "Epoch 61/180\n",
      "99/99 [==============================] - 0s 5ms/step - loss: 0.3353 - wine_quality_loss: 0.3095 - wine_type_loss: 0.0258 - wine_quality_root_mean_squared_error: 0.5563 - wine_type_accuracy: 0.9949 - val_loss: 0.3464 - val_wine_quality_loss: 0.3166 - val_wine_type_loss: 0.0298 - val_wine_quality_root_mean_squared_error: 0.5627 - val_wine_type_accuracy: 0.9949\n",
      "Epoch 62/180\n",
      "99/99 [==============================] - 0s 5ms/step - loss: 0.3332 - wine_quality_loss: 0.3075 - wine_type_loss: 0.0257 - wine_quality_root_mean_squared_error: 0.5546 - wine_type_accuracy: 0.9949 - val_loss: 0.3481 - val_wine_quality_loss: 0.3185 - val_wine_type_loss: 0.0296 - val_wine_quality_root_mean_squared_error: 0.5644 - val_wine_type_accuracy: 0.9949\n",
      "Epoch 63/180\n",
      "99/99 [==============================] - 0s 5ms/step - loss: 0.3325 - wine_quality_loss: 0.3069 - wine_type_loss: 0.0256 - wine_quality_root_mean_squared_error: 0.5540 - wine_type_accuracy: 0.9949 - val_loss: 0.3489 - val_wine_quality_loss: 0.3194 - val_wine_type_loss: 0.0295 - val_wine_quality_root_mean_squared_error: 0.5652 - val_wine_type_accuracy: 0.9949\n",
      "Epoch 64/180\n",
      "99/99 [==============================] - 0s 5ms/step - loss: 0.3307 - wine_quality_loss: 0.3053 - wine_type_loss: 0.0254 - wine_quality_root_mean_squared_error: 0.5526 - wine_type_accuracy: 0.9949 - val_loss: 0.3488 - val_wine_quality_loss: 0.3193 - val_wine_type_loss: 0.0295 - val_wine_quality_root_mean_squared_error: 0.5650 - val_wine_type_accuracy: 0.9949\n",
      "Epoch 65/180\n",
      "99/99 [==============================] - 0s 5ms/step - loss: 0.3303 - wine_quality_loss: 0.3050 - wine_type_loss: 0.0253 - wine_quality_root_mean_squared_error: 0.5523 - wine_type_accuracy: 0.9949 - val_loss: 0.3461 - val_wine_quality_loss: 0.3168 - val_wine_type_loss: 0.0294 - val_wine_quality_root_mean_squared_error: 0.5628 - val_wine_type_accuracy: 0.9949\n",
      "Epoch 66/180\n",
      "99/99 [==============================] - 0s 5ms/step - loss: 0.3293 - wine_quality_loss: 0.3041 - wine_type_loss: 0.0251 - wine_quality_root_mean_squared_error: 0.5515 - wine_type_accuracy: 0.9952 - val_loss: 0.3496 - val_wine_quality_loss: 0.3203 - val_wine_type_loss: 0.0293 - val_wine_quality_root_mean_squared_error: 0.5659 - val_wine_type_accuracy: 0.9949\n"
     ]
    },
    {
     "name": "stdout",
     "output_type": "stream",
     "text": [
      "Epoch 67/180\n",
      "99/99 [==============================] - 0s 5ms/step - loss: 0.3274 - wine_quality_loss: 0.3024 - wine_type_loss: 0.0250 - wine_quality_root_mean_squared_error: 0.5499 - wine_type_accuracy: 0.9949 - val_loss: 0.3453 - val_wine_quality_loss: 0.3160 - val_wine_type_loss: 0.0293 - val_wine_quality_root_mean_squared_error: 0.5621 - val_wine_type_accuracy: 0.9949\n",
      "Epoch 68/180\n",
      "99/99 [==============================] - 0s 5ms/step - loss: 0.3270 - wine_quality_loss: 0.3022 - wine_type_loss: 0.0248 - wine_quality_root_mean_squared_error: 0.5497 - wine_type_accuracy: 0.9949 - val_loss: 0.3460 - val_wine_quality_loss: 0.3168 - val_wine_type_loss: 0.0292 - val_wine_quality_root_mean_squared_error: 0.5629 - val_wine_type_accuracy: 0.9949\n",
      "Epoch 69/180\n",
      "99/99 [==============================] - 0s 5ms/step - loss: 0.3242 - wine_quality_loss: 0.2995 - wine_type_loss: 0.0247 - wine_quality_root_mean_squared_error: 0.5473 - wine_type_accuracy: 0.9949 - val_loss: 0.3533 - val_wine_quality_loss: 0.3241 - val_wine_type_loss: 0.0292 - val_wine_quality_root_mean_squared_error: 0.5693 - val_wine_type_accuracy: 0.9949\n",
      "Epoch 70/180\n",
      "99/99 [==============================] - 0s 5ms/step - loss: 0.3254 - wine_quality_loss: 0.3008 - wine_type_loss: 0.0246 - wine_quality_root_mean_squared_error: 0.5484 - wine_type_accuracy: 0.9952 - val_loss: 0.3467 - val_wine_quality_loss: 0.3176 - val_wine_type_loss: 0.0291 - val_wine_quality_root_mean_squared_error: 0.5635 - val_wine_type_accuracy: 0.9949\n",
      "Epoch 71/180\n",
      "99/99 [==============================] - 0s 5ms/step - loss: 0.3241 - wine_quality_loss: 0.2996 - wine_type_loss: 0.0245 - wine_quality_root_mean_squared_error: 0.5474 - wine_type_accuracy: 0.9952 - val_loss: 0.3448 - val_wine_quality_loss: 0.3157 - val_wine_type_loss: 0.0291 - val_wine_quality_root_mean_squared_error: 0.5619 - val_wine_type_accuracy: 0.9949\n",
      "Epoch 72/180\n",
      "99/99 [==============================] - 0s 5ms/step - loss: 0.3221 - wine_quality_loss: 0.2978 - wine_type_loss: 0.0243 - wine_quality_root_mean_squared_error: 0.5458 - wine_type_accuracy: 0.9956 - val_loss: 0.3491 - val_wine_quality_loss: 0.3201 - val_wine_type_loss: 0.0290 - val_wine_quality_root_mean_squared_error: 0.5658 - val_wine_type_accuracy: 0.9949\n",
      "Epoch 73/180\n",
      "99/99 [==============================] - 0s 5ms/step - loss: 0.3210 - wine_quality_loss: 0.2968 - wine_type_loss: 0.0242 - wine_quality_root_mean_squared_error: 0.5448 - wine_type_accuracy: 0.9952 - val_loss: 0.3609 - val_wine_quality_loss: 0.3320 - val_wine_type_loss: 0.0289 - val_wine_quality_root_mean_squared_error: 0.5762 - val_wine_type_accuracy: 0.9949\n",
      "Epoch 74/180\n",
      "99/99 [==============================] - 1s 5ms/step - loss: 0.3212 - wine_quality_loss: 0.2970 - wine_type_loss: 0.0241 - wine_quality_root_mean_squared_error: 0.5450 - wine_type_accuracy: 0.9952 - val_loss: 0.3421 - val_wine_quality_loss: 0.3132 - val_wine_type_loss: 0.0288 - val_wine_quality_root_mean_squared_error: 0.5597 - val_wine_type_accuracy: 0.9949\n",
      "Epoch 75/180\n",
      "99/99 [==============================] - 1s 5ms/step - loss: 0.3208 - wine_quality_loss: 0.2969 - wine_type_loss: 0.0239 - wine_quality_root_mean_squared_error: 0.5449 - wine_type_accuracy: 0.9956 - val_loss: 0.3455 - val_wine_quality_loss: 0.3166 - val_wine_type_loss: 0.0289 - val_wine_quality_root_mean_squared_error: 0.5627 - val_wine_type_accuracy: 0.9949\n",
      "Epoch 76/180\n",
      "99/99 [==============================] - 1s 5ms/step - loss: 0.3193 - wine_quality_loss: 0.2955 - wine_type_loss: 0.0239 - wine_quality_root_mean_squared_error: 0.5436 - wine_type_accuracy: 0.9956 - val_loss: 0.3439 - val_wine_quality_loss: 0.3152 - val_wine_type_loss: 0.0287 - val_wine_quality_root_mean_squared_error: 0.5614 - val_wine_type_accuracy: 0.9949\n",
      "Epoch 77/180\n",
      "99/99 [==============================] - 1s 6ms/step - loss: 0.3186 - wine_quality_loss: 0.2949 - wine_type_loss: 0.0237 - wine_quality_root_mean_squared_error: 0.5431 - wine_type_accuracy: 0.9956 - val_loss: 0.3402 - val_wine_quality_loss: 0.3114 - val_wine_type_loss: 0.0288 - val_wine_quality_root_mean_squared_error: 0.5580 - val_wine_type_accuracy: 0.9949\n",
      "Epoch 78/180\n",
      "99/99 [==============================] - 0s 5ms/step - loss: 0.3171 - wine_quality_loss: 0.2934 - wine_type_loss: 0.0236 - wine_quality_root_mean_squared_error: 0.5417 - wine_type_accuracy: 0.9959 - val_loss: 0.3386 - val_wine_quality_loss: 0.3098 - val_wine_type_loss: 0.0288 - val_wine_quality_root_mean_squared_error: 0.5566 - val_wine_type_accuracy: 0.9949\n",
      "Epoch 79/180\n",
      "99/99 [==============================] - 0s 5ms/step - loss: 0.3174 - wine_quality_loss: 0.2939 - wine_type_loss: 0.0235 - wine_quality_root_mean_squared_error: 0.5421 - wine_type_accuracy: 0.9959 - val_loss: 0.3438 - val_wine_quality_loss: 0.3151 - val_wine_type_loss: 0.0287 - val_wine_quality_root_mean_squared_error: 0.5613 - val_wine_type_accuracy: 0.9949\n",
      "Epoch 80/180\n",
      "99/99 [==============================] - 0s 5ms/step - loss: 0.3170 - wine_quality_loss: 0.2936 - wine_type_loss: 0.0234 - wine_quality_root_mean_squared_error: 0.5418 - wine_type_accuracy: 0.9959 - val_loss: 0.3420 - val_wine_quality_loss: 0.3133 - val_wine_type_loss: 0.0287 - val_wine_quality_root_mean_squared_error: 0.5598 - val_wine_type_accuracy: 0.9949\n",
      "Epoch 81/180\n",
      "99/99 [==============================] - 0s 5ms/step - loss: 0.3153 - wine_quality_loss: 0.2920 - wine_type_loss: 0.0233 - wine_quality_root_mean_squared_error: 0.5404 - wine_type_accuracy: 0.9959 - val_loss: 0.3413 - val_wine_quality_loss: 0.3126 - val_wine_type_loss: 0.0287 - val_wine_quality_root_mean_squared_error: 0.5591 - val_wine_type_accuracy: 0.9949\n",
      "Epoch 82/180\n",
      "99/99 [==============================] - 0s 5ms/step - loss: 0.3144 - wine_quality_loss: 0.2912 - wine_type_loss: 0.0232 - wine_quality_root_mean_squared_error: 0.5397 - wine_type_accuracy: 0.9959 - val_loss: 0.3396 - val_wine_quality_loss: 0.3110 - val_wine_type_loss: 0.0286 - val_wine_quality_root_mean_squared_error: 0.5577 - val_wine_type_accuracy: 0.9949\n",
      "Epoch 83/180\n",
      "99/99 [==============================] - 0s 5ms/step - loss: 0.3134 - wine_quality_loss: 0.2903 - wine_type_loss: 0.0231 - wine_quality_root_mean_squared_error: 0.5388 - wine_type_accuracy: 0.9962 - val_loss: 0.3407 - val_wine_quality_loss: 0.3120 - val_wine_type_loss: 0.0286 - val_wine_quality_root_mean_squared_error: 0.5586 - val_wine_type_accuracy: 0.9949\n",
      "Epoch 84/180\n",
      "99/99 [==============================] - 0s 5ms/step - loss: 0.3127 - wine_quality_loss: 0.2898 - wine_type_loss: 0.0230 - wine_quality_root_mean_squared_error: 0.5383 - wine_type_accuracy: 0.9959 - val_loss: 0.3529 - val_wine_quality_loss: 0.3244 - val_wine_type_loss: 0.0285 - val_wine_quality_root_mean_squared_error: 0.5695 - val_wine_type_accuracy: 0.9949\n",
      "Epoch 85/180\n",
      "99/99 [==============================] - 0s 5ms/step - loss: 0.3116 - wine_quality_loss: 0.2887 - wine_type_loss: 0.0229 - wine_quality_root_mean_squared_error: 0.5373 - wine_type_accuracy: 0.9959 - val_loss: 0.3409 - val_wine_quality_loss: 0.3122 - val_wine_type_loss: 0.0286 - val_wine_quality_root_mean_squared_error: 0.5588 - val_wine_type_accuracy: 0.9949\n",
      "Epoch 86/180\n",
      "99/99 [==============================] - 0s 5ms/step - loss: 0.3116 - wine_quality_loss: 0.2888 - wine_type_loss: 0.0228 - wine_quality_root_mean_squared_error: 0.5374 - wine_type_accuracy: 0.9959 - val_loss: 0.3473 - val_wine_quality_loss: 0.3188 - val_wine_type_loss: 0.0285 - val_wine_quality_root_mean_squared_error: 0.5646 - val_wine_type_accuracy: 0.9949\n",
      "Epoch 87/180\n",
      "99/99 [==============================] - 0s 5ms/step - loss: 0.3114 - wine_quality_loss: 0.2888 - wine_type_loss: 0.0227 - wine_quality_root_mean_squared_error: 0.5374 - wine_type_accuracy: 0.9959 - val_loss: 0.3471 - val_wine_quality_loss: 0.3187 - val_wine_type_loss: 0.0285 - val_wine_quality_root_mean_squared_error: 0.5645 - val_wine_type_accuracy: 0.9949\n",
      "Epoch 88/180\n",
      "99/99 [==============================] - 0s 5ms/step - loss: 0.3106 - wine_quality_loss: 0.2881 - wine_type_loss: 0.0226 - wine_quality_root_mean_squared_error: 0.5367 - wine_type_accuracy: 0.9959 - val_loss: 0.3432 - val_wine_quality_loss: 0.3149 - val_wine_type_loss: 0.0284 - val_wine_quality_root_mean_squared_error: 0.5611 - val_wine_type_accuracy: 0.9949\n"
     ]
    },
    {
     "name": "stdout",
     "output_type": "stream",
     "text": [
      "Epoch 89/180\n",
      "99/99 [==============================] - 0s 5ms/step - loss: 0.3089 - wine_quality_loss: 0.2864 - wine_type_loss: 0.0224 - wine_quality_root_mean_squared_error: 0.5352 - wine_type_accuracy: 0.9962 - val_loss: 0.3463 - val_wine_quality_loss: 0.3178 - val_wine_type_loss: 0.0285 - val_wine_quality_root_mean_squared_error: 0.5637 - val_wine_type_accuracy: 0.9949\n",
      "Epoch 90/180\n",
      "99/99 [==============================] - 1s 5ms/step - loss: 0.3093 - wine_quality_loss: 0.2869 - wine_type_loss: 0.0224 - wine_quality_root_mean_squared_error: 0.5356 - wine_type_accuracy: 0.9959 - val_loss: 0.3427 - val_wine_quality_loss: 0.3143 - val_wine_type_loss: 0.0284 - val_wine_quality_root_mean_squared_error: 0.5606 - val_wine_type_accuracy: 0.9949\n",
      "Epoch 91/180\n",
      "99/99 [==============================] - 0s 5ms/step - loss: 0.3080 - wine_quality_loss: 0.2857 - wine_type_loss: 0.0223 - wine_quality_root_mean_squared_error: 0.5345 - wine_type_accuracy: 0.9959 - val_loss: 0.3427 - val_wine_quality_loss: 0.3144 - val_wine_type_loss: 0.0283 - val_wine_quality_root_mean_squared_error: 0.5607 - val_wine_type_accuracy: 0.9949\n",
      "Epoch 92/180\n",
      "99/99 [==============================] - 0s 4ms/step - loss: 0.3075 - wine_quality_loss: 0.2853 - wine_type_loss: 0.0222 - wine_quality_root_mean_squared_error: 0.5342 - wine_type_accuracy: 0.9959 - val_loss: 0.3444 - val_wine_quality_loss: 0.3160 - val_wine_type_loss: 0.0283 - val_wine_quality_root_mean_squared_error: 0.5621 - val_wine_type_accuracy: 0.9949\n",
      "Epoch 93/180\n",
      "99/99 [==============================] - 0s 4ms/step - loss: 0.3068 - wine_quality_loss: 0.2847 - wine_type_loss: 0.0221 - wine_quality_root_mean_squared_error: 0.5336 - wine_type_accuracy: 0.9959 - val_loss: 0.3486 - val_wine_quality_loss: 0.3203 - val_wine_type_loss: 0.0282 - val_wine_quality_root_mean_squared_error: 0.5660 - val_wine_type_accuracy: 0.9949\n",
      "Epoch 94/180\n",
      "99/99 [==============================] - 0s 5ms/step - loss: 0.3064 - wine_quality_loss: 0.2844 - wine_type_loss: 0.0220 - wine_quality_root_mean_squared_error: 0.5333 - wine_type_accuracy: 0.9959 - val_loss: 0.3419 - val_wine_quality_loss: 0.3137 - val_wine_type_loss: 0.0282 - val_wine_quality_root_mean_squared_error: 0.5601 - val_wine_type_accuracy: 0.9949\n",
      "Epoch 95/180\n",
      "99/99 [==============================] - 1s 5ms/step - loss: 0.3055 - wine_quality_loss: 0.2837 - wine_type_loss: 0.0219 - wine_quality_root_mean_squared_error: 0.5326 - wine_type_accuracy: 0.9962 - val_loss: 0.3384 - val_wine_quality_loss: 0.3101 - val_wine_type_loss: 0.0283 - val_wine_quality_root_mean_squared_error: 0.5569 - val_wine_type_accuracy: 0.9949\n",
      "Epoch 96/180\n",
      "99/99 [==============================] - 1s 5ms/step - loss: 0.3044 - wine_quality_loss: 0.2827 - wine_type_loss: 0.0218 - wine_quality_root_mean_squared_error: 0.5317 - wine_type_accuracy: 0.9962 - val_loss: 0.3374 - val_wine_quality_loss: 0.3092 - val_wine_type_loss: 0.0282 - val_wine_quality_root_mean_squared_error: 0.5560 - val_wine_type_accuracy: 0.9949\n",
      "Epoch 97/180\n",
      "99/99 [==============================] - 1s 5ms/step - loss: 0.3042 - wine_quality_loss: 0.2826 - wine_type_loss: 0.0217 - wine_quality_root_mean_squared_error: 0.5316 - wine_type_accuracy: 0.9962 - val_loss: 0.3453 - val_wine_quality_loss: 0.3171 - val_wine_type_loss: 0.0282 - val_wine_quality_root_mean_squared_error: 0.5632 - val_wine_type_accuracy: 0.9949\n",
      "Epoch 98/180\n",
      "99/99 [==============================] - 1s 5ms/step - loss: 0.3037 - wine_quality_loss: 0.2820 - wine_type_loss: 0.0216 - wine_quality_root_mean_squared_error: 0.5311 - wine_type_accuracy: 0.9959 - val_loss: 0.3381 - val_wine_quality_loss: 0.3100 - val_wine_type_loss: 0.0281 - val_wine_quality_root_mean_squared_error: 0.5568 - val_wine_type_accuracy: 0.9949\n",
      "Epoch 99/180\n",
      "99/99 [==============================] - 0s 5ms/step - loss: 0.3028 - wine_quality_loss: 0.2813 - wine_type_loss: 0.0215 - wine_quality_root_mean_squared_error: 0.5304 - wine_type_accuracy: 0.9962 - val_loss: 0.3456 - val_wine_quality_loss: 0.3174 - val_wine_type_loss: 0.0282 - val_wine_quality_root_mean_squared_error: 0.5634 - val_wine_type_accuracy: 0.9949\n",
      "Epoch 100/180\n",
      "99/99 [==============================] - 0s 5ms/step - loss: 0.3025 - wine_quality_loss: 0.2811 - wine_type_loss: 0.0214 - wine_quality_root_mean_squared_error: 0.5302 - wine_type_accuracy: 0.9962 - val_loss: 0.3473 - val_wine_quality_loss: 0.3192 - val_wine_type_loss: 0.0281 - val_wine_quality_root_mean_squared_error: 0.5650 - val_wine_type_accuracy: 0.9949\n",
      "Epoch 101/180\n",
      "99/99 [==============================] - 0s 5ms/step - loss: 0.3024 - wine_quality_loss: 0.2811 - wine_type_loss: 0.0213 - wine_quality_root_mean_squared_error: 0.5302 - wine_type_accuracy: 0.9959 - val_loss: 0.3405 - val_wine_quality_loss: 0.3126 - val_wine_type_loss: 0.0279 - val_wine_quality_root_mean_squared_error: 0.5591 - val_wine_type_accuracy: 0.9949\n",
      "Epoch 102/180\n",
      "99/99 [==============================] - 0s 5ms/step - loss: 0.3022 - wine_quality_loss: 0.2810 - wine_type_loss: 0.0212 - wine_quality_root_mean_squared_error: 0.5301 - wine_type_accuracy: 0.9962 - val_loss: 0.3388 - val_wine_quality_loss: 0.3107 - val_wine_type_loss: 0.0281 - val_wine_quality_root_mean_squared_error: 0.5574 - val_wine_type_accuracy: 0.9949\n",
      "Epoch 103/180\n",
      "99/99 [==============================] - 0s 5ms/step - loss: 0.3009 - wine_quality_loss: 0.2798 - wine_type_loss: 0.0212 - wine_quality_root_mean_squared_error: 0.5290 - wine_type_accuracy: 0.9962 - val_loss: 0.3416 - val_wine_quality_loss: 0.3136 - val_wine_type_loss: 0.0280 - val_wine_quality_root_mean_squared_error: 0.5600 - val_wine_type_accuracy: 0.9949\n",
      "Epoch 104/180\n",
      "99/99 [==============================] - 0s 5ms/step - loss: 0.3011 - wine_quality_loss: 0.2800 - wine_type_loss: 0.0211 - wine_quality_root_mean_squared_error: 0.5292 - wine_type_accuracy: 0.9959 - val_loss: 0.3424 - val_wine_quality_loss: 0.3145 - val_wine_type_loss: 0.0279 - val_wine_quality_root_mean_squared_error: 0.5608 - val_wine_type_accuracy: 0.9949\n",
      "Epoch 105/180\n",
      "99/99 [==============================] - 0s 5ms/step - loss: 0.3001 - wine_quality_loss: 0.2791 - wine_type_loss: 0.0210 - wine_quality_root_mean_squared_error: 0.5283 - wine_type_accuracy: 0.9965 - val_loss: 0.3414 - val_wine_quality_loss: 0.3136 - val_wine_type_loss: 0.0278 - val_wine_quality_root_mean_squared_error: 0.5600 - val_wine_type_accuracy: 0.9949\n",
      "Epoch 106/180\n",
      "99/99 [==============================] - 0s 5ms/step - loss: 0.2998 - wine_quality_loss: 0.2790 - wine_type_loss: 0.0208 - wine_quality_root_mean_squared_error: 0.5282 - wine_type_accuracy: 0.9965 - val_loss: 0.3406 - val_wine_quality_loss: 0.3127 - val_wine_type_loss: 0.0279 - val_wine_quality_root_mean_squared_error: 0.5592 - val_wine_type_accuracy: 0.9949\n",
      "Epoch 107/180\n",
      "99/99 [==============================] - 1s 5ms/step - loss: 0.3002 - wine_quality_loss: 0.2794 - wine_type_loss: 0.0208 - wine_quality_root_mean_squared_error: 0.5286 - wine_type_accuracy: 0.9965 - val_loss: 0.3392 - val_wine_quality_loss: 0.3113 - val_wine_type_loss: 0.0279 - val_wine_quality_root_mean_squared_error: 0.5579 - val_wine_type_accuracy: 0.9949\n",
      "Epoch 108/180\n",
      "99/99 [==============================] - 1s 5ms/step - loss: 0.2976 - wine_quality_loss: 0.2769 - wine_type_loss: 0.0207 - wine_quality_root_mean_squared_error: 0.5262 - wine_type_accuracy: 0.9962 - val_loss: 0.3356 - val_wine_quality_loss: 0.3077 - val_wine_type_loss: 0.0279 - val_wine_quality_root_mean_squared_error: 0.5547 - val_wine_type_accuracy: 0.9949\n",
      "Epoch 109/180\n",
      "99/99 [==============================] - 0s 5ms/step - loss: 0.2978 - wine_quality_loss: 0.2773 - wine_type_loss: 0.0206 - wine_quality_root_mean_squared_error: 0.5266 - wine_type_accuracy: 0.9965 - val_loss: 0.3370 - val_wine_quality_loss: 0.3090 - val_wine_type_loss: 0.0280 - val_wine_quality_root_mean_squared_error: 0.5559 - val_wine_type_accuracy: 0.9949\n",
      "Epoch 110/180\n",
      "99/99 [==============================] - 0s 4ms/step - loss: 0.2981 - wine_quality_loss: 0.2775 - wine_type_loss: 0.0206 - wine_quality_root_mean_squared_error: 0.5268 - wine_type_accuracy: 0.9962 - val_loss: 0.3420 - val_wine_quality_loss: 0.3141 - val_wine_type_loss: 0.0279 - val_wine_quality_root_mean_squared_error: 0.5605 - val_wine_type_accuracy: 0.9949\n"
     ]
    },
    {
     "name": "stdout",
     "output_type": "stream",
     "text": [
      "Epoch 111/180\n",
      "99/99 [==============================] - 0s 5ms/step - loss: 0.2972 - wine_quality_loss: 0.2767 - wine_type_loss: 0.0205 - wine_quality_root_mean_squared_error: 0.5260 - wine_type_accuracy: 0.9959 - val_loss: 0.3396 - val_wine_quality_loss: 0.3119 - val_wine_type_loss: 0.0277 - val_wine_quality_root_mean_squared_error: 0.5585 - val_wine_type_accuracy: 0.9949\n",
      "Epoch 112/180\n",
      "99/99 [==============================] - 0s 4ms/step - loss: 0.2969 - wine_quality_loss: 0.2765 - wine_type_loss: 0.0204 - wine_quality_root_mean_squared_error: 0.5258 - wine_type_accuracy: 0.9965 - val_loss: 0.3370 - val_wine_quality_loss: 0.3094 - val_wine_type_loss: 0.0276 - val_wine_quality_root_mean_squared_error: 0.5563 - val_wine_type_accuracy: 0.9949\n",
      "Epoch 113/180\n",
      "99/99 [==============================] - 0s 4ms/step - loss: 0.2962 - wine_quality_loss: 0.2759 - wine_type_loss: 0.0203 - wine_quality_root_mean_squared_error: 0.5252 - wine_type_accuracy: 0.9965 - val_loss: 0.3437 - val_wine_quality_loss: 0.3160 - val_wine_type_loss: 0.0277 - val_wine_quality_root_mean_squared_error: 0.5621 - val_wine_type_accuracy: 0.9949\n",
      "Epoch 114/180\n",
      "99/99 [==============================] - 0s 4ms/step - loss: 0.2955 - wine_quality_loss: 0.2753 - wine_type_loss: 0.0202 - wine_quality_root_mean_squared_error: 0.5247 - wine_type_accuracy: 0.9962 - val_loss: 0.3364 - val_wine_quality_loss: 0.3088 - val_wine_type_loss: 0.0276 - val_wine_quality_root_mean_squared_error: 0.5557 - val_wine_type_accuracy: 0.9949\n",
      "Epoch 115/180\n",
      "99/99 [==============================] - 0s 5ms/step - loss: 0.2939 - wine_quality_loss: 0.2737 - wine_type_loss: 0.0201 - wine_quality_root_mean_squared_error: 0.5232 - wine_type_accuracy: 0.9965 - val_loss: 0.3374 - val_wine_quality_loss: 0.3099 - val_wine_type_loss: 0.0276 - val_wine_quality_root_mean_squared_error: 0.5567 - val_wine_type_accuracy: 0.9949\n",
      "Epoch 116/180\n",
      "99/99 [==============================] - 0s 5ms/step - loss: 0.2922 - wine_quality_loss: 0.2721 - wine_type_loss: 0.0201 - wine_quality_root_mean_squared_error: 0.5217 - wine_type_accuracy: 0.9962 - val_loss: 0.3424 - val_wine_quality_loss: 0.3148 - val_wine_type_loss: 0.0275 - val_wine_quality_root_mean_squared_error: 0.5611 - val_wine_type_accuracy: 0.9949\n",
      "Epoch 117/180\n",
      "99/99 [==============================] - 0s 5ms/step - loss: 0.2945 - wine_quality_loss: 0.2745 - wine_type_loss: 0.0200 - wine_quality_root_mean_squared_error: 0.5239 - wine_type_accuracy: 0.9965 - val_loss: 0.3360 - val_wine_quality_loss: 0.3084 - val_wine_type_loss: 0.0275 - val_wine_quality_root_mean_squared_error: 0.5554 - val_wine_type_accuracy: 0.9949\n",
      "Epoch 118/180\n",
      "99/99 [==============================] - 0s 4ms/step - loss: 0.2935 - wine_quality_loss: 0.2736 - wine_type_loss: 0.0199 - wine_quality_root_mean_squared_error: 0.5231 - wine_type_accuracy: 0.9968 - val_loss: 0.3354 - val_wine_quality_loss: 0.3078 - val_wine_type_loss: 0.0276 - val_wine_quality_root_mean_squared_error: 0.5548 - val_wine_type_accuracy: 0.9949\n",
      "Epoch 119/180\n",
      "99/99 [==============================] - 0s 5ms/step - loss: 0.2918 - wine_quality_loss: 0.2719 - wine_type_loss: 0.0199 - wine_quality_root_mean_squared_error: 0.5214 - wine_type_accuracy: 0.9965 - val_loss: 0.3493 - val_wine_quality_loss: 0.3217 - val_wine_type_loss: 0.0276 - val_wine_quality_root_mean_squared_error: 0.5672 - val_wine_type_accuracy: 0.9949\n",
      "Epoch 120/180\n",
      "99/99 [==============================] - 0s 5ms/step - loss: 0.2925 - wine_quality_loss: 0.2727 - wine_type_loss: 0.0198 - wine_quality_root_mean_squared_error: 0.5222 - wine_type_accuracy: 0.9965 - val_loss: 0.3367 - val_wine_quality_loss: 0.3092 - val_wine_type_loss: 0.0275 - val_wine_quality_root_mean_squared_error: 0.5561 - val_wine_type_accuracy: 0.9949\n",
      "Epoch 121/180\n",
      "99/99 [==============================] - 0s 5ms/step - loss: 0.2921 - wine_quality_loss: 0.2724 - wine_type_loss: 0.0197 - wine_quality_root_mean_squared_error: 0.5219 - wine_type_accuracy: 0.9968 - val_loss: 0.3404 - val_wine_quality_loss: 0.3130 - val_wine_type_loss: 0.0274 - val_wine_quality_root_mean_squared_error: 0.5594 - val_wine_type_accuracy: 0.9949\n",
      "Epoch 122/180\n",
      "99/99 [==============================] - 0s 4ms/step - loss: 0.2920 - wine_quality_loss: 0.2723 - wine_type_loss: 0.0197 - wine_quality_root_mean_squared_error: 0.5218 - wine_type_accuracy: 0.9965 - val_loss: 0.3383 - val_wine_quality_loss: 0.3109 - val_wine_type_loss: 0.0274 - val_wine_quality_root_mean_squared_error: 0.5576 - val_wine_type_accuracy: 0.9949\n",
      "Epoch 123/180\n",
      "99/99 [==============================] - 0s 5ms/step - loss: 0.2917 - wine_quality_loss: 0.2721 - wine_type_loss: 0.0196 - wine_quality_root_mean_squared_error: 0.5216 - wine_type_accuracy: 0.9965 - val_loss: 0.3422 - val_wine_quality_loss: 0.3148 - val_wine_type_loss: 0.0274 - val_wine_quality_root_mean_squared_error: 0.5611 - val_wine_type_accuracy: 0.9949\n",
      "Epoch 124/180\n",
      "99/99 [==============================] - 0s 5ms/step - loss: 0.2905 - wine_quality_loss: 0.2710 - wine_type_loss: 0.0195 - wine_quality_root_mean_squared_error: 0.5206 - wine_type_accuracy: 0.9965 - val_loss: 0.3343 - val_wine_quality_loss: 0.3069 - val_wine_type_loss: 0.0273 - val_wine_quality_root_mean_squared_error: 0.5540 - val_wine_type_accuracy: 0.9949\n",
      "Epoch 125/180\n",
      "99/99 [==============================] - 0s 5ms/step - loss: 0.2898 - wine_quality_loss: 0.2703 - wine_type_loss: 0.0194 - wine_quality_root_mean_squared_error: 0.5199 - wine_type_accuracy: 0.9968 - val_loss: 0.3360 - val_wine_quality_loss: 0.3086 - val_wine_type_loss: 0.0274 - val_wine_quality_root_mean_squared_error: 0.5555 - val_wine_type_accuracy: 0.9949\n",
      "Epoch 126/180\n",
      "99/99 [==============================] - 0s 5ms/step - loss: 0.2896 - wine_quality_loss: 0.2702 - wine_type_loss: 0.0193 - wine_quality_root_mean_squared_error: 0.5198 - wine_type_accuracy: 0.9965 - val_loss: 0.3408 - val_wine_quality_loss: 0.3134 - val_wine_type_loss: 0.0273 - val_wine_quality_root_mean_squared_error: 0.5599 - val_wine_type_accuracy: 0.9949\n",
      "Epoch 127/180\n",
      "99/99 [==============================] - 0s 5ms/step - loss: 0.2888 - wine_quality_loss: 0.2695 - wine_type_loss: 0.0192 - wine_quality_root_mean_squared_error: 0.5192 - wine_type_accuracy: 0.9968 - val_loss: 0.3382 - val_wine_quality_loss: 0.3108 - val_wine_type_loss: 0.0274 - val_wine_quality_root_mean_squared_error: 0.5575 - val_wine_type_accuracy: 0.9949\n",
      "Epoch 128/180\n",
      "99/99 [==============================] - 0s 5ms/step - loss: 0.2886 - wine_quality_loss: 0.2693 - wine_type_loss: 0.0193 - wine_quality_root_mean_squared_error: 0.5190 - wine_type_accuracy: 0.9965 - val_loss: 0.3393 - val_wine_quality_loss: 0.3120 - val_wine_type_loss: 0.0273 - val_wine_quality_root_mean_squared_error: 0.5586 - val_wine_type_accuracy: 0.9949\n",
      "Epoch 129/180\n",
      "99/99 [==============================] - 0s 5ms/step - loss: 0.2889 - wine_quality_loss: 0.2698 - wine_type_loss: 0.0191 - wine_quality_root_mean_squared_error: 0.5194 - wine_type_accuracy: 0.9968 - val_loss: 0.3346 - val_wine_quality_loss: 0.3072 - val_wine_type_loss: 0.0274 - val_wine_quality_root_mean_squared_error: 0.5543 - val_wine_type_accuracy: 0.9949\n",
      "Epoch 130/180\n",
      "99/99 [==============================] - 0s 5ms/step - loss: 0.2876 - wine_quality_loss: 0.2685 - wine_type_loss: 0.0191 - wine_quality_root_mean_squared_error: 0.5181 - wine_type_accuracy: 0.9962 - val_loss: 0.3446 - val_wine_quality_loss: 0.3173 - val_wine_type_loss: 0.0273 - val_wine_quality_root_mean_squared_error: 0.5633 - val_wine_type_accuracy: 0.9949\n",
      "Epoch 131/180\n",
      "99/99 [==============================] - 0s 5ms/step - loss: 0.2873 - wine_quality_loss: 0.2683 - wine_type_loss: 0.0190 - wine_quality_root_mean_squared_error: 0.5179 - wine_type_accuracy: 0.9968 - val_loss: 0.3382 - val_wine_quality_loss: 0.3109 - val_wine_type_loss: 0.0273 - val_wine_quality_root_mean_squared_error: 0.5576 - val_wine_type_accuracy: 0.9949\n",
      "Epoch 132/180\n",
      "99/99 [==============================] - 0s 5ms/step - loss: 0.2861 - wine_quality_loss: 0.2672 - wine_type_loss: 0.0189 - wine_quality_root_mean_squared_error: 0.5169 - wine_type_accuracy: 0.9968 - val_loss: 0.3383 - val_wine_quality_loss: 0.3111 - val_wine_type_loss: 0.0272 - val_wine_quality_root_mean_squared_error: 0.5578 - val_wine_type_accuracy: 0.9949\n"
     ]
    },
    {
     "name": "stdout",
     "output_type": "stream",
     "text": [
      "Epoch 133/180\n",
      "99/99 [==============================] - 0s 5ms/step - loss: 0.2874 - wine_quality_loss: 0.2685 - wine_type_loss: 0.0189 - wine_quality_root_mean_squared_error: 0.5182 - wine_type_accuracy: 0.9968 - val_loss: 0.3374 - val_wine_quality_loss: 0.3101 - val_wine_type_loss: 0.0273 - val_wine_quality_root_mean_squared_error: 0.5568 - val_wine_type_accuracy: 0.9949\n",
      "Epoch 134/180\n",
      "99/99 [==============================] - 0s 5ms/step - loss: 0.2867 - wine_quality_loss: 0.2679 - wine_type_loss: 0.0188 - wine_quality_root_mean_squared_error: 0.5176 - wine_type_accuracy: 0.9968 - val_loss: 0.3362 - val_wine_quality_loss: 0.3089 - val_wine_type_loss: 0.0273 - val_wine_quality_root_mean_squared_error: 0.5558 - val_wine_type_accuracy: 0.9949\n",
      "Epoch 135/180\n",
      "99/99 [==============================] - 0s 5ms/step - loss: 0.2854 - wine_quality_loss: 0.2666 - wine_type_loss: 0.0188 - wine_quality_root_mean_squared_error: 0.5164 - wine_type_accuracy: 0.9965 - val_loss: 0.3384 - val_wine_quality_loss: 0.3111 - val_wine_type_loss: 0.0273 - val_wine_quality_root_mean_squared_error: 0.5578 - val_wine_type_accuracy: 0.9949\n",
      "Epoch 136/180\n",
      "99/99 [==============================] - 1s 5ms/step - loss: 0.2849 - wine_quality_loss: 0.2662 - wine_type_loss: 0.0187 - wine_quality_root_mean_squared_error: 0.5159 - wine_type_accuracy: 0.9965 - val_loss: 0.3483 - val_wine_quality_loss: 0.3210 - val_wine_type_loss: 0.0273 - val_wine_quality_root_mean_squared_error: 0.5666 - val_wine_type_accuracy: 0.9949\n",
      "Epoch 137/180\n",
      "99/99 [==============================] - 0s 5ms/step - loss: 0.2839 - wine_quality_loss: 0.2653 - wine_type_loss: 0.0186 - wine_quality_root_mean_squared_error: 0.5150 - wine_type_accuracy: 0.9965 - val_loss: 0.3356 - val_wine_quality_loss: 0.3083 - val_wine_type_loss: 0.0273 - val_wine_quality_root_mean_squared_error: 0.5552 - val_wine_type_accuracy: 0.9949\n",
      "Epoch 138/180\n",
      "99/99 [==============================] - 1s 5ms/step - loss: 0.2852 - wine_quality_loss: 0.2666 - wine_type_loss: 0.0186 - wine_quality_root_mean_squared_error: 0.5163 - wine_type_accuracy: 0.9968 - val_loss: 0.3337 - val_wine_quality_loss: 0.3064 - val_wine_type_loss: 0.0273 - val_wine_quality_root_mean_squared_error: 0.5536 - val_wine_type_accuracy: 0.9949\n",
      "Epoch 139/180\n",
      "99/99 [==============================] - 0s 5ms/step - loss: 0.2839 - wine_quality_loss: 0.2653 - wine_type_loss: 0.0185 - wine_quality_root_mean_squared_error: 0.5151 - wine_type_accuracy: 0.9968 - val_loss: 0.3418 - val_wine_quality_loss: 0.3146 - val_wine_type_loss: 0.0272 - val_wine_quality_root_mean_squared_error: 0.5609 - val_wine_type_accuracy: 0.9949\n",
      "Epoch 140/180\n",
      "99/99 [==============================] - 0s 5ms/step - loss: 0.2825 - wine_quality_loss: 0.2640 - wine_type_loss: 0.0185 - wine_quality_root_mean_squared_error: 0.5138 - wine_type_accuracy: 0.9965 - val_loss: 0.3444 - val_wine_quality_loss: 0.3172 - val_wine_type_loss: 0.0272 - val_wine_quality_root_mean_squared_error: 0.5632 - val_wine_type_accuracy: 0.9949\n",
      "Epoch 141/180\n",
      "99/99 [==============================] - 1s 5ms/step - loss: 0.2828 - wine_quality_loss: 0.2644 - wine_type_loss: 0.0184 - wine_quality_root_mean_squared_error: 0.5142 - wine_type_accuracy: 0.9965 - val_loss: 0.3342 - val_wine_quality_loss: 0.3071 - val_wine_type_loss: 0.0271 - val_wine_quality_root_mean_squared_error: 0.5541 - val_wine_type_accuracy: 0.9949\n",
      "Epoch 142/180\n",
      "99/99 [==============================] - 1s 5ms/step - loss: 0.2826 - wine_quality_loss: 0.2643 - wine_type_loss: 0.0183 - wine_quality_root_mean_squared_error: 0.5141 - wine_type_accuracy: 0.9968 - val_loss: 0.3410 - val_wine_quality_loss: 0.3137 - val_wine_type_loss: 0.0272 - val_wine_quality_root_mean_squared_error: 0.5601 - val_wine_type_accuracy: 0.9949\n",
      "Epoch 143/180\n",
      "99/99 [==============================] - 0s 5ms/step - loss: 0.2816 - wine_quality_loss: 0.2633 - wine_type_loss: 0.0183 - wine_quality_root_mean_squared_error: 0.5131 - wine_type_accuracy: 0.9968 - val_loss: 0.3401 - val_wine_quality_loss: 0.3130 - val_wine_type_loss: 0.0271 - val_wine_quality_root_mean_squared_error: 0.5595 - val_wine_type_accuracy: 0.9949\n",
      "Epoch 144/180\n",
      "99/99 [==============================] - 0s 5ms/step - loss: 0.2822 - wine_quality_loss: 0.2640 - wine_type_loss: 0.0182 - wine_quality_root_mean_squared_error: 0.5138 - wine_type_accuracy: 0.9968 - val_loss: 0.3357 - val_wine_quality_loss: 0.3085 - val_wine_type_loss: 0.0272 - val_wine_quality_root_mean_squared_error: 0.5555 - val_wine_type_accuracy: 0.9949\n",
      "Epoch 145/180\n",
      "99/99 [==============================] - 0s 5ms/step - loss: 0.2811 - wine_quality_loss: 0.2630 - wine_type_loss: 0.0181 - wine_quality_root_mean_squared_error: 0.5128 - wine_type_accuracy: 0.9968 - val_loss: 0.3420 - val_wine_quality_loss: 0.3147 - val_wine_type_loss: 0.0272 - val_wine_quality_root_mean_squared_error: 0.5610 - val_wine_type_accuracy: 0.9949\n",
      "Epoch 146/180\n",
      "99/99 [==============================] - 0s 5ms/step - loss: 0.2812 - wine_quality_loss: 0.2630 - wine_type_loss: 0.0181 - wine_quality_root_mean_squared_error: 0.5129 - wine_type_accuracy: 0.9968 - val_loss: 0.3340 - val_wine_quality_loss: 0.3068 - val_wine_type_loss: 0.0272 - val_wine_quality_root_mean_squared_error: 0.5539 - val_wine_type_accuracy: 0.9949\n",
      "Epoch 147/180\n",
      "99/99 [==============================] - 0s 5ms/step - loss: 0.2805 - wine_quality_loss: 0.2625 - wine_type_loss: 0.0180 - wine_quality_root_mean_squared_error: 0.5123 - wine_type_accuracy: 0.9968 - val_loss: 0.3396 - val_wine_quality_loss: 0.3125 - val_wine_type_loss: 0.0272 - val_wine_quality_root_mean_squared_error: 0.5590 - val_wine_type_accuracy: 0.9949\n",
      "Epoch 148/180\n",
      "99/99 [==============================] - 0s 5ms/step - loss: 0.2792 - wine_quality_loss: 0.2612 - wine_type_loss: 0.0180 - wine_quality_root_mean_squared_error: 0.5111 - wine_type_accuracy: 0.9965 - val_loss: 0.3346 - val_wine_quality_loss: 0.3074 - val_wine_type_loss: 0.0272 - val_wine_quality_root_mean_squared_error: 0.5544 - val_wine_type_accuracy: 0.9949\n",
      "Epoch 149/180\n",
      "99/99 [==============================] - 0s 5ms/step - loss: 0.2794 - wine_quality_loss: 0.2616 - wine_type_loss: 0.0179 - wine_quality_root_mean_squared_error: 0.5114 - wine_type_accuracy: 0.9968 - val_loss: 0.3366 - val_wine_quality_loss: 0.3095 - val_wine_type_loss: 0.0271 - val_wine_quality_root_mean_squared_error: 0.5563 - val_wine_type_accuracy: 0.9949\n",
      "Epoch 150/180\n",
      "99/99 [==============================] - 0s 5ms/step - loss: 0.2780 - wine_quality_loss: 0.2602 - wine_type_loss: 0.0179 - wine_quality_root_mean_squared_error: 0.5101 - wine_type_accuracy: 0.9968 - val_loss: 0.3336 - val_wine_quality_loss: 0.3065 - val_wine_type_loss: 0.0272 - val_wine_quality_root_mean_squared_error: 0.5536 - val_wine_type_accuracy: 0.9949\n",
      "Epoch 151/180\n",
      "99/99 [==============================] - 0s 5ms/step - loss: 0.2774 - wine_quality_loss: 0.2596 - wine_type_loss: 0.0178 - wine_quality_root_mean_squared_error: 0.5095 - wine_type_accuracy: 0.9968 - val_loss: 0.3439 - val_wine_quality_loss: 0.3165 - val_wine_type_loss: 0.0274 - val_wine_quality_root_mean_squared_error: 0.5626 - val_wine_type_accuracy: 0.9949\n",
      "Epoch 152/180\n",
      "99/99 [==============================] - 0s 5ms/step - loss: 0.2780 - wine_quality_loss: 0.2602 - wine_type_loss: 0.0178 - wine_quality_root_mean_squared_error: 0.5101 - wine_type_accuracy: 0.9965 - val_loss: 0.3356 - val_wine_quality_loss: 0.3083 - val_wine_type_loss: 0.0273 - val_wine_quality_root_mean_squared_error: 0.5552 - val_wine_type_accuracy: 0.9949\n",
      "Epoch 153/180\n",
      "99/99 [==============================] - 0s 5ms/step - loss: 0.2786 - wine_quality_loss: 0.2609 - wine_type_loss: 0.0177 - wine_quality_root_mean_squared_error: 0.5108 - wine_type_accuracy: 0.9965 - val_loss: 0.3367 - val_wine_quality_loss: 0.3095 - val_wine_type_loss: 0.0272 - val_wine_quality_root_mean_squared_error: 0.5563 - val_wine_type_accuracy: 0.9949\n",
      "Epoch 154/180\n",
      "99/99 [==============================] - 0s 5ms/step - loss: 0.2775 - wine_quality_loss: 0.2599 - wine_type_loss: 0.0176 - wine_quality_root_mean_squared_error: 0.5099 - wine_type_accuracy: 0.9965 - val_loss: 0.3431 - val_wine_quality_loss: 0.3159 - val_wine_type_loss: 0.0272 - val_wine_quality_root_mean_squared_error: 0.5621 - val_wine_type_accuracy: 0.9949\n"
     ]
    },
    {
     "name": "stdout",
     "output_type": "stream",
     "text": [
      "Epoch 155/180\n",
      "99/99 [==============================] - 0s 5ms/step - loss: 0.2777 - wine_quality_loss: 0.2601 - wine_type_loss: 0.0176 - wine_quality_root_mean_squared_error: 0.5100 - wine_type_accuracy: 0.9968 - val_loss: 0.3466 - val_wine_quality_loss: 0.3195 - val_wine_type_loss: 0.0271 - val_wine_quality_root_mean_squared_error: 0.5652 - val_wine_type_accuracy: 0.9949\n",
      "Epoch 156/180\n",
      "99/99 [==============================] - 0s 5ms/step - loss: 0.2764 - wine_quality_loss: 0.2589 - wine_type_loss: 0.0175 - wine_quality_root_mean_squared_error: 0.5088 - wine_type_accuracy: 0.9968 - val_loss: 0.3400 - val_wine_quality_loss: 0.3129 - val_wine_type_loss: 0.0272 - val_wine_quality_root_mean_squared_error: 0.5593 - val_wine_type_accuracy: 0.9949\n",
      "Epoch 157/180\n",
      "99/99 [==============================] - 0s 5ms/step - loss: 0.2759 - wine_quality_loss: 0.2585 - wine_type_loss: 0.0175 - wine_quality_root_mean_squared_error: 0.5084 - wine_type_accuracy: 0.9968 - val_loss: 0.3444 - val_wine_quality_loss: 0.3172 - val_wine_type_loss: 0.0272 - val_wine_quality_root_mean_squared_error: 0.5632 - val_wine_type_accuracy: 0.9949\n",
      "Epoch 158/180\n",
      "99/99 [==============================] - 0s 5ms/step - loss: 0.2756 - wine_quality_loss: 0.2582 - wine_type_loss: 0.0174 - wine_quality_root_mean_squared_error: 0.5081 - wine_type_accuracy: 0.9968 - val_loss: 0.3344 - val_wine_quality_loss: 0.3074 - val_wine_type_loss: 0.0270 - val_wine_quality_root_mean_squared_error: 0.5544 - val_wine_type_accuracy: 0.9949\n",
      "Epoch 159/180\n",
      "99/99 [==============================] - 0s 5ms/step - loss: 0.2756 - wine_quality_loss: 0.2582 - wine_type_loss: 0.0173 - wine_quality_root_mean_squared_error: 0.5081 - wine_type_accuracy: 0.9968 - val_loss: 0.3339 - val_wine_quality_loss: 0.3069 - val_wine_type_loss: 0.0270 - val_wine_quality_root_mean_squared_error: 0.5539 - val_wine_type_accuracy: 0.9949\n",
      "Epoch 160/180\n",
      "99/99 [==============================] - 0s 5ms/step - loss: 0.2752 - wine_quality_loss: 0.2580 - wine_type_loss: 0.0172 - wine_quality_root_mean_squared_error: 0.5079 - wine_type_accuracy: 0.9968 - val_loss: 0.3348 - val_wine_quality_loss: 0.3077 - val_wine_type_loss: 0.0271 - val_wine_quality_root_mean_squared_error: 0.5547 - val_wine_type_accuracy: 0.9949\n",
      "Epoch 161/180\n",
      "99/99 [==============================] - 0s 5ms/step - loss: 0.2748 - wine_quality_loss: 0.2576 - wine_type_loss: 0.0172 - wine_quality_root_mean_squared_error: 0.5075 - wine_type_accuracy: 0.9968 - val_loss: 0.3360 - val_wine_quality_loss: 0.3090 - val_wine_type_loss: 0.0270 - val_wine_quality_root_mean_squared_error: 0.5559 - val_wine_type_accuracy: 0.9949\n",
      "Epoch 162/180\n",
      "99/99 [==============================] - 0s 5ms/step - loss: 0.2740 - wine_quality_loss: 0.2568 - wine_type_loss: 0.0171 - wine_quality_root_mean_squared_error: 0.5068 - wine_type_accuracy: 0.9968 - val_loss: 0.3388 - val_wine_quality_loss: 0.3118 - val_wine_type_loss: 0.0270 - val_wine_quality_root_mean_squared_error: 0.5584 - val_wine_type_accuracy: 0.9949\n",
      "Epoch 163/180\n",
      "99/99 [==============================] - 0s 5ms/step - loss: 0.2747 - wine_quality_loss: 0.2575 - wine_type_loss: 0.0171 - wine_quality_root_mean_squared_error: 0.5075 - wine_type_accuracy: 0.9968 - val_loss: 0.3355 - val_wine_quality_loss: 0.3085 - val_wine_type_loss: 0.0270 - val_wine_quality_root_mean_squared_error: 0.5554 - val_wine_type_accuracy: 0.9949\n",
      "Epoch 164/180\n",
      "99/99 [==============================] - 0s 5ms/step - loss: 0.2724 - wine_quality_loss: 0.2554 - wine_type_loss: 0.0170 - wine_quality_root_mean_squared_error: 0.5054 - wine_type_accuracy: 0.9968 - val_loss: 0.3456 - val_wine_quality_loss: 0.3185 - val_wine_type_loss: 0.0271 - val_wine_quality_root_mean_squared_error: 0.5643 - val_wine_type_accuracy: 0.9949\n",
      "Epoch 165/180\n",
      "99/99 [==============================] - 0s 5ms/step - loss: 0.2727 - wine_quality_loss: 0.2556 - wine_type_loss: 0.0171 - wine_quality_root_mean_squared_error: 0.5056 - wine_type_accuracy: 0.9968 - val_loss: 0.3436 - val_wine_quality_loss: 0.3164 - val_wine_type_loss: 0.0272 - val_wine_quality_root_mean_squared_error: 0.5625 - val_wine_type_accuracy: 0.9949\n",
      "Epoch 166/180\n",
      "99/99 [==============================] - 0s 5ms/step - loss: 0.2724 - wine_quality_loss: 0.2554 - wine_type_loss: 0.0170 - wine_quality_root_mean_squared_error: 0.5053 - wine_type_accuracy: 0.9968 - val_loss: 0.3354 - val_wine_quality_loss: 0.3083 - val_wine_type_loss: 0.0272 - val_wine_quality_root_mean_squared_error: 0.5552 - val_wine_type_accuracy: 0.9949\n",
      "Epoch 167/180\n",
      "99/99 [==============================] - 0s 5ms/step - loss: 0.2722 - wine_quality_loss: 0.2553 - wine_type_loss: 0.0169 - wine_quality_root_mean_squared_error: 0.5053 - wine_type_accuracy: 0.9968 - val_loss: 0.3410 - val_wine_quality_loss: 0.3139 - val_wine_type_loss: 0.0271 - val_wine_quality_root_mean_squared_error: 0.5603 - val_wine_type_accuracy: 0.9949\n",
      "Epoch 168/180\n",
      "99/99 [==============================] - 0s 5ms/step - loss: 0.2724 - wine_quality_loss: 0.2555 - wine_type_loss: 0.0168 - wine_quality_root_mean_squared_error: 0.5055 - wine_type_accuracy: 0.9968 - val_loss: 0.3368 - val_wine_quality_loss: 0.3097 - val_wine_type_loss: 0.0270 - val_wine_quality_root_mean_squared_error: 0.5565 - val_wine_type_accuracy: 0.9949\n",
      "Epoch 169/180\n",
      "99/99 [==============================] - 0s 5ms/step - loss: 0.2716 - wine_quality_loss: 0.2548 - wine_type_loss: 0.0168 - wine_quality_root_mean_squared_error: 0.5048 - wine_type_accuracy: 0.9968 - val_loss: 0.3358 - val_wine_quality_loss: 0.3087 - val_wine_type_loss: 0.0271 - val_wine_quality_root_mean_squared_error: 0.5556 - val_wine_type_accuracy: 0.9949\n",
      "Epoch 170/180\n",
      "99/99 [==============================] - 0s 5ms/step - loss: 0.2711 - wine_quality_loss: 0.2543 - wine_type_loss: 0.0168 - wine_quality_root_mean_squared_error: 0.5043 - wine_type_accuracy: 0.9968 - val_loss: 0.3372 - val_wine_quality_loss: 0.3101 - val_wine_type_loss: 0.0271 - val_wine_quality_root_mean_squared_error: 0.5568 - val_wine_type_accuracy: 0.9949\n",
      "Epoch 171/180\n",
      "99/99 [==============================] - 0s 4ms/step - loss: 0.2708 - wine_quality_loss: 0.2540 - wine_type_loss: 0.0167 - wine_quality_root_mean_squared_error: 0.5040 - wine_type_accuracy: 0.9968 - val_loss: 0.3372 - val_wine_quality_loss: 0.3101 - val_wine_type_loss: 0.0271 - val_wine_quality_root_mean_squared_error: 0.5569 - val_wine_type_accuracy: 0.9949\n",
      "Epoch 172/180\n",
      "99/99 [==============================] - 0s 5ms/step - loss: 0.2711 - wine_quality_loss: 0.2544 - wine_type_loss: 0.0166 - wine_quality_root_mean_squared_error: 0.5044 - wine_type_accuracy: 0.9968 - val_loss: 0.3370 - val_wine_quality_loss: 0.3097 - val_wine_type_loss: 0.0272 - val_wine_quality_root_mean_squared_error: 0.5565 - val_wine_type_accuracy: 0.9949\n",
      "Epoch 173/180\n",
      "99/99 [==============================] - 0s 5ms/step - loss: 0.2688 - wine_quality_loss: 0.2522 - wine_type_loss: 0.0166 - wine_quality_root_mean_squared_error: 0.5022 - wine_type_accuracy: 0.9968 - val_loss: 0.3426 - val_wine_quality_loss: 0.3155 - val_wine_type_loss: 0.0271 - val_wine_quality_root_mean_squared_error: 0.5617 - val_wine_type_accuracy: 0.9949\n",
      "Epoch 174/180\n",
      "99/99 [==============================] - 0s 5ms/step - loss: 0.2696 - wine_quality_loss: 0.2531 - wine_type_loss: 0.0165 - wine_quality_root_mean_squared_error: 0.5031 - wine_type_accuracy: 0.9968 - val_loss: 0.3442 - val_wine_quality_loss: 0.3171 - val_wine_type_loss: 0.0271 - val_wine_quality_root_mean_squared_error: 0.5631 - val_wine_type_accuracy: 0.9949\n",
      "Epoch 175/180\n",
      "99/99 [==============================] - 1s 5ms/step - loss: 0.2698 - wine_quality_loss: 0.2533 - wine_type_loss: 0.0165 - wine_quality_root_mean_squared_error: 0.5033 - wine_type_accuracy: 0.9968 - val_loss: 0.3343 - val_wine_quality_loss: 0.3072 - val_wine_type_loss: 0.0271 - val_wine_quality_root_mean_squared_error: 0.5543 - val_wine_type_accuracy: 0.9949\n",
      "Epoch 176/180\n",
      "99/99 [==============================] - 1s 5ms/step - loss: 0.2685 - wine_quality_loss: 0.2521 - wine_type_loss: 0.0164 - wine_quality_root_mean_squared_error: 0.5021 - wine_type_accuracy: 0.9968 - val_loss: 0.3465 - val_wine_quality_loss: 0.3194 - val_wine_type_loss: 0.0271 - val_wine_quality_root_mean_squared_error: 0.5652 - val_wine_type_accuracy: 0.9949\n"
     ]
    },
    {
     "name": "stdout",
     "output_type": "stream",
     "text": [
      "Epoch 177/180\n",
      "99/99 [==============================] - 0s 5ms/step - loss: 0.2685 - wine_quality_loss: 0.2521 - wine_type_loss: 0.0164 - wine_quality_root_mean_squared_error: 0.5021 - wine_type_accuracy: 0.9968 - val_loss: 0.3398 - val_wine_quality_loss: 0.3126 - val_wine_type_loss: 0.0272 - val_wine_quality_root_mean_squared_error: 0.5591 - val_wine_type_accuracy: 0.9949\n",
      "Epoch 178/180\n",
      "99/99 [==============================] - 0s 5ms/step - loss: 0.2678 - wine_quality_loss: 0.2514 - wine_type_loss: 0.0163 - wine_quality_root_mean_squared_error: 0.5014 - wine_type_accuracy: 0.9968 - val_loss: 0.3344 - val_wine_quality_loss: 0.3072 - val_wine_type_loss: 0.0272 - val_wine_quality_root_mean_squared_error: 0.5542 - val_wine_type_accuracy: 0.9949\n",
      "Epoch 179/180\n",
      "99/99 [==============================] - 0s 5ms/step - loss: 0.2671 - wine_quality_loss: 0.2508 - wine_type_loss: 0.0164 - wine_quality_root_mean_squared_error: 0.5008 - wine_type_accuracy: 0.9968 - val_loss: 0.3449 - val_wine_quality_loss: 0.3178 - val_wine_type_loss: 0.0271 - val_wine_quality_root_mean_squared_error: 0.5638 - val_wine_type_accuracy: 0.9949\n",
      "Epoch 180/180\n",
      "99/99 [==============================] - 0s 5ms/step - loss: 0.2672 - wine_quality_loss: 0.2510 - wine_type_loss: 0.0162 - wine_quality_root_mean_squared_error: 0.5010 - wine_type_accuracy: 0.9968 - val_loss: 0.3407 - val_wine_quality_loss: 0.3135 - val_wine_type_loss: 0.0273 - val_wine_quality_root_mean_squared_error: 0.5599 - val_wine_type_accuracy: 0.9949\n"
     ]
    }
   ],
   "source": [
    "## Please uncomment all lines in this cell and replace those marked with `# YOUR CODE HERE`.\n",
    "## You can select all lines in this code cell with Ctrl+A (Windows/Linux) or Cmd+A (Mac), then press Ctrl+/ (Windows/Linux) or Cmd+/ (Mac) to uncomment.\n",
    "\n",
    "\n",
    "\n",
    "history = model.fit(norm_train_X, train_Y,\n",
    "                    epochs = 180, validation_data=(norm_val_X, val_Y))"
   ]
  },
  {
   "cell_type": "code",
   "execution_count": 51,
   "metadata": {
    "deletable": false,
    "editable": false,
    "nbgrader": {
     "cell_type": "code",
     "checksum": "fadad8896eda9c8c2115970724b15508",
     "grade": true,
     "grade_id": "cell-eb4d5b41bef8f0ab",
     "locked": true,
     "points": 1,
     "schema_version": 3,
     "solution": false,
     "task": false
    },
    "scrolled": true
   },
   "outputs": [
    {
     "ename": "KeyError",
     "evalue": "'samples'",
     "output_type": "error",
     "traceback": [
      "\u001b[1;31m---------------------------------------------------------------------------\u001b[0m",
      "\u001b[1;31mKeyError\u001b[0m                                  Traceback (most recent call last)",
      "Input \u001b[1;32mIn [51]\u001b[0m, in \u001b[0;36m<cell line: 1>\u001b[1;34m()\u001b[0m\n\u001b[1;32m----> 1\u001b[0m \u001b[43mutils\u001b[49m\u001b[38;5;241;43m.\u001b[39;49m\u001b[43mtest_history\u001b[49m\u001b[43m(\u001b[49m\u001b[43mhistory\u001b[49m\u001b[43m)\u001b[49m\n",
      "File \u001b[1;32m~\\Jupyter\\TensorFlow-Advanced-Techniques-Specialization\\Course 1 - Custom Models, Layers, and Loss Functions with TensorFlow\\Week 1\\utils.py:334\u001b[0m, in \u001b[0;36mtest_history\u001b[1;34m(history)\u001b[0m\n\u001b[0;32m    321\u001b[0m \u001b[38;5;28;01mdef\u001b[39;00m \u001b[38;5;21mtest_history\u001b[39m(history):\n\u001b[0;32m    323\u001b[0m     vars_history \u001b[38;5;241m=\u001b[39m \u001b[38;5;28mvars\u001b[39m(history)\n\u001b[0;32m    325\u001b[0m     test_cases \u001b[38;5;241m=\u001b[39m [\n\u001b[0;32m    326\u001b[0m         {\n\u001b[0;32m    327\u001b[0m             \u001b[38;5;124m\"\u001b[39m\u001b[38;5;124mname\u001b[39m\u001b[38;5;124m\"\u001b[39m: \u001b[38;5;124m\"\u001b[39m\u001b[38;5;124mtype_check\u001b[39m\u001b[38;5;124m\"\u001b[39m,\n\u001b[0;32m    328\u001b[0m             \u001b[38;5;124m\"\u001b[39m\u001b[38;5;124mresult\u001b[39m\u001b[38;5;124m\"\u001b[39m: \u001b[38;5;28mtype\u001b[39m(history),\n\u001b[0;32m    329\u001b[0m             \u001b[38;5;124m\"\u001b[39m\u001b[38;5;124mexpected\u001b[39m\u001b[38;5;124m\"\u001b[39m: tf\u001b[38;5;241m.\u001b[39mkeras\u001b[38;5;241m.\u001b[39mcallbacks\u001b[38;5;241m.\u001b[39mHistory,\n\u001b[0;32m    330\u001b[0m             \u001b[38;5;124m\"\u001b[39m\u001b[38;5;124merror_message\u001b[39m\u001b[38;5;124m\"\u001b[39m: \u001b[38;5;124m'\u001b[39m\u001b[38;5;124mhistory type is incorrect. Please check model.fit().\u001b[39m\u001b[38;5;124m'\u001b[39m\n\u001b[0;32m    331\u001b[0m         },\n\u001b[0;32m    332\u001b[0m         {\n\u001b[0;32m    333\u001b[0m             \u001b[38;5;124m\"\u001b[39m\u001b[38;5;124mname\u001b[39m\u001b[38;5;124m\"\u001b[39m: \u001b[38;5;124m\"\u001b[39m\u001b[38;5;124mparams_samples_check\u001b[39m\u001b[38;5;124m\"\u001b[39m,\n\u001b[1;32m--> 334\u001b[0m             \u001b[38;5;124m\"\u001b[39m\u001b[38;5;124mresult\u001b[39m\u001b[38;5;124m\"\u001b[39m: \u001b[43mvars_history\u001b[49m\u001b[43m[\u001b[49m\u001b[38;5;124;43m'\u001b[39;49m\u001b[38;5;124;43mparams\u001b[39;49m\u001b[38;5;124;43m'\u001b[39;49m\u001b[43m]\u001b[49m\u001b[43m[\u001b[49m\u001b[38;5;124;43m'\u001b[39;49m\u001b[38;5;124;43msamples\u001b[39;49m\u001b[38;5;124;43m'\u001b[39;49m\u001b[43m]\u001b[49m,\n\u001b[0;32m    335\u001b[0m             \u001b[38;5;124m\"\u001b[39m\u001b[38;5;124mexpected\u001b[39m\u001b[38;5;124m\"\u001b[39m: \u001b[38;5;241m3155\u001b[39m,\n\u001b[0;32m    336\u001b[0m             \u001b[38;5;124m\"\u001b[39m\u001b[38;5;124merror_message\u001b[39m\u001b[38;5;124m\"\u001b[39m: \u001b[38;5;124m'\u001b[39m\u001b[38;5;124mTraining samples is incorrect. Please check arguments to model.fit().\u001b[39m\u001b[38;5;124m'\u001b[39m\n\u001b[0;32m    337\u001b[0m         },\n\u001b[0;32m    338\u001b[0m         {\n\u001b[0;32m    339\u001b[0m             \u001b[38;5;124m\"\u001b[39m\u001b[38;5;124mname\u001b[39m\u001b[38;5;124m\"\u001b[39m: \u001b[38;5;124m\"\u001b[39m\u001b[38;5;124mparams_do_validation_check\u001b[39m\u001b[38;5;124m\"\u001b[39m,\n\u001b[0;32m    340\u001b[0m             \u001b[38;5;124m\"\u001b[39m\u001b[38;5;124mresult\u001b[39m\u001b[38;5;124m\"\u001b[39m: vars_history[\u001b[38;5;124m'\u001b[39m\u001b[38;5;124mparams\u001b[39m\u001b[38;5;124m'\u001b[39m][\u001b[38;5;124m'\u001b[39m\u001b[38;5;124mdo_validation\u001b[39m\u001b[38;5;124m'\u001b[39m],\n\u001b[0;32m    341\u001b[0m             \u001b[38;5;124m\"\u001b[39m\u001b[38;5;124mexpected\u001b[39m\u001b[38;5;124m\"\u001b[39m: \u001b[38;5;28;01mTrue\u001b[39;00m,\n\u001b[0;32m    342\u001b[0m             \u001b[38;5;124m\"\u001b[39m\u001b[38;5;124merror_message\u001b[39m\u001b[38;5;124m\"\u001b[39m: \u001b[38;5;124m'\u001b[39m\u001b[38;5;124mNo validation data is present. Please check arguments to model.fit().\u001b[39m\u001b[38;5;124m'\u001b[39m\n\u001b[0;32m    343\u001b[0m         },\n\u001b[0;32m    344\u001b[0m     ]\n\u001b[0;32m    346\u001b[0m     test_loop(test_cases)\n",
      "\u001b[1;31mKeyError\u001b[0m: 'samples'"
     ]
    }
   ],
   "source": [
    "utils.test_history(history)"
   ]
  },
  {
   "cell_type": "code",
   "execution_count": 52,
   "metadata": {
    "colab": {},
    "colab_type": "code",
    "id": "CubF2J2gSf6q"
   },
   "outputs": [
    {
     "name": "stdout",
     "output_type": "stream",
     "text": [
      "25/25 [==============================] - 0s 2ms/step - loss: 0.3407 - wine_quality_loss: 0.3135 - wine_type_loss: 0.0273 - wine_quality_root_mean_squared_error: 0.5599 - wine_type_accuracy: 0.9949\n",
      "\n",
      "loss: 0.34073325991630554\n",
      "wine_quality_loss: 0.31347423791885376\n",
      "wine_type_loss: 0.027258988469839096\n",
      "wine_quality_rmse: 0.559887707233429\n",
      "wine_type_accuracy: 0.9949302673339844\n"
     ]
    }
   ],
   "source": [
    "# Gather the training metrics\n",
    "loss, wine_quality_loss, wine_type_loss, wine_quality_rmse, wine_type_accuracy = model.evaluate(x=norm_val_X, y=val_Y)\n",
    "\n",
    "print()\n",
    "print(f'loss: {loss}')\n",
    "print(f'wine_quality_loss: {wine_quality_loss}')\n",
    "print(f'wine_type_loss: {wine_type_loss}')\n",
    "print(f'wine_quality_rmse: {wine_quality_rmse}')\n",
    "print(f'wine_type_accuracy: {wine_type_accuracy}')\n",
    "\n",
    "# EXPECTED VALUES\n",
    "# ~ 0.30 - 0.38\n",
    "# ~ 0.30 - 0.38\n",
    "# ~ 0.018 - 0.030\n",
    "# ~ 0.50 - 0.62\n",
    "# ~ 0.97 - 1.0\n",
    "\n",
    "# Example:\n",
    "#0.3657050132751465\n",
    "#0.3463745415210724\n",
    "#0.019330406561493874\n",
    "#0.5885359048843384\n",
    "#0.9974651336669922"
   ]
  },
  {
   "cell_type": "markdown",
   "metadata": {
    "colab_type": "text",
    "id": "gPtTGAP4usnm"
   },
   "source": [
    "## Analyze the Model Performance\n",
    "\n",
    "Note that the model has two outputs. The output at index 0 is quality and index 1 is wine type\n",
    "\n",
    "So, round the quality predictions to the nearest integer."
   ]
  },
  {
   "cell_type": "code",
   "execution_count": 53,
   "metadata": {
    "colab": {},
    "colab_type": "code",
    "id": "tBq9PEeAaW-Y"
   },
   "outputs": [],
   "source": [
    "predictions = model.predict(norm_test_X)\n",
    "quality_pred = predictions[0]\n",
    "type_pred = predictions[1]"
   ]
  },
  {
   "cell_type": "code",
   "execution_count": 54,
   "metadata": {
    "colab": {},
    "colab_type": "code",
    "id": "YLhgTR4xTIxj"
   },
   "outputs": [
    {
     "name": "stdout",
     "output_type": "stream",
     "text": [
      "[5.6522627]\n"
     ]
    }
   ],
   "source": [
    "print(quality_pred[0])\n",
    "\n",
    "# EXPECTED OUTPUT\n",
    "# 5.6 - 6.0"
   ]
  },
  {
   "cell_type": "code",
   "execution_count": 55,
   "metadata": {
    "colab": {},
    "colab_type": "code",
    "id": "MPi-eYfGTUXi"
   },
   "outputs": [
    {
     "name": "stdout",
     "output_type": "stream",
     "text": [
      "[3.7745463e-05]\n",
      "[0.9999958]\n"
     ]
    }
   ],
   "source": [
    "print(type_pred[0])\n",
    "print(type_pred[944])\n",
    "\n",
    "# EXPECTED OUTPUT\n",
    "# A number close to zero\n",
    "# A number close to or equal to 1"
   ]
  },
  {
   "cell_type": "markdown",
   "metadata": {
    "colab_type": "text",
    "id": "Kohk-9C6vt_s"
   },
   "source": [
    "### Plot Utilities\n",
    "\n",
    "We define a few utilities to visualize the model performance."
   ]
  },
  {
   "cell_type": "code",
   "execution_count": 56,
   "metadata": {
    "colab": {},
    "colab_type": "code",
    "id": "62gEOFUhn6aQ"
   },
   "outputs": [],
   "source": [
    "def plot_metrics(metric_name, title, ylim=5):\n",
    "    plt.title(title)\n",
    "    plt.ylim(0,ylim)\n",
    "    plt.plot(history.history[metric_name],color='blue',label=metric_name)\n",
    "    plt.plot(history.history['val_' + metric_name],color='green',label='val_' + metric_name)\n"
   ]
  },
  {
   "cell_type": "code",
   "execution_count": 57,
   "metadata": {
    "colab": {},
    "colab_type": "code",
    "id": "6rfgSx7uz5dj"
   },
   "outputs": [],
   "source": [
    "def plot_confusion_matrix(y_true, y_pred, title='', labels=[0,1]):\n",
    "    cm = confusion_matrix(y_true, y_pred)\n",
    "    fig = plt.figure()\n",
    "    ax = fig.add_subplot(111)\n",
    "    cax = ax.matshow(cm)\n",
    "    plt.title('Confusion matrix of the classifier')\n",
    "    fig.colorbar(cax)\n",
    "    ax.set_xticklabels([''] + labels)\n",
    "    ax.set_yticklabels([''] + labels)\n",
    "    plt.xlabel('Predicted')\n",
    "    plt.ylabel('True')\n",
    "    fmt = 'd'\n",
    "    thresh = cm.max() / 2.\n",
    "    for i, j in itertools.product(range(cm.shape[0]), range(cm.shape[1])):\n",
    "          plt.text(j, i, format(cm[i, j], fmt),\n",
    "                  horizontalalignment=\"center\",\n",
    "                  color=\"black\" if cm[i, j] > thresh else \"white\")\n",
    "    plt.show()"
   ]
  },
  {
   "cell_type": "code",
   "execution_count": 58,
   "metadata": {
    "colab": {},
    "colab_type": "code",
    "id": "dfVLIqi017Vf"
   },
   "outputs": [],
   "source": [
    "def plot_diff(y_true, y_pred, title = '' ):\n",
    "    plt.scatter(y_true, y_pred)\n",
    "    plt.title(title)\n",
    "    plt.xlabel('True Values')\n",
    "    plt.ylabel('Predictions')\n",
    "    plt.axis('equal')\n",
    "    plt.axis('square')\n",
    "    plt.plot([-100, 100], [-100, 100])\n",
    "    return plt"
   ]
  },
  {
   "cell_type": "markdown",
   "metadata": {
    "colab_type": "text",
    "id": "8sd1jdFbwE0I"
   },
   "source": [
    "### Plots for Metrics"
   ]
  },
  {
   "cell_type": "code",
   "execution_count": 59,
   "metadata": {
    "colab": {},
    "colab_type": "code",
    "id": "f3MwZ5J1pOfj"
   },
   "outputs": [
    {
     "data": {
      "image/png": "[encoded data removed]",
      "text/plain": [
       "<Figure size 640x480 with 1 Axes>"
      ]
     },
     "metadata": {},
     "output_type": "display_data"
    }
   ],
   "source": [
    "plot_metrics('wine_quality_root_mean_squared_error', 'RMSE', ylim=2)"
   ]
  },
  {
   "cell_type": "code",
   "execution_count": 60,
   "metadata": {
    "colab": {},
    "colab_type": "code",
    "id": "QIAxEezCppnd"
   },
   "outputs": [
    {
     "data": {
      "image/png": "[encoded data removed]",
      "text/plain": [
       "<Figure size 640x480 with 1 Axes>"
      ]
     },
     "metadata": {},
     "output_type": "display_data"
    }
   ],
   "source": [
    "plot_metrics('wine_type_loss', 'Wine Type Loss', ylim=0.2)"
   ]
  },
  {
   "cell_type": "markdown",
   "metadata": {
    "colab_type": "text",
    "id": "uYV9AOAMwI9p"
   },
   "source": [
    "### Plots for Confusion Matrix\n",
    "\n",
    "Plot the confusion matrices for wine type. You can see that the model performs well for prediction of wine type from the confusion matrix and the loss metrics."
   ]
  },
  {
   "cell_type": "code",
   "execution_count": 61,
   "metadata": {
    "colab": {},
    "colab_type": "code",
    "id": "C3hvTYxIaf3n"
   },
   "outputs": [
    {
     "name": "stderr",
     "output_type": "stream",
     "text": [
      "C:\\Users\\Tom\\AppData\\Local\\Temp\\ipykernel_58020\\1339240941.py:8: UserWarning: FixedFormatter should only be used together with FixedLocator\n",
      "  ax.set_xticklabels([''] + labels)\n",
      "C:\\Users\\Tom\\AppData\\Local\\Temp\\ipykernel_58020\\1339240941.py:9: UserWarning: FixedFormatter should only be used together with FixedLocator\n",
      "  ax.set_yticklabels([''] + labels)\n"
     ]
    },
    {
     "data": {
      "image/png": "[encoded data removed]",
      "text/plain": [
       "<Figure size 640x480 with 2 Axes>"
      ]
     },
     "metadata": {},
     "output_type": "display_data"
    }
   ],
   "source": [
    "plot_confusion_matrix(test_Y[1], np.round(type_pred), title='Wine Type', labels = [0, 1])"
   ]
  },
  {
   "cell_type": "code",
   "execution_count": 62,
   "metadata": {
    "colab": {},
    "colab_type": "code",
    "id": "GW91ym8P2I5y"
   },
   "outputs": [
    {
     "data": {
      "image/png": "[encoded data removed]",
      "text/plain": [
       "<Figure size 640x480 with 1 Axes>"
      ]
     },
     "metadata": {},
     "output_type": "display_data"
    }
   ],
   "source": [
    "scatter_plot = plot_diff(test_Y[0], quality_pred, title='Type')"
   ]
  },
  {
   "cell_type": "code",
   "execution_count": null,
   "metadata": {},
   "outputs": [],
   "source": []
  }
 ],
 "metadata": {
  "colab": {
   "include_colab_link": true,
   "name": "exercise-answer.ipynb",
   "provenance": []
  },
  "kernelspec": {
   "display_name": "Python 3 (ipykernel)",
   "language": "python",
   "name": "python3"
  },
  "language_info": {
   "codemirror_mode": {
    "name": "ipython",
    "version": 3
   },
   "file_extension": ".py",
   "mimetype": "text/x-python",
   "name": "python",
   "nbconvert_exporter": "python",
   "pygments_lexer": "ipython3",
   "version": "3.9.13"
  }
 },
 "nbformat": 4,
 "nbformat_minor": 4
}
