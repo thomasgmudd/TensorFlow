{
 "cells": [
  {
   "cell_type": "code",
   "execution_count": 1,
   "id": "f0ebba30",
   "metadata": {},
   "outputs": [],
   "source": [
    "import tensorflow as tf\n",
    "import numpy as np\n",
    "\n",
    "from tensorflow import keras\n",
    "import matplotlib.pyplot as plt"
   ]
  },
  {
   "cell_type": "code",
   "execution_count": 2,
   "id": "86c8e4bc",
   "metadata": {},
   "outputs": [],
   "source": [
    "#load data\n",
    "fashion_mnist=tf.keras.datasets.fashion_mnist\n",
    "(train_images,train_labels),(test_images,test_labels)=fashion_mnist.load_data()\n"
   ]
  },
  {
   "cell_type": "code",
   "execution_count": 14,
   "id": "8b697bd8",
   "metadata": {},
   "outputs": [
    {
     "data": {
      "text/plain": [
       "<matplotlib.image.AxesImage at 0x282a0350700>"
      ]
     },
     "execution_count": 14,
     "metadata": {},
     "output_type": "execute_result"
    },
    {
     "data": {
      "image/png": "[encoded data removed]",
      "text/plain": [
       "<Figure size 640x480 with 1 Axes>"
      ]
     },
     "metadata": {},
     "output_type": "display_data"
    }
   ],
   "source": [
    "index=15   # Pick a random image to display\n",
    "\n",
    "np.set_printoptions(linewidth=320)\n",
    "#print(f'LABEL:{train_labels[index]}')\n",
    "#print(f'\\nIMAGE PIXEL ARRAY:\\n{train_images[index]}')\n",
    "#plt.imshow(train_images[index],cmap='Greys')  # show greyscales\n",
    "plt.imshow(train_images[index])                # show color map"
   ]
  },
  {
   "cell_type": "code",
   "execution_count": 4,
   "id": "937c676d",
   "metadata": {},
   "outputs": [],
   "source": [
    "#Normalize Data\n",
    "train_images=train_images/255.0\n",
    "test_images=test_images/255.0"
   ]
  },
  {
   "cell_type": "code",
   "execution_count": 17,
   "id": "13ed093a",
   "metadata": {},
   "outputs": [
    {
     "name": "stdout",
     "output_type": "stream",
     "text": [
      "inputs:  tf.Tensor([[1. 3. 4. 2.]], shape=(1, 4), dtype=float64) \n",
      "\n",
      "outputs:  tf.Tensor([[0.0320586  0.23688282 0.64391426 0.08714432]], shape=(1, 4), dtype=float64)\n",
      "sum: tf.Tensor(0.9999999999999999, shape=(), dtype=float64)\n",
      "prediction: 2 \n",
      "\n",
      "\n",
      "Epoch 1/20\n",
      "1875/1875 [==============================] - 4s 2ms/step - loss: 0.4877 - accuracy: 0.8277\n",
      "Epoch 2/20\n",
      "1875/1875 [==============================] - 3s 2ms/step - loss: 0.3670 - accuracy: 0.8661\n",
      "Epoch 3/20\n",
      "1875/1875 [==============================] - 3s 1ms/step - loss: 0.3276 - accuracy: 0.8783\n",
      "Epoch 4/20\n",
      "1875/1875 [==============================] - 3s 1ms/step - loss: 0.3046 - accuracy: 0.8869\n",
      "Epoch 5/20\n",
      "1875/1875 [==============================] - 3s 2ms/step - loss: 0.2857 - accuracy: 0.8936\n",
      "Epoch 6/20\n",
      "1875/1875 [==============================] - 3s 1ms/step - loss: 0.2711 - accuracy: 0.8992\n",
      "Epoch 7/20\n",
      "1875/1875 [==============================] - 3s 2ms/step - loss: 0.2563 - accuracy: 0.9033\n",
      "Epoch 8/20\n",
      "1875/1875 [==============================] - 3s 2ms/step - loss: 0.2468 - accuracy: 0.9076\n",
      "Epoch 9/20\n",
      "1875/1875 [==============================] - 3s 2ms/step - loss: 0.2359 - accuracy: 0.9112\n",
      "Epoch 10/20\n",
      "1875/1875 [==============================] - 3s 2ms/step - loss: 0.2278 - accuracy: 0.9143\n",
      "Epoch 11/20\n",
      "1875/1875 [==============================] - 3s 2ms/step - loss: 0.2214 - accuracy: 0.9160\n",
      "Epoch 12/20\n",
      "1875/1875 [==============================] - 3s 2ms/step - loss: 0.2101 - accuracy: 0.9204\n",
      "Epoch 13/20\n",
      "1875/1875 [==============================] - 3s 2ms/step - loss: 0.2057 - accuracy: 0.9222\n",
      "Epoch 14/20\n",
      "1875/1875 [==============================] - 3s 2ms/step - loss: 0.1976 - accuracy: 0.9256\n",
      "Epoch 15/20\n",
      "1875/1875 [==============================] - 3s 2ms/step - loss: 0.1908 - accuracy: 0.9282\n",
      "Epoch 16/20\n",
      "1875/1875 [==============================] - 3s 1ms/step - loss: 0.1854 - accuracy: 0.9297\n",
      "Epoch 17/20\n",
      "1875/1875 [==============================] - 3s 1ms/step - loss: 0.1783 - accuracy: 0.9318\n",
      "Epoch 18/20\n",
      "1875/1875 [==============================] - 3s 1ms/step - loss: 0.1739 - accuracy: 0.9337\n",
      "Epoch 19/20\n",
      "1875/1875 [==============================] - 3s 2ms/step - loss: 0.1689 - accuracy: 0.9372\n",
      "Epoch 20/20\n",
      "1875/1875 [==============================] - 3s 1ms/step - loss: 0.1638 - accuracy: 0.9382\n"
     ]
    },
    {
     "data": {
      "text/plain": [
       "<keras.callbacks.History at 0x282a1693df0>"
      ]
     },
     "execution_count": 17,
     "metadata": {},
     "output_type": "execute_result"
    }
   ],
   "source": [
    "#Build model and train\n",
    "model=keras.Sequential([\n",
    "    keras.layers.Flatten(),\n",
    "    keras.layers.Dense(256,activation=tf.nn.relu),\n",
    "    keras.layers.Dense(10,activation=tf.nn.softmax)\n",
    "])\n",
    "\n",
    "\n",
    "inputs=np.array([[1.0,3.0, 4.0, 2.0]])  # create a random weigted probability input\n",
    "inputs=tf.convert_to_tensor(inputs)  # convert it to a tensorflow object\n",
    "print('inputs: ',inputs,'\\n')        # show it's now a tensor\n",
    "outputs=tf.keras.activations.softmax(inputs)  # Feed it into softmax just for visibility\n",
    "sum=tf.reduce_sum(outputs)   \n",
    "print('outputs: ',outputs)              # Output is now a tensor\n",
    "print('sum:',sum)                       # Since it's softmax it sums to 1\n",
    "prediction=np.argmax(outputs)           # Prediction is 2 because np.array[2] was the max value\n",
    "print('prediction:',prediction,'\\n\\n')  # Prediction is 2 because np.array[2] was the max value\n",
    "\n",
    "model.compile(optimizer=tf.optimizers.Adam(),loss='sparse_categorical_crossentropy',metrics=['accuracy'])\n",
    "model.fit(train_images,train_labels, epochs=20)\n"
   ]
  },
  {
   "cell_type": "code",
   "execution_count": 18,
   "id": "0554cdc6",
   "metadata": {},
   "outputs": [
    {
     "name": "stdout",
     "output_type": "stream",
     "text": [
      "313/313 [==============================] - 1s 1ms/step - loss: 0.3682 - accuracy: 0.8879\n"
     ]
    },
    {
     "data": {
      "text/plain": [
       "[0.36824512481689453, 0.8878999948501587]"
      ]
     },
     "execution_count": 18,
     "metadata": {},
     "output_type": "execute_result"
    }
   ],
   "source": [
    "model.evaluate(test_images, test_labels) # See how we do against our validation set"
   ]
  },
  {
   "cell_type": "code",
   "execution_count": 23,
   "id": "6d462f78",
   "metadata": {},
   "outputs": [
    {
     "name": "stdout",
     "output_type": "stream",
     "text": [
      "output: [9.8612183e-04 1.8263354e-17 9.9879372e-01 7.2957135e-13 1.9264079e-04 8.3062327e-16 2.7484830e-05 1.0343261e-13 2.6687704e-14 6.8082647e-18]\n",
      "prediction :  2\n",
      "first label:  2\n"
     ]
    }
   ],
   "source": [
    "classifications = model.predict(test_images)\n",
    "\n",
    "print('output:',classifications[1])\n",
    "print('prediction : ',np.argmax(classifications[1]))\n",
    "print('first label: ',test_labels[1])\n"
   ]
  }
 ],
 "metadata": {
  "kernelspec": {
   "display_name": "Python 3 (ipykernel)",
   "language": "python",
   "name": "python3"
  },
  "language_info": {
   "codemirror_mode": {
    "name": "ipython",
    "version": 3
   },
   "file_extension": ".py",
   "mimetype": "text/x-python",
   "name": "python",
   "nbconvert_exporter": "python",
   "pygments_lexer": "ipython3",
   "version": "3.9.13"
  }
 },
 "nbformat": 4,
 "nbformat_minor": 5
}
