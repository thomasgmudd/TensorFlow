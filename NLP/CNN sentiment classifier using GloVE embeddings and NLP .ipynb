{
 "cells": [
  {
   "cell_type": "markdown",
   "id": "printable-split",
   "metadata": {},
   "source": [
    "***Sentiment Classifier***\n",
    "\n",
    "<ul>\n",
    "    <li>text from 1.6 million tweets with sentiment labels \n",
    "    <li>labels are 0 for negative and 4 for positive\n",
    "    <li>Uses Sentiment140 dataset from http://help.sentiment140.com/home\n"
   ]
  },
  {
   "cell_type": "code",
   "execution_count": 1,
   "id": "greater-synthesis",
   "metadata": {
    "id": "hmA6EzkQJ5jt",
    "tags": [
     "graded"
    ]
   },
   "outputs": [],
   "source": [
    "import csv\n",
    "import random\n",
    "import pickle\n",
    "import numpy as np\n",
    "import tensorflow as tf\n",
    "from tensorflow.keras.preprocessing.text import Tokenizer\n",
    "from tensorflow.keras.preprocessing.sequence import pad_sequences\n",
    "import matplotlib.pyplot as plt\n",
    "from scipy.stats import linregress"
   ]
  },
  {
   "cell_type": "markdown",
   "id": "nutritional-yield",
   "metadata": {},
   "source": [
    "***global variables***\n",
    "\n",
    "- `EMBEDDING_DIM`: Dimension of the dense embedding, will be used in the embedding layer of the model. Defaults to 100.\n",
    "\n",
    "\n",
    "- `MAXLEN`: Maximum length of all sequences. Defaults to 16.\n",
    "\n",
    "\n",
    "- `TRUNCATING`: Truncating strategy (truncate either before or after each sequence.). Defaults to 'post'.\n",
    "\n",
    "\n",
    "- `PADDING`: Padding strategy (pad either before or after each sequence.). Defaults to 'post'.\n",
    "\n",
    "\n",
    "- `OOV_TOKEN`: Token to replace out-of-vocabulary words during text_to_sequence calls. Defaults to \\\"\\\\<OOV>\\\".\n",
    "    \n",
    "    \n",
    "- `MAX_EXAMPLES`: Max number of examples to use. Defaults to 160000 (10% of the original number of examples)\n",
    "    \n",
    "    \n",
    "- `TRAINING_SPLIT`: Proportion of data used for training. Defaults to 0.9\n",
    "    "
   ]
  },
  {
   "cell_type": "code",
   "execution_count": 2,
   "id": "occasional-penalty",
   "metadata": {
    "tags": [
     "graded"
    ]
   },
   "outputs": [],
   "source": [
    "EMBEDDING_DIM = 100\n",
    "MAXLEN = 16\n",
    "TRUNCATING = 'post'\n",
    "PADDING = 'post'\n",
    "OOV_TOKEN = \"<OOV>\"\n",
    "MAX_EXAMPLES = 160000\n",
    "TRAINING_SPLIT = 0.9"
   ]
  },
  {
   "cell_type": "markdown",
   "id": "applied-rubber",
   "metadata": {},
   "source": [
    "***Load Data from Twitter***\n",
    "\n",
    "CSV file with columns:\n",
    "\n",
    "- target: the polarity of the tweet (0 = negative, 4 = positive)\n",
    "\n",
    "- ids: The id of the tweet\n",
    "\n",
    "- date: the date of the tweet\n",
    "\n",
    "- flag: The query. If there is no query, then this value is NO_QUERY.\n",
    "\n",
    "- user: the user that tweeted\n",
    "\n",
    "- text: the text of the tweet"
   ]
  },
  {
   "cell_type": "code",
   "execution_count": 3,
   "id": "critical-emission",
   "metadata": {
    "tags": [
     "graded"
    ]
   },
   "outputs": [
    {
     "name": "stdout",
     "output_type": "stream",
     "text": [
      "record 0: \"0\",\"1467810369\",\"Mon Apr 06 22:19:45 PDT 2009\",\"NO_QUERY\",\"\n",
      "\n",
      "record 1: TheSpecialOne_\",\"@switchfoot http://twitpic.com/2y1zl - Awww, that's a bummer.  You shoulda got David Carr of Third Day to do it. ;D\"\n",
      "\n",
      "record 2: \"0\",\"1467810672\",\"Mon Apr 06 22:19:49 PDT 2009\",\"NO_QUERY\",\"scotthamilton\",\"is upset that he can't update his Facebook by texting it... and might cry as a result  School today also. Blah!\"\n",
      "\n"
     ]
    }
   ],
   "source": [
    "SENTIMENT_CSV = \"D:/tmp/tweet_sentiment/training_cleaned.csv\"\n",
    "\n",
    "with open(SENTIMENT_CSV, 'r') as csvfile:\n",
    "    for i in range(0,3):\n",
    "     print(\"record {}: {}\".format(i,csvfile.readline()))"
   ]
  },
  {
   "cell_type": "markdown",
   "id": "sealed-sterling",
   "metadata": {},
   "source": [
    "***Parse data***\n"
   ]
  },
  {
   "cell_type": "code",
   "execution_count": 4,
   "id": "imperial-scratch",
   "metadata": {
    "tags": [
     "graded"
    ]
   },
   "outputs": [],
   "source": [
    "def parse_data_from_file(filename):\n",
    "    \"\"\"\n",
    "    Extracts sentences and labels from a CSV file\n",
    "    \n",
    "    Args:\n",
    "        filename (string): path to the CSV file\n",
    "    \n",
    "    Returns:\n",
    "        sentences, labels (list of string, list of string): tuple containing lists of sentences and labels\n",
    "    \"\"\"\n",
    "    \n",
    "    sentences = []\n",
    "    labels = []\n",
    "\n",
    "    with open(filename, 'r',encoding=\"utf-8\") as csvfile:\n",
    "        reader = csv.reader(csvfile, delimiter=',')\n",
    "        for row in reader:\n",
    "            labels.append(row[0])\n",
    "            sentences.append(row[5])\n",
    "            \n",
    "    labels = [ 1 if label ==\"4\" else 0 for label in labels]       # map from Twitter's 0-4 to 0-1.              \n",
    "        \n",
    "    return sentences, labels"
   ]
  },
  {
   "cell_type": "code",
   "execution_count": 7,
   "id": "banned-medicare",
   "metadata": {
    "tags": [
     "graded"
    ]
   },
   "outputs": [
    {
     "name": "stdout",
     "output_type": "stream",
     "text": [
      "1600000 .csv records\n",
      "\n",
      "sentence 0: @switchfoot http://twitpic.com/2y1zl - Awww, that's a bummer.  You shoulda got David Carr of Third Day to do it. ;D\n",
      "label 0 = 0\n",
      "\n",
      "sentence 1: is upset that he can't update his Facebook by texting it... and might cry as a result  School today also. Blah!\n",
      "label 1 = 0\n",
      "\n",
      "sentence -2: Happy 38th Birthday to my boo of alll time!!! Tupac Amaru Shakur \n",
      "label -2 = 1\n",
      "\n",
      "sentence -1: happy #charitytuesday @theNSPCC @SparksCharity @SpeakingUpH4H \n",
      "label -1 = 1\n",
      "\n"
     ]
    }
   ],
   "source": [
    "sentences, labels = parse_data_from_file(SENTIMENT_CSV)\n",
    "print(f\"{len(sentences)} .csv records\\n\")\n",
    "\n",
    "for i in [0,1,-2,-1]:\n",
    "    print(\"sentence {}: {}\\nlabel {} = {}\\n\".format(i,sentences[i], i,labels[i]))"
   ]
  },
  {
   "cell_type": "markdown",
   "id": "residential-tonight",
   "metadata": {},
   "source": [
    "***Take a random 10% of the records***"
   ]
  },
  {
   "cell_type": "code",
   "execution_count": 8,
   "id": "framed-holmes",
   "metadata": {
    "tags": [
     "graded"
    ]
   },
   "outputs": [
    {
     "name": "stdout",
     "output_type": "stream",
     "text": [
      "There are 160000 sentences and 160000 labels after random sampling\n",
      "\n"
     ]
    }
   ],
   "source": [
    "# Bundle the two lists into a single one\n",
    "sentences_and_labels = list(zip(sentences, labels))\n",
    "\n",
    "# Perform random sampling\n",
    "sentences_and_labels = random.sample(sentences_and_labels, MAX_EXAMPLES)\n",
    "\n",
    "# Unpack back into separate lists\n",
    "sentences, labels = zip(*sentences_and_labels)\n",
    "\n",
    "print(f\"There are {len(sentences)} sentences and {len(labels)} labels after random sampling\\n\")"
   ]
  },
  {
   "cell_type": "markdown",
   "id": "contained-bridge",
   "metadata": {},
   "source": [
    "***Training - Validation Split***"
   ]
  },
  {
   "cell_type": "code",
   "execution_count": 9,
   "id": "elegant-medicare",
   "metadata": {
    "tags": [
     "graded"
    ]
   },
   "outputs": [],
   "source": [
    "def train_val_split(sentences, labels, training_split):\n",
    "    \"\"\"\n",
    "    Splits the dataset into training and validation sets\n",
    "    \n",
    "    Args:\n",
    "        sentences (list of string): lower-cased sentences without stopwords\n",
    "        labels (list of string): list of labels\n",
    "        training split (float): proportion of the dataset to convert to include in the train set\n",
    "    \n",
    "    Returns:\n",
    "        train_sentences, validation_sentences, train_labels, validation_labels - lists containing the data splits\n",
    "    \"\"\"    \n",
    "\n",
    "    # Compute the number of sentences that will be used for training\n",
    "    train_size = int(len(labels)*training_split )\n",
    "\n",
    "    # Slice the sentences and labels into train/validation splits\n",
    "    train_sentences = sentences[0:train_size]\n",
    "    train_labels = labels[0:train_size]\n",
    "\n",
    "    validation_sentences = sentences[train_size:]\n",
    "    validation_labels = labels[train_size:]\n",
    "    \n",
    "    return train_sentences, validation_sentences, train_labels, validation_labels"
   ]
  },
  {
   "cell_type": "code",
   "execution_count": 10,
   "id": "green-finding",
   "metadata": {
    "tags": [
     "graded"
    ]
   },
   "outputs": [
    {
     "name": "stdout",
     "output_type": "stream",
     "text": [
      "144000 sentences and 144000 labels for training\n",
      "16000 sentences and 16000 labels for validation\n"
     ]
    }
   ],
   "source": [
    "train_sentences, val_sentences, train_labels, val_labels = train_val_split(sentences, labels, TRAINING_SPLIT)\n",
    "\n",
    "print(f\"{len(train_sentences)} sentences and {len(train_labels)} labels for training\")\n",
    "print(f\"{len(val_sentences)} sentences and {len(val_labels)} labels for validation\")\n"
   ]
  },
  {
   "cell_type": "markdown",
   "id": "089088de",
   "metadata": {},
   "source": [
    "***Create Tokenizer***"
   ]
  },
  {
   "cell_type": "code",
   "execution_count": 11,
   "id": "atmospheric-shakespeare",
   "metadata": {
    "tags": [
     "graded"
    ]
   },
   "outputs": [],
   "source": [
    "def fit_tokenizer(train_sentences, oov_token):\n",
    "    \"\"\"\n",
    "    Instantiates the Tokenizer class on the training sentences\n",
    "    \n",
    "    \n",
    "        train_sentences (list of string): lower-cased sentences without stopwords to be used for training\n",
    "        oov_token (string) - symbol for the out-of-vocabulary token\n",
    "    \n",
    "    Returns:\n",
    "        tokenizer (object): an instance of the Tokenizer class containing the word-index dictionary\n",
    "    \"\"\"\n",
    "    \n",
    "    # Instantiate the Tokenizer class, passing in the correct value for oov_token\n",
    "    tokenizer = Tokenizer(oov_token=OOV_TOKEN)\n",
    "    \n",
    "    # Fit the tokenizer to the training sentences\n",
    "    tokenizer.fit_on_texts(train_sentences)\n",
    "\n",
    "    return tokenizer"
   ]
  },
  {
   "cell_type": "code",
   "execution_count": 12,
   "id": "included-entertainment",
   "metadata": {
    "tags": [
     "graded"
    ]
   },
   "outputs": [
    {
     "name": "stdout",
     "output_type": "stream",
     "text": [
      "Vocabulary is 128898 words\n",
      "<OOV> token is included in vocabulary\n",
      "\n",
      "nindex of word i is 2\n",
      "nindex of word am is 66\n",
      "nindex of word sam is 1797\n"
     ]
    }
   ],
   "source": [
    "tokenizer = fit_tokenizer(train_sentences, OOV_TOKEN)\n",
    "\n",
    "word_index = tokenizer.word_index\n",
    "VOCAB_SIZE = len(word_index)\n",
    "\n",
    "print(f\"Vocabulary is {VOCAB_SIZE} words\")\n",
    "print(\"<OOV> token is included in vocabulary\\n\" if \"<OOV>\" in word_index else \"<OOV> token NOT included in vocabulary\")\n",
    "for word in ['i', 'am', 'sam']: print(f\"nindex of word {word} is {word_index[word]}\")"
   ]
  },
  {
   "cell_type": "markdown",
   "id": "covered-williams",
   "metadata": {},
   "source": [
    "***Tokenize, pad,  and truncate***\n"
   ]
  },
  {
   "cell_type": "code",
   "execution_count": 18,
   "id": "attractive-cooper",
   "metadata": {
    "tags": [
     "graded"
    ]
   },
   "outputs": [],
   "source": [
    "def seq_pad_and_trunc(sentences, tokenizer, padding, truncating, maxlen):\n",
    "    \"\"\"\n",
    "    Generates an array of token sequences and pads them to the same length\n",
    "    \n",
    "    Args:\n",
    "        sentences (list of string): list of sentences to tokenize and pad\n",
    "        tokenizer (object): Tokenizer instance containing the word-index dictionary\n",
    "        padding (string): type of padding to use\n",
    "        truncating (string): type of truncating to use\n",
    "        maxlen (int): maximum length of the token sequence\n",
    "    \n",
    "    Returns:\n",
    "        pad_trunc_sequences (array of int): tokenized sentences padded to the same length\n",
    "    \"\"\"        \n",
    "    # Convert sentences to sequences\n",
    "    sequences=tokenizer.texts_to_sequences(sentences)\n",
    "    \n",
    "    # Pad the sequences using the correct padding, truncating and maxlen\n",
    "    pad_trunc_sequences = pad_sequences(sequences, padding=padding, maxlen=maxlen)\n",
    "    \n",
    "    return pad_trunc_sequences"
   ]
  },
  {
   "cell_type": "code",
   "execution_count": 43,
   "id": "extra-mention",
   "metadata": {
    "tags": [
     "graded"
    ]
   },
   "outputs": [
    {
     "name": "stdout",
     "output_type": "stream",
     "text": [
      "Training sequencess: (144000, 16)\n",
      "Validation sequences: (16000, 16)\n",
      "Labels: <class 'numpy.ndarray'> (144000,)\n",
      "[   6  228 1423 3270  605 9418 3691 3691   78  314  369    2   95    3\n",
      "  141    0]\n"
     ]
    }
   ],
   "source": [
    "train_pad_trunc_seq = seq_pad_and_trunc(train_sentences, tokenizer, PADDING, TRUNCATING, MAXLEN)\n",
    "val_pad_trunc_seq = seq_pad_and_trunc(val_sentences, tokenizer, PADDING, TRUNCATING, MAXLEN)\n",
    "\n",
    "print(f\"Training sequencess: {train_pad_trunc_seq.shape}\")\n",
    "print(f\"Validation sequences: {val_pad_trunc_seq.shape}\")\n",
    "print('Labels:',type(train_labels),np.shape(train_labels))\n",
    "print(train_pad_trunc_seq[1])"
   ]
  },
  {
   "cell_type": "markdown",
   "id": "posted-stockholm",
   "metadata": {},
   "source": [
    "***Turn lables into array***"
   ]
  },
  {
   "cell_type": "code",
   "execution_count": 15,
   "id": "studied-minneapolis",
   "metadata": {
    "tags": [
     "graded"
    ]
   },
   "outputs": [
    {
     "name": "stdout",
     "output_type": "stream",
     "text": [
      "Labels: <class 'numpy.ndarray'> (144000,)\n"
     ]
    }
   ],
   "source": [
    "train_labels = np.array(train_labels)\n",
    "val_labels = np.array(val_labels)\n",
    "print('Labels:',type(train_labels),np.shape(train_labels))"
   ]
  },
  {
   "cell_type": "markdown",
   "id": "corresponding-choir",
   "metadata": {},
   "source": [
    "***Load 100d GloVe embedding word vectors***\n",
    "\n",
    "[GloVe](https://nlp.stanford.edu/projects/glove/) from Stanford."
   ]
  },
  {
   "cell_type": "code",
   "execution_count": 16,
   "id": "continental-pittsburgh",
   "metadata": {
    "tags": [
     "graded"
    ]
   },
   "outputs": [],
   "source": [
    "# Define path to file containing the embeddings\n",
    "GLOVE_FILE = 'D:/data/NLP/glove.6B.100d.txt'\n",
    "\n",
    "# Initialize an empty embeddings index dictionary\n",
    "GLOVE_EMBEDDINGS = {}\n",
    "\n",
    "# Read file and fill GLOVE_EMBEDDINGS with its contents\n",
    "with open(GLOVE_FILE ,encoding=\"utf-8\") as f:\n",
    "    for line in f:\n",
    "        values = line.split()\n",
    "        word = values[0]\n",
    "        coefs = np.asarray(values[1:], dtype='float32')\n",
    "        GLOVE_EMBEDDINGS[word] = coefs"
   ]
  },
  {
   "cell_type": "markdown",
   "id": "varied-furniture",
   "metadata": {},
   "source": [
    "***Test***"
   ]
  },
  {
   "cell_type": "code",
   "execution_count": 17,
   "id": "awful-mouse",
   "metadata": {
    "tags": [
     "graded"
    ]
   },
   "outputs": [
    {
     "name": "stdout",
     "output_type": "stream",
     "text": [
      "dog vector:\n",
      "\n",
      "[ 0.30817    0.30938    0.52803   -0.92543   -0.73671    0.63475\n",
      "  0.44197    0.10262   -0.09142   -0.56607   -0.5327     0.2013\n",
      "  0.7704    -0.13983    0.13727    1.1128     0.89301   -0.17869\n",
      " -0.0019722  0.57289    0.59479    0.50428   -0.28991   -1.3491\n",
      "  0.42756    1.2748    -1.1613    -0.41084    0.042804   0.54866\n",
      "  0.18897    0.3759     0.58035    0.66975    0.81156    0.93864\n",
      " -0.51005   -0.070079   0.82819   -0.35346    0.21086   -0.24412\n",
      " -0.16554   -0.78358   -0.48482    0.38968   -0.86356   -0.016391\n",
      "  0.31984   -0.49246   -0.069363   0.018869  -0.098286   1.3126\n",
      " -0.12116   -1.2399    -0.091429   0.35294    0.64645    0.089642\n",
      "  0.70294    1.1244     0.38639    0.52084    0.98787    0.79952\n",
      " -0.34625    0.14095    0.80167    0.20987   -0.86007   -0.15308\n",
      "  0.074523   0.40816    0.019208   0.51587   -0.34428   -0.24525\n",
      " -0.77984    0.27425    0.22418    0.20164    0.017431  -0.014697\n",
      " -1.0235    -0.39695   -0.0056188  0.30569    0.31748    0.021404\n",
      "  0.11837   -0.11319    0.42456    0.53405   -0.16717   -0.27185\n",
      " -0.6255     0.12883    0.62529   -0.52086  ]\n"
     ]
    }
   ],
   "source": [
    "test_word = 'dog'\n",
    "test_vector = GLOVE_EMBEDDINGS[test_word]\n",
    "print(f\"{test_word} vector:\\n\\n{test_vector}\")"
   ]
  },
  {
   "cell_type": "code",
   "execution_count": 19,
   "id": "b8d07bcf",
   "metadata": {
    "tags": [
     "graded"
    ]
   },
   "outputs": [
    {
     "name": "stdout",
     "output_type": "stream",
     "text": [
      " <class 'numpy.ndarray'>,(100,)\n"
     ]
    }
   ],
   "source": [
    "print(f\" {type(test_vector)},{test_vector.shape}\")"
   ]
  },
  {
   "cell_type": "markdown",
   "id": "handy-chuck",
   "metadata": {},
   "source": [
    "## Represent the words in your vocabulary using the embeddings\n",
    "\n",
    "Save the vector representation of each word in the vocabulary in a numpy array.\n",
    "\n",
    "A couple of things to notice:\n",
    "- If a word in your vocabulary is not present in `GLOVE_EMBEDDINGS` the representation for that word is left as a column of zeros.\n",
    "- `word_index` starts counting at 1, because of this you will need to add an extra column at the left-most side of the `EMBEDDINGS_MATRIX` array. This is the reason why you add 1 to `VOCAB_SIZE` in the cell below:"
   ]
  },
  {
   "cell_type": "code",
   "execution_count": 31,
   "id": "crazy-process",
   "metadata": {
    "colab": {
     "base_uri": "https://localhost:8080/"
    },
    "id": "C1zdgJkusRh0",
    "outputId": "538df576-bbfc-4590-c3a3-0559dab5f176",
    "tags": [
     "graded"
    ]
   },
   "outputs": [
    {
     "name": "stdout",
     "output_type": "stream",
     "text": [
      "word:  i \n",
      "index 2 \n",
      "Embedding:\n",
      " [-0.046539    0.61966002  0.56647003 -0.46584001 -1.18900001  0.44599\n",
      "  0.066035    0.31909999  0.14679    -0.22119001  0.79238999  0.29905\n",
      "  0.16073     0.025324    0.18678001 -0.31000999 -0.28108001  0.60514998\n",
      " -1.0654      0.52476001  0.064152    1.03579998 -0.40779001 -0.38011\n",
      "  0.30801001  0.59964001 -0.26991001 -0.76034999  0.94221997 -0.46919\n",
      " -0.18278     0.90652001  0.79671001  0.24824999  0.25713     0.6232\n",
      " -0.44768     0.65357     0.76902002 -0.51229    -0.44332999 -0.21867\n",
      "  0.38370001 -1.14830005 -0.94397998 -0.15062     0.30012    -0.57805997\n",
      "  0.20175    -1.65910006 -0.079195    0.026423    0.22051001  0.99713999\n",
      " -0.57538998 -2.72659993  0.31448001  0.70521998  1.43809998  0.99125999\n",
      "  0.13976     1.34739995 -1.1753      0.0039503   1.02980006  0.064637\n",
      "  0.90886998  0.82871997 -0.47003001 -0.10575     0.5916     -0.42210001\n",
      "  0.57331002 -0.54114002  0.10768     0.39783999 -0.048744    0.064596\n",
      " -0.61436999 -0.28600001  0.50669998 -0.49757999 -0.81569999  0.16407999\n",
      " -1.96300006 -0.26693001 -0.37593001 -0.95846999 -0.85839999 -0.71577001\n",
      " -0.32343    -0.43121001  0.41391999  0.28374001 -0.70931     0.15003\n",
      " -0.2154     -0.37616    -0.032502    0.80620003] \n",
      "\n",
      "word:  am \n",
      "index 66 \n",
      "Embedding:\n",
      " [-1.40220001e-01  2.46590003e-02  1.58130005e-01 -7.42529985e-04\n",
      " -1.27079999e+00  5.96350014e-01  3.05119995e-02  4.34769988e-01\n",
      "  2.88729995e-01 -3.32619995e-01  1.63530004e+00  5.38789988e-01\n",
      "  4.78540003e-01 -3.53060007e-01 -4.02649999e-01 -1.59309995e+00\n",
      " -4.84270006e-01 -2.62840003e-01 -4.26670015e-01  6.23640001e-01\n",
      "  1.64570004e-01  1.10280001e+00 -4.66060013e-01 -5.37970006e-01\n",
      "  2.35730007e-01  5.00959992e-01  1.04279995e+00  6.78299963e-02\n",
      "  7.97270000e-01  1.02180004e+00 -4.57159996e-01  1.31060004e+00\n",
      "  4.08309996e-01 -1.36199996e-01 -6.45679981e-02 -2.28180006e-01\n",
      " -5.68149984e-01  2.24079993e-02  6.81270003e-01 -4.58099991e-01\n",
      " -3.95469993e-01 -6.35110021e-01  4.12440002e-01 -2.60569990e-01\n",
      " -6.21070027e-01 -1.18139994e+00  8.34420025e-01 -6.05780005e-01\n",
      " -4.37009990e-01 -1.60990000e+00 -6.13380015e-01 -2.16409996e-01\n",
      "  6.63640022e-01  7.58819997e-01 -1.15199995e+00 -1.94410002e+00\n",
      "  3.24380010e-01  6.63020015e-01  1.19770002e+00 -2.74619997e-01\n",
      "  5.14509976e-01  9.62800026e-01 -1.20079994e+00 -7.34380007e-01\n",
      "  5.04939973e-01 -2.20750004e-01 -2.45460004e-01  2.58500010e-01\n",
      " -7.98539996e-01 -2.15240002e-01 -2.04510003e-01 -7.07729995e-01\n",
      "  2.41160005e-01 -5.61079979e-01  5.42639971e-01  2.27840006e-01\n",
      "  9.71650004e-01  1.10619999e-01 -8.45719993e-01 -6.43689990e-01\n",
      " -8.50030035e-02 -8.29980016e-01 -2.06599995e-01  1.77010000e-02\n",
      " -6.79840028e-01  2.42500007e-01 -4.89389986e-01  2.24659994e-01\n",
      " -8.14689994e-01 -2.64400005e-01  1.82990000e-01  5.22390008e-01\n",
      "  7.91249990e-01  9.13150012e-01 -4.33569998e-01  1.27599999e-01\n",
      " -1.21189997e-01 -6.47490025e-01  4.88660008e-01  1.54449999e-01] \n",
      "\n",
      "word:  sam \n",
      "index 1797 \n",
      "Embedding:\n",
      " [-0.22633    -0.059171    0.18054999 -1.27550006 -0.19345     0.098503\n",
      "  0.13245    -0.094398    0.079233   -0.57226002  0.59584999 -0.38778999\n",
      " -0.67174     0.0058456   0.39179     0.29023001  0.38398001  0.34125999\n",
      " -0.42984     0.62959999  0.46711001  0.29098001  0.10631    -0.46233001\n",
      "  0.089908    0.64656001 -0.12035    -0.74912     0.16158     0.86404002\n",
      " -0.19966     0.78398001  0.45302999  0.06983     0.16357    -0.079546\n",
      "  0.52019     0.02551    -0.76758999 -0.30669001  0.042767    0.0034048\n",
      "  0.64563     0.05739    -0.017494    0.27500999 -1.10029995 -0.11644\n",
      "  0.40586001 -0.59583002 -0.12919    -0.3962      0.51552999 -0.12449\n",
      "  0.78465003 -1.19369996 -0.50525999  0.029205    0.27528     0.32495001\n",
      "  0.26616001  0.67628998 -0.044425    0.089935    0.36175999  0.042419\n",
      "  1.12720001  1.53840005  0.077466    0.83438998 -0.15807    -0.091333\n",
      " -1.05200005 -0.89174002 -0.23485     0.43217     0.27395999 -0.28101\n",
      " -0.32275999  0.81321001  0.32523999  0.21997    -0.11544    -0.59024\n",
      " -0.45429     0.055633    0.058769    0.0027566   0.77713001 -0.096834\n",
      "  0.012867   -0.12033     0.11065     1.19980001 -0.40627    -0.011771\n",
      "  0.34832999 -0.73259997  0.066222   -0.71869999] \n",
      "\n"
     ]
    }
   ],
   "source": [
    "# Initialize an empty numpy array with the appropriate size\n",
    "EMBEDDINGS_MATRIX = np.zeros((VOCAB_SIZE+1, EMBEDDING_DIM))\n",
    "\n",
    "# Iterate all of the words in the vocabulary and if the vector representation for \n",
    "# each word exists within GloVe's representations, save it in the EMBEDDINGS_MATRIX array\n",
    "for word, i in word_index.items():\n",
    "    embedding_vector = GLOVE_EMBEDDINGS.get(word)\n",
    "    if embedding_vector is not None:\n",
    "        EMBEDDINGS_MATRIX[i] = embedding_vector\n",
    "        \n",
    "for word in ['i','am','sam']:\n",
    "    print('word: ',word,'\\nindex',word_index[word], '\\nEmbedding:\\n',EMBEDDINGS_MATRIX[word_index[word]],'\\n')"
   ]
  },
  {
   "cell_type": "markdown",
   "id": "missing-solution",
   "metadata": {},
   "source": [
    "***Create  CNN model***"
   ]
  },
  {
   "cell_type": "code",
   "execution_count": 32,
   "id": "representative-taylor",
   "metadata": {
    "tags": [
     "graded"
    ]
   },
   "outputs": [],
   "source": [
    "\n",
    "def create_model(vocab_size, embedding_dim, maxlen, embeddings_matrix):\n",
    "    \"\"\"\n",
    "    Creates a binary sentiment classifier model designed to avoid overfitting\n",
    "    \n",
    "    Args:\n",
    "        vocab_size (int): size of the vocabulary for the Embedding layer input\n",
    "        embedding_dim (int): dimensionality of the Embedding layer output\n",
    "        maxlen (int): length of the input sequences\n",
    "        embeddings_matrix (array): predefined weights of the embeddings\n",
    "    \n",
    "    Returns:\n",
    "        model (tf.keras Model): the sentiment classifier model\n",
    "    \"\"\"\n",
    "    # I wanted RNN to work better, but CONV1D gives best results\n",
    "    model = tf.keras.Sequential([ \n",
    "    tf.keras.layers.Embedding(vocab_size+1, embedding_dim, input_length=maxlen, weights=[embeddings_matrix], trainable=False), \n",
    "    tf.keras.layers.Dropout(.2),\n",
    "    tf.keras.layers.Conv1D(128,5,activation='relu'),\n",
    "    tf.keras.layers.GlobalAveragePooling1D(),\n",
    "    tf.keras.layers.Dropout(.2),\n",
    "    tf.keras.layers.Dense(24, activation='relu'),\n",
    "    tf.keras.layers.Dense(8,activation='relu'),\n",
    "    tf.keras.layers.Dense(1, activation='sigmoid')\n",
    "    ])\n",
    "\n",
    "    model.compile(loss='binary_crossentropy',optimizer='adam',metrics=['accuracy'])\n",
    "\n",
    "    return model\n",
    "\n",
    "model = create_model(VOCAB_SIZE, EMBEDDING_DIM, MAXLEN, EMBEDDINGS_MATRIX)"
   ]
  },
  {
   "cell_type": "markdown",
   "id": "d3c5e021",
   "metadata": {},
   "source": [
    "***Train the model***"
   ]
  },
  {
   "cell_type": "code",
   "execution_count": 33,
   "id": "explicit-tokyo",
   "metadata": {
    "tags": [
     "graded"
    ]
   },
   "outputs": [
    {
     "name": "stdout",
     "output_type": "stream",
     "text": [
      "Epoch 1/20\n",
      "4500/4500 [==============================] - 15s 3ms/step - loss: 0.5817 - accuracy: 0.6897 - val_loss: 0.5361 - val_accuracy: 0.7302\n",
      "Epoch 2/20\n",
      "4500/4500 [==============================] - 11s 3ms/step - loss: 0.5400 - accuracy: 0.7255 - val_loss: 0.5223 - val_accuracy: 0.7389\n",
      "Epoch 3/20\n",
      "4500/4500 [==============================] - 12s 3ms/step - loss: 0.5230 - accuracy: 0.7355 - val_loss: 0.5109 - val_accuracy: 0.7447\n",
      "Epoch 4/20\n",
      "4500/4500 [==============================] - 11s 3ms/step - loss: 0.5123 - accuracy: 0.7442 - val_loss: 0.5062 - val_accuracy: 0.7504\n",
      "Epoch 5/20\n",
      "4500/4500 [==============================] - 11s 3ms/step - loss: 0.5052 - accuracy: 0.7488 - val_loss: 0.5011 - val_accuracy: 0.7549\n",
      "Epoch 6/20\n",
      "4500/4500 [==============================] - 11s 3ms/step - loss: 0.4984 - accuracy: 0.7541 - val_loss: 0.4973 - val_accuracy: 0.7585\n",
      "Epoch 7/20\n",
      "4500/4500 [==============================] - 12s 3ms/step - loss: 0.4928 - accuracy: 0.7580 - val_loss: 0.4974 - val_accuracy: 0.7547\n",
      "Epoch 8/20\n",
      "4500/4500 [==============================] - 11s 3ms/step - loss: 0.4887 - accuracy: 0.7609 - val_loss: 0.5007 - val_accuracy: 0.7523\n",
      "Epoch 9/20\n",
      "4500/4500 [==============================] - 12s 3ms/step - loss: 0.4842 - accuracy: 0.7626 - val_loss: 0.4986 - val_accuracy: 0.7566\n",
      "Epoch 10/20\n",
      "4500/4500 [==============================] - 12s 3ms/step - loss: 0.4806 - accuracy: 0.7654 - val_loss: 0.4970 - val_accuracy: 0.7534\n",
      "Epoch 11/20\n",
      "4500/4500 [==============================] - 12s 3ms/step - loss: 0.4768 - accuracy: 0.7671 - val_loss: 0.4947 - val_accuracy: 0.7575\n",
      "Epoch 12/20\n",
      "4500/4500 [==============================] - 11s 3ms/step - loss: 0.4741 - accuracy: 0.7691 - val_loss: 0.4960 - val_accuracy: 0.7569\n",
      "Epoch 13/20\n",
      "4500/4500 [==============================] - 11s 2ms/step - loss: 0.4723 - accuracy: 0.7702 - val_loss: 0.4939 - val_accuracy: 0.7571\n",
      "Epoch 14/20\n",
      "4500/4500 [==============================] - 11s 3ms/step - loss: 0.4690 - accuracy: 0.7726 - val_loss: 0.4930 - val_accuracy: 0.7598\n",
      "Epoch 15/20\n",
      "4500/4500 [==============================] - 11s 3ms/step - loss: 0.4656 - accuracy: 0.7751 - val_loss: 0.4954 - val_accuracy: 0.7588\n",
      "Epoch 16/20\n",
      "4500/4500 [==============================] - 12s 3ms/step - loss: 0.4631 - accuracy: 0.7764 - val_loss: 0.4966 - val_accuracy: 0.7579\n",
      "Epoch 17/20\n",
      "4500/4500 [==============================] - 11s 3ms/step - loss: 0.4630 - accuracy: 0.7770 - val_loss: 0.4913 - val_accuracy: 0.7632\n",
      "Epoch 18/20\n",
      "4500/4500 [==============================] - 12s 3ms/step - loss: 0.4611 - accuracy: 0.7776 - val_loss: 0.4904 - val_accuracy: 0.7620\n",
      "Epoch 19/20\n",
      "4500/4500 [==============================] - 12s 3ms/step - loss: 0.4608 - accuracy: 0.7786 - val_loss: 0.4932 - val_accuracy: 0.7597\n",
      "Epoch 20/20\n",
      "4500/4500 [==============================] - 12s 3ms/step - loss: 0.4580 - accuracy: 0.7800 - val_loss: 0.4928 - val_accuracy: 0.7616\n"
     ]
    }
   ],
   "source": [
    "history = model.fit(train_pad_trunc_seq, train_labels, epochs=20, validation_data=(val_pad_trunc_seq, val_labels))"
   ]
  },
  {
   "cell_type": "markdown",
   "id": "single-studio",
   "metadata": {},
   "source": [
    "***Targets***\n",
    "<table><tr><td><img src='images/valid-1.png'></td><td><img src='images/valid-2.jpg'></td><td><img src='images/valid-3.jpg'></td></tr></table>\n",
    " \n",
    "***Overfitting***\n",
    "\n",
    "<img src='images/invalid-1.jpg' width=315 height=265 align=\"left\"/>"
   ]
  },
  {
   "cell_type": "markdown",
   "id": "helpful-tractor",
   "metadata": {},
   "source": [
    "***Training Analysis***"
   ]
  },
  {
   "cell_type": "code",
   "execution_count": 34,
   "id": "golden-stretch",
   "metadata": {
    "tags": [
     "graded"
    ]
   },
   "outputs": [
    {
     "data": {
      "image/png": "[encoded data removed]",
      "text/plain": [
       "<Figure size 640x480 with 1 Axes>"
      ]
     },
     "metadata": {},
     "output_type": "display_data"
    }
   ],
   "source": [
    "#-----------------------------------------------------------\n",
    "# Retrieve a list of list results on training and test data\n",
    "# sets for each training epoch\n",
    "#-----------------------------------------------------------\n",
    "loss = history.history['loss']\n",
    "val_loss = history.history['val_loss']\n",
    "\n",
    "epochs = [*range(20)]\n",
    "\n",
    "#------------------------------------------------\n",
    "# Plot training and validation loss per epoch\n",
    "#------------------------------------------------\n",
    "plt.plot(epochs, loss, 'r')\n",
    "plt.plot(epochs, val_loss, 'b')\n",
    "plt.title('Training and validation loss')\n",
    "plt.xlabel(\"Epochs\")\n",
    "plt.ylabel(\"Loss\")\n",
    "plt.legend([\"Loss\", \"Validation Loss\"])\n",
    "plt.show()"
   ]
  },
  {
   "cell_type": "markdown",
   "id": "simplified-jacob",
   "metadata": {},
   "source": [
    "If you wish so, you can also check the training and validation accuracies of your model:"
   ]
  },
  {
   "cell_type": "code",
   "execution_count": 29,
   "id": "controlling-climb",
   "metadata": {
    "tags": [
     "graded"
    ]
   },
   "outputs": [
    {
     "data": {
      "image/png": "[encoded data removed]",
      "text/plain": [
       "<Figure size 640x480 with 1 Axes>"
      ]
     },
     "metadata": {},
     "output_type": "display_data"
    }
   ],
   "source": [
    "acc = history.history['accuracy']\n",
    "val_acc = history.history['val_accuracy']\n",
    "\n",
    "#------------------------------------------------\n",
    "# Plot training and validation accuracy per epoch\n",
    "#------------------------------------------------\n",
    "plt.plot(epochs, acc, 'r')\n",
    "plt.plot(epochs, val_acc, 'b')\n",
    "plt.title('Training and validation accuracy')\n",
    "plt.xlabel(\"Epochs\")\n",
    "plt.ylabel(\"Accuracy\")\n",
    "plt.legend([\"Accuracy\", \"Validation Accuracy\"])\n",
    "plt.show()"
   ]
  },
  {
   "cell_type": "code",
   "execution_count": 35,
   "id": "constant-cursor",
   "metadata": {
    "tags": [
     "graded"
    ]
   },
   "outputs": [
    {
     "name": "stdout",
     "output_type": "stream",
     "text": [
      "The slope of your validation loss curve is -0.00147\n"
     ]
    }
   ],
   "source": [
    "# Test the slope of your val_loss curve\n",
    "slope, *_ = linregress(epochs, val_loss)\n",
    "print(f\"The slope of your validation loss curve is {slope:.5f}\")"
   ]
  },
  {
   "cell_type": "markdown",
   "id": "touched-sharing",
   "metadata": {},
   "source": [
    "***Download History File***"
   ]
  },
  {
   "cell_type": "code",
   "execution_count": 36,
   "id": "flexible-gravity",
   "metadata": {
    "tags": [
     "graded"
    ]
   },
   "outputs": [],
   "source": [
    "with open('history.pkl', 'wb') as f:\n",
    "    pickle.dump(history.history, f)"
   ]
  },
  {
   "cell_type": "markdown",
   "id": "junior-triumph",
   "metadata": {},
   "source": [
    "***Test predictions***"
   ]
  },
  {
   "cell_type": "code",
   "execution_count": 152,
   "id": "293a22cf",
   "metadata": {
    "scrolled": false
   },
   "outputs": [
    {
     "name": "stdout",
     "output_type": "stream",
     "text": [
      "\" The world is happy and beautiful and peaceful and kind \"  result is  [[0.98553026]] \n",
      "\n",
      "\" What a tragic fail it is, full of misery and incompetence \"  result is  [[0.1621104]] \n",
      "\n"
     ]
    }
   ],
   "source": [
    "test1='The world is happy and beautiful and peaceful and kind'\n",
    "test2='What a tragic fail it is, full of misery and incompetence'\n",
    "\n",
    "testsent=[test1,test2]\n",
    "sequences = seq_pad_and_trunc(testsent, tokenizer, PADDING, TRUNCATING, MAXLEN)\n",
    "#print('First sequence: \\n',sequences[0],'\\n')\n",
    "\n",
    "temp=sequences[1]\n",
    "temp=temp.reshape(1,16)\n",
    "\n",
    "for i in range(0,2):\n",
    "    sequence=sequences[i].reshape(1,16)\n",
    "    print('\"',testsent[i],'\"  result is ',model.predict(sequence),'\\n')"
   ]
  },
  {
   "cell_type": "code",
   "execution_count": null,
   "id": "2283555e",
   "metadata": {},
   "outputs": [],
   "source": []
  }
 ],
 "metadata": {
  "kernelspec": {
   "display_name": "Python 3 (ipykernel)",
   "language": "python",
   "name": "python3"
  },
  "language_info": {
   "codemirror_mode": {
    "name": "ipython",
    "version": 3
   },
   "file_extension": ".py",
   "mimetype": "text/x-python",
   "name": "python",
   "nbconvert_exporter": "python",
   "pygments_lexer": "ipython3",
   "version": "3.9.13"
  }
 },
 "nbformat": 4,
 "nbformat_minor": 5
}
