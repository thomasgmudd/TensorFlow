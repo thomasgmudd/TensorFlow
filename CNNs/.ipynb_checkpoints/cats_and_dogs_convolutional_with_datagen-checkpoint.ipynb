{
 "cells": [
  {
   "cell_type": "markdown",
   "id": "3342b081",
   "metadata": {
    "id": "AuW-xg_bTsaF"
   },
   "source": [
    "**Cats vs Dogs**\n",
    "\n",
    "<ul>\n",
    "\n",
    "<li>  Downloads the Cats vs Dogs dataset from cats-and-dogs.zip\n",
    "<li>  Splits the data into train and validation subdirectories \n",
    "<li>  Creates train and validation ImageDataGenerators with data augmentation \n",
    "<li>  Creates a convolutional network\n",
    "<li>  Trains the convolutional network\n",
    "<li>  Graphs training and validation results\n",
    "</ul>"
   ]
  },
  {
   "cell_type": "code",
   "execution_count": 1,
   "id": "d8fc26a2",
   "metadata": {
    "id": "dn-6c02VmqiN",
    "tags": [
     "graded"
    ]
   },
   "outputs": [
    {
     "name": "stdout",
     "output_type": "stream",
     "text": [
      "TF version:  2.6.0\n",
      "Check GPU :  [PhysicalDevice(name='/physical_device:GPU:0', device_type='GPU')]\n",
      "Check Cuda:  True\n",
      "cwd       :  C:\\Users\\Tom\\Jupyter\\TensorFlow\\CNNs\n"
     ]
    }
   ],
   "source": [
    "import os\n",
    "import zipfile\n",
    "import random\n",
    "import shutil\n",
    "import tensorflow as tf\n",
    "from tensorflow.keras.preprocessing.image import ImageDataGenerator\n",
    "from shutil import copyfile\n",
    "import matplotlib.pyplot as plt\n",
    "\n",
    "print(\"TF version: \",tf.__version__)\n",
    "print(\"Check GPU : \",tf.config.list_physical_devices('GPU'))\n",
    "print(\"Check Cuda: \",tf.test.is_built_with_cuda())\n",
    "print(\"cwd       : \",os.getcwd())"
   ]
  },
  {
   "cell_type": "markdown",
   "id": "491be708",
   "metadata": {
    "id": "bLTQd84RUs1j"
   },
   "source": [
    "\n",
    "**Get the cats and dogs dataset from Microsoft:**\n"
   ]
  },
  {
   "cell_type": "code",
   "execution_count": 35,
   "id": "7a1cb18f",
   "metadata": {
    "id": "3sd9dQWa23aj",
    "lines_to_next_cell": 2,
    "tags": []
   },
   "outputs": [],
   "source": [
    "# Data is from https://www.microsoft.com/en-us/download/confirmation.aspx?id=54765\n",
    "\n",
    "# Download data - Don't do th is every time.\n",
    "# !wget --no-check-certificate \\  \n",
    "# \"https://download.microsoft.com/download/3/E/1/3E1C3F21-ECDB-4869-8368-6DEBA77B919F/kagglecatsanddogs_5340.zip\" \\\n",
    "# -O \"../../data/cats-and-dogs.zip\"\n",
    "\n",
    "# Unzip data\n",
    "local_zip = '../../data/cats-and-dogs.zip'\n",
    "zip_ref   = zipfile.ZipFile(local_zip, 'r')\n",
    "zip_ref.extractall('../../data')\n",
    "zip_ref.close()"
   ]
  },
  {
   "cell_type": "markdown",
   "id": "d66a8165",
   "metadata": {
    "id": "e_HsUV9WVJHL"
   },
   "source": [
    "**Verify the data:**"
   ]
  },
  {
   "cell_type": "code",
   "execution_count": 59,
   "id": "f79b1707",
   "metadata": {
    "id": "DM851ZmN28J3",
    "tags": [
     "graded"
    ]
   },
   "outputs": [
    {
     "name": "stdout",
     "output_type": "stream",
     "text": [
      "Dog data is in: ../../data/PetImages\\Dog\n",
      "Cat data is in: ../../data/PetImages\\Cat \n",
      "\n",
      "There are 12501 images of dogs.\n",
      "There are 12501 images of cats.\n"
     ]
    }
   ],
   "source": [
    "source_path = '../../data/PetImages'\n",
    "source_path_dogs = os.path.join(source_path, 'Dog')\n",
    "source_path_cats = os.path.join(source_path, 'Cat')\n",
    "print('Dog data is in:',source_path_dogs)\n",
    "print('Cat data is in:',source_path_cats,'\\n')\n",
    "\n",
    "# Delete non-image files \n",
    "#!find \"../../data/PetImages/\" -type f ! -name \"*.jpg\" -exec rm {} +\n",
    "#!find \"../../data/PetImages/\"  \"*.jpg\" -exec rm {} +\n",
    "\n",
    "# Confirm file counts\n",
    "print(f\"There are {len(os.listdir(source_path_dogs))} images of dogs.\")\n",
    "print(f\"There are {len(os.listdir(source_path_cats))} images of cats.\")"
   ]
  },
  {
   "cell_type": "markdown",
   "id": "0f1488e8",
   "metadata": {
    "id": "G7dI86rmRGmC"
   },
   "source": [
    "**Expected Output:**\n",
    "\n",
    "```\n",
    "There are 12501 images of dogs.\n",
    "There are 12501 images of cats.\n",
    "```"
   ]
  },
  {
   "cell_type": "markdown",
   "id": "efe5b537",
   "metadata": {
    "id": "iFbMliudNIjW"
   },
   "source": [
    "**Create train and validation directories and split data:**"
   ]
  },
  {
   "cell_type": "code",
   "execution_count": 42,
   "id": "6a4959e8",
   "metadata": {
    "cellView": "code",
    "id": "F-QkLjxpmyK2",
    "tags": [
     "graded"
    ]
   },
   "outputs": [],
   "source": [
    "\n",
    "root_dir = '../../data/cats-v-dogs'\n",
    "\n",
    "# Empty directory to prevent FileExistsError if the function is re-run\n",
    "if os.path.exists(root_dir):\n",
    "  shutil.rmtree(root_dir)\n",
    "\n",
    "def create_train_val_dirs(root_path):\n",
    "  \"\"\"\n",
    "  Creates directories for the train and test sets\n",
    "  \n",
    "  Args:\n",
    "    root_path (string) - the base directory path to create subdirectories from\n",
    "  \n",
    "  Returns:\n",
    "    None\n",
    "  \"\"\"  \n",
    "\n",
    "  \n",
    "  train_dir=os.path.join(root_dir,'training')\n",
    "  validation_dir=os.path.join(root_dir,'validation')\n",
    "\n",
    "  mode=0o777  \n",
    "\n",
    "  os.makedirs(root_dir,mode=0o755)\n",
    "  os.makedirs(os.path.join(root_dir,'training'),mode)\n",
    "  os.makedirs(os.path.join(root_dir,'validation'),mode)\n",
    "    \n",
    "  os.makedirs(os.path.join(train_dir,'cats'),mode)\n",
    "  os.makedirs(os.path.join(train_dir,'dogs'),mode)\n",
    "  os.makedirs(os.path.join(validation_dir,'cats'),mode)\n",
    "  os.makedirs(os.path.join(validation_dir,'dogs'),mode)\n",
    "\n",
    "  \n",
    "try:\n",
    "  create_train_val_dirs(root_path=root_dir)\n",
    "except FileExistsError:\n",
    "  print(\"File error!\")"
   ]
  },
  {
   "cell_type": "code",
   "execution_count": 43,
   "id": "1f14fa2a",
   "metadata": {
    "id": "5dhtL344OK00",
    "tags": [
     "graded"
    ]
   },
   "outputs": [
    {
     "name": "stdout",
     "output_type": "stream",
     "text": [
      "../../data/cats-v-dogs\\training\n",
      "../../data/cats-v-dogs\\validation\n",
      "../../data/cats-v-dogs\\training\\cats\n",
      "../../data/cats-v-dogs\\training\\dogs\n",
      "../../data/cats-v-dogs\\validation\\cats\n",
      "../../data/cats-v-dogs\\validation\\dogs\n"
     ]
    }
   ],
   "source": [
    "# Check directory structures\n",
    "\n",
    "for rootdir, dirs, files in os.walk(root_dir):\n",
    "    for subdir in dirs:\n",
    "        print(os.path.join(rootdir, subdir))"
   ]
  },
  {
   "cell_type": "markdown",
   "id": "4d15c384",
   "metadata": {
    "id": "D7A0RK3IQsvg"
   },
   "source": [
    "**Expect:**\n",
    "```\n",
    "cats-v-dogs/training\n",
    "cats-v-dogs/validation\n",
    "cats-v-dogs/training/cats\n",
    "cats-v-dogs/training/dogs\n",
    "cats-v-dogs/validation/cats\n",
    "cats-v-dogs/validation/dogs\n",
    "```"
   ]
  },
  {
   "cell_type": "markdown",
   "id": "c26745b7",
   "metadata": {
    "id": "R93T7HdE5txZ"
   },
   "source": [
    "**Split training and validation data sets**\n",
    "<ul>\n",
    "<li>files are  randomized\n",
    "<li>zero file lengths are skipped\n"
   ]
  },
  {
   "cell_type": "code",
   "execution_count": 47,
   "id": "d909936b",
   "metadata": {
    "cellView": "code",
    "id": "zvSODo0f9LaU",
    "tags": [
     "graded"
    ]
   },
   "outputs": [],
   "source": [
    "\n",
    "def split_data(SOURCE_DIR, TRAINING_DIR, VALIDATION_DIR, SPLIT_SIZE):\n",
    "    \"\"\"\n",
    "    Splits the data into train and test sets\n",
    "  \n",
    "    Args:\n",
    "    SOURCE_DIR (string): directory path containing the images\n",
    "    TRAINING_DIR (string): directory path to be used for training\n",
    "    VALIDATION_DIR (string): directory path to be used for validation\n",
    "    SPLIT_SIZE (float): proportion of the dataset to be used for training\n",
    "    \n",
    "    Returns:\n",
    "    None\n",
    "    \"\"\"\n",
    "  \n",
    "    filelist=os.listdir(SOURCE_DIR)\n",
    "    numfiles=len(filelist)\n",
    "    filelist=random.sample(filelist,numfiles)\n",
    "    #print(filelist)\n",
    "\n",
    "    for filename in filelist[:]:\n",
    "    #    print (\"trying: \",filename)\n",
    "        if os.path.getsize(os.path.join(SOURCE_DIR,filename))==0:\n",
    "            print(filename,\"is zero length, so ignoring.\")\n",
    "            filelist.remove(filename)\n",
    " \n",
    "    numfiles=len(filelist)            \n",
    "    \n",
    "    calc_split= round(SPLIT_SIZE*numfiles)\n",
    "    \n",
    "    for filename in filelist[:calc_split]:\n",
    "        copyfile(os.path.join(SOURCE_DIR, filename), os.path.join(TRAINING_DIR,filename))\n",
    "       \n",
    "    for filename in filelist[calc_split:]:\n",
    "        copyfile(os.path.join(SOURCE_DIR, filename), os.path.join(VALIDATION_DIR,filename))\n"
   ]
  },
  {
   "cell_type": "code",
   "execution_count": 48,
   "id": "fcaa6f51",
   "metadata": {
    "id": "FlIdoUeX9S-9",
    "tags": [
     "graded"
    ]
   },
   "outputs": [
    {
     "name": "stdout",
     "output_type": "stream",
     "text": [
      "666.jpg is zero length, so ignoring.\n",
      "11702.jpg is zero length, so ignoring.\n",
      "\n",
      "\n",
      "Original cat's directory has 12501 images\n",
      "Original dog's directory has 12501 images\n",
      "\n",
      "There are 11250 images of cats for training\n",
      "There are 11250 images of dogs for training\n",
      "There are 1250 images of cats for validation\n",
      "There are 1250 images of dogs for validation\n"
     ]
    }
   ],
   "source": [
    "# Run the split and  validate training and validation datasets\n",
    "\n",
    "# Define paths\n",
    "CAT_SOURCE_DIR = \"../../data/PetImages/Cat/\"\n",
    "DOG_SOURCE_DIR = \"../../data/PetImages/Dog/\"\n",
    "\n",
    "TRAINING_DIR = \"/tmp/cats-v-dogs/training/\"\n",
    "VALIDATION_DIR = \"/tmp/cats-v-dogs/validation/\"\n",
    "\n",
    "TRAINING_CATS_DIR = os.path.join(TRAINING_DIR, \"cats/\")\n",
    "VALIDATION_CATS_DIR = os.path.join(VALIDATION_DIR, \"cats/\")\n",
    "\n",
    "TRAINING_DOGS_DIR = os.path.join(TRAINING_DIR, \"dogs/\")\n",
    "VALIDATION_DOGS_DIR = os.path.join(VALIDATION_DIR, \"dogs/\")\n",
    "\n",
    "# Empty directories in case you run this cell multiple times\n",
    "if len(os.listdir(TRAINING_CATS_DIR)) > 0:\n",
    "  for file in os.scandir(TRAINING_CATS_DIR):\n",
    "    os.remove(file.path)\n",
    "if len(os.listdir(TRAINING_DOGS_DIR)) > 0:\n",
    "  for file in os.scandir(TRAINING_DOGS_DIR):\n",
    "    os.remove(file.path)\n",
    "if len(os.listdir(VALIDATION_CATS_DIR)) > 0:\n",
    "  for file in os.scandir(VALIDATION_CATS_DIR):\n",
    "    os.remove(file.path)\n",
    "if len(os.listdir(VALIDATION_DOGS_DIR)) > 0:\n",
    "  for file in os.scandir(VALIDATION_DOGS_DIR):\n",
    "    os.remove(file.path)\n",
    "\n",
    "# Define proportion of images used for training\n",
    "split_size = .9\n",
    "\n",
    "# Run the function\n",
    "# NOTE: Messages about zero length images should be printed out\n",
    "split_data(CAT_SOURCE_DIR, TRAINING_CATS_DIR, VALIDATION_CATS_DIR, split_size)\n",
    "split_data(DOG_SOURCE_DIR, TRAINING_DOGS_DIR, VALIDATION_DOGS_DIR, split_size)\n",
    "\n",
    "# Check that the number of images matches the expected output\n",
    "\n",
    "# Your function should perform copies rather than moving images so original directories should contain unchanged images\n",
    "print(f\"\\n\\nOriginal cat's directory has {len(os.listdir(CAT_SOURCE_DIR))} images\")\n",
    "print(f\"Original dog's directory has {len(os.listdir(DOG_SOURCE_DIR))} images\\n\")\n",
    "\n",
    "# Training and validation splits\n",
    "print(f\"There are {len(os.listdir(TRAINING_CATS_DIR))} images of cats for training\")\n",
    "print(f\"There are {len(os.listdir(TRAINING_DOGS_DIR))} images of dogs for training\")\n",
    "print(f\"There are {len(os.listdir(VALIDATION_CATS_DIR))} images of cats for validation\")\n",
    "print(f\"There are {len(os.listdir(VALIDATION_DOGS_DIR))} images of dogs for validation\")"
   ]
  },
  {
   "cell_type": "markdown",
   "id": "d433a627",
   "metadata": {
    "id": "hvskJNOFVSaz"
   },
   "source": [
    "**Expected Output:**\n",
    "\n",
    "```\n",
    "666.jpg is zero length, so ignoring.\n",
    "11702.jpg is zero length, so ignoring.\n",
    "\n",
    "Original cat's directory has 12500 images\n",
    "Original dog's directory has 12500 images\n",
    "\n",
    "There are 11249 images of cats for training\n",
    "There are 11249 images of dogs for training\n",
    "There are 1250 images of cats for validation\n",
    "There are 1250 images of dogs for validation\n",
    "```"
   ]
  },
  {
   "cell_type": "markdown",
   "id": "d0930b15",
   "metadata": {
    "id": "Zil4QmOD_mXF"
   },
   "source": [
    "**Create data generators with augmentation and target size of 150,150**\n",
    "\n",
    "\n"
   ]
  },
  {
   "cell_type": "code",
   "execution_count": 49,
   "id": "d0024abc",
   "metadata": {
    "cellView": "code",
    "id": "fQrZfVgz4j2g",
    "tags": [
     "graded"
    ]
   },
   "outputs": [],
   "source": [
    "# Create Train and Validation Data Generators with Augmentation\n",
    "\n",
    "def train_val_generators(TRAINING_DIR, VALIDATION_DIR):\n",
    "    \"\"\"\n",
    "    Args:\n",
    "      TRAINING_DIR (string): directory path containing the training images\n",
    "      VALIDATION_DIR (string): directory path containing the validation images\n",
    "    \n",
    "    Returns:\n",
    "    train_generator, validation_generator - tuple containing the two generators\n",
    "    \"\"\"\n",
    "    \n",
    "    target_size=(150,150)\n",
    "\n",
    "    # Instantiate the ImageDataGenerator class\n",
    "    train_datagen = ImageDataGenerator(\n",
    "                                    rescale=1./255,\n",
    "                                    rotation_range=40,\n",
    "                                    width_shift_range=.2,\n",
    "                                    height_shift_range=.2,\n",
    "                                    shear_range=.2,\n",
    "                                    zoom_range=.2,\n",
    "                                    horizontal_flip=True,\n",
    "                                    fill_mode='nearest')\n",
    "\n",
    "    # Pass in the appropiate arguments to the flow_from_directory method\n",
    "    train_generator = train_datagen.flow_from_directory(directory=TRAINING_DIR,\n",
    "                                                      batch_size=64,\n",
    "                                                      class_mode='binary',\n",
    "                                                      target_size=target_size)\n",
    "\n",
    "    # Instantiate the ImageDataGenerator class\n",
    "    validation_datagen = ImageDataGenerator(\n",
    "                                    rescale=1/255,\n",
    "                                    rotation_range=0,\n",
    "                                    width_shift_range=0,\n",
    "                                    height_shift_range=0,\n",
    "                                    shear_range=0,\n",
    "                                    zoom_range=0,\n",
    "                                    horizontal_flip=0,\n",
    "                                    fill_mode=None)\n",
    "\n",
    "    # Pass in the appropiate arguments to the flow_from_directory method\n",
    "    validation_generator = validation_datagen.flow_from_directory(directory=VALIDATION_DIR,\n",
    "                                                      batch_size=64,\n",
    "                                                      class_mode='binary',\n",
    "                                                      target_size=target_size)\n",
    "\n",
    "    return train_generator, validation_generator\n"
   ]
  },
  {
   "cell_type": "code",
   "execution_count": 60,
   "id": "12b6dddb",
   "metadata": {
    "id": "qM7FxrjGiobD",
    "tags": [
     "graded"
    ]
   },
   "outputs": [
    {
     "name": "stdout",
     "output_type": "stream",
     "text": [
      "Found 22498 images belonging to 2 classes.\n",
      "Found 2500 images belonging to 2 classes.\n"
     ]
    }
   ],
   "source": [
    "# Test generators\n",
    "train_generator, validation_generator = train_val_generators(TRAINING_DIR, VALIDATION_DIR)"
   ]
  },
  {
   "cell_type": "markdown",
   "id": "85b9aab9",
   "metadata": {
    "id": "tiPNmSfZjHwJ"
   },
   "source": [
    "**Expected Output:**\n",
    "\n",
    "```\n",
    "Found 22498 images belonging to 2 classes.\n",
    "Found 2500 images belonging to 2 classes.\n",
    "```\n"
   ]
  },
  {
   "cell_type": "markdown",
   "id": "55731ebd",
   "metadata": {
    "id": "TI3oEmyQCZoO"
   },
   "source": [
    "**Define the Convolutional Neural Network Model**"
   ]
  },
  {
   "cell_type": "code",
   "execution_count": 52,
   "id": "a5fff057",
   "metadata": {
    "cellView": "code",
    "id": "oDPK8tUB_O9e",
    "lines_to_next_cell": 2,
    "tags": [
     "graded"
    ]
   },
   "outputs": [],
   "source": [
    "\n",
    "def create_model():\n",
    "\n",
    "  model = tf.keras.models.Sequential([ \n",
    "\n",
    "    tf.keras.layers.Conv2D(16,(3,3),activation='relu',input_shape=(150,150,3)),\n",
    "    tf.keras.layers.MaxPooling2D(2,2),\n",
    "    tf.keras.layers.Conv2D(64,(3,3),activation='relu'),\n",
    "    tf.keras.layers.MaxPooling2D(2,2),\n",
    "    tf.keras.layers.Conv2D(64,(3,3),activation='relu'),\n",
    "    tf.keras.layers.MaxPooling2D(2,2),\n",
    "    tf.keras.layers.Flatten(),\n",
    "    tf.keras.layers.Dense(128, activation='relu'),\n",
    "    tf.keras.layers.Dense(1, activation='sigmoid')      \n",
    "    ])\n",
    "  \n",
    "  model.compile(optimizer='adam', loss='binary_crossentropy', metrics=['accuracy'])\n",
    "\n",
    "  return model\n"
   ]
  },
  {
   "cell_type": "markdown",
   "id": "3516cff9",
   "metadata": {
    "id": "SMFNJZmTCZv6"
   },
   "source": [
    "**Create the model**"
   ]
  },
  {
   "cell_type": "code",
   "execution_count": 53,
   "id": "5d3ffc76",
   "metadata": {},
   "outputs": [
    {
     "name": "stdout",
     "output_type": "stream",
     "text": [
      "Model: \"sequential\"\n",
      "_________________________________________________________________\n",
      "Layer (type)                 Output Shape              Param #   \n",
      "=================================================================\n",
      "conv2d (Conv2D)              (None, 148, 148, 16)      448       \n",
      "_________________________________________________________________\n",
      "max_pooling2d (MaxPooling2D) (None, 74, 74, 16)        0         \n",
      "_________________________________________________________________\n",
      "conv2d_1 (Conv2D)            (None, 72, 72, 64)        9280      \n",
      "_________________________________________________________________\n",
      "max_pooling2d_1 (MaxPooling2 (None, 36, 36, 64)        0         \n",
      "_________________________________________________________________\n",
      "conv2d_2 (Conv2D)            (None, 34, 34, 64)        36928     \n",
      "_________________________________________________________________\n",
      "max_pooling2d_2 (MaxPooling2 (None, 17, 17, 64)        0         \n",
      "_________________________________________________________________\n",
      "flatten (Flatten)            (None, 18496)             0         \n",
      "_________________________________________________________________\n",
      "dense (Dense)                (None, 128)               2367616   \n",
      "_________________________________________________________________\n",
      "dense_1 (Dense)              (None, 1)                 129       \n",
      "=================================================================\n",
      "Total params: 2,414,401\n",
      "Trainable params: 2,414,401\n",
      "Non-trainable params: 0\n",
      "_________________________________________________________________\n"
     ]
    }
   ],
   "source": [
    "model = create_model()\n",
    "model.summary()"
   ]
  },
  {
   "cell_type": "code",
   "execution_count": 55,
   "id": "d509c6f2",
   "metadata": {
    "id": "5qE1G6JB4fMn",
    "tags": []
   },
   "outputs": [
    {
     "name": "stdout",
     "output_type": "stream",
     "text": [
      "Epoch 1/5\n",
      "342/352 [============================>.] - ETA: 5s - loss: 0.6758 - accuracy: 0.5818"
     ]
    },
    {
     "name": "stderr",
     "output_type": "stream",
     "text": [
      "C:\\Users\\Tom\\anaconda3\\envs\\TensorflowGPU\\lib\\site-packages\\PIL\\TiffImagePlugin.py:845: UserWarning: Truncated File Read\n",
      "  warnings.warn(str(msg))\n"
     ]
    },
    {
     "name": "stdout",
     "output_type": "stream",
     "text": [
      "352/352 [==============================] - 198s 549ms/step - loss: 0.6743 - accuracy: 0.5845 - val_loss: 0.6267 - val_accuracy: 0.6372\n",
      "Epoch 2/5\n",
      "352/352 [==============================] - 126s 358ms/step - loss: 0.6007 - accuracy: 0.6714 - val_loss: 0.5706 - val_accuracy: 0.7032\n",
      "Epoch 3/5\n",
      "352/352 [==============================] - 126s 357ms/step - loss: 0.5559 - accuracy: 0.7153 - val_loss: 0.5290 - val_accuracy: 0.7320\n",
      "Epoch 4/5\n",
      "352/352 [==============================] - 126s 359ms/step - loss: 0.5267 - accuracy: 0.7361 - val_loss: 0.6179 - val_accuracy: 0.6904\n",
      "Epoch 5/5\n",
      "352/352 [==============================] - 126s 359ms/step - loss: 0.5199 - accuracy: 0.7411 - val_loss: 0.4637 - val_accuracy: 0.7884\n"
     ]
    }
   ],
   "source": [
    "# Train the model\n",
    "# Note that this may take some time.\n",
    "history = model.fit(train_generator,\n",
    "                    epochs=5,\n",
    "                    verbose=1,\n",
    "                    validation_data=validation_generator)"
   ]
  },
  {
   "cell_type": "markdown",
   "id": "0dd2db6d",
   "metadata": {
    "id": "VGsaDMc-GMd4"
   },
   "source": [
    "**Check Accuracy and Create graphs**"
   ]
  },
  {
   "cell_type": "code",
   "execution_count": 75,
   "id": "eaa7f27f",
   "metadata": {
    "id": "MWZrJN4-65RC",
    "tags": []
   },
   "outputs": [
    {
     "data": {
      "image/png": "[encoded data removed]",
      "text/plain": [
       "<Figure size 640x480 with 1 Axes>"
      ]
     },
     "metadata": {},
     "output_type": "display_data"
    },
    {
     "data": {
      "text/plain": [
       "<Figure size 640x480 with 0 Axes>"
      ]
     },
     "metadata": {},
     "output_type": "display_data"
    },
    {
     "data": {
      "image/png": "[encoded data removed]",
      "text/plain": [
       "<Figure size 640x480 with 1 Axes>"
      ]
     },
     "metadata": {},
     "output_type": "display_data"
    },
    {
     "data": {
      "text/plain": [
       "<Figure size 640x480 with 0 Axes>"
      ]
     },
     "metadata": {},
     "output_type": "display_data"
    }
   ],
   "source": [
    "#-----------------------------------------------------------\n",
    "# Retrieve a list of list results on training and test data\n",
    "# sets for each training epoch\n",
    "#-----------------------------------------------------------\n",
    "import matplotlib.pyplot as plt\n",
    "\n",
    "acc = history.history['accuracy']\n",
    "val_acc = history.history['val_accuracy']\n",
    "loss = history.history['loss']\n",
    "val_loss = history.history['val_loss']\n",
    "\n",
    "epochs=range(len(acc)) # Get number of epochs\n",
    "\n",
    "#------------------------------------------------\n",
    "# Plot training and validation accuracy per epoch\n",
    "#------------------------------------------------\n",
    "\n",
    "\n",
    "epochs = range(len(acc))\n",
    "\n",
    "plt.plot(epochs, acc, 'r', label='Training accuracy')\n",
    "plt.plot(epochs, val_acc, 'b', label='Validation accuracy')\n",
    "plt.title('Training and validation accuracy')\n",
    "plt.legend(loc=0)\n",
    "plt.figure()\n",
    "plt.show()\n",
    "\n",
    "#------------------------------------------------\n",
    "# Plot training and validation loss per epoch\n",
    "#------------------------------------------------\n",
    "\n",
    "plt.plot(epochs, loss, 'r', label=\"Training Loss\")\n",
    "plt.plot(epochs, val_loss, 'b', label=\"Validation Loss\")\n",
    "plt.title('Training and validation loss')\n",
    "plt.legend(loc=0)\n",
    "plt.figure()\n",
    "plt.show()"
   ]
  }
 ],
 "metadata": {
  "accelerator": "GPU",
  "kernelspec": {
   "display_name": "Python 3 (ipykernel)",
   "language": "python",
   "name": "python3"
  },
  "language_info": {
   "codemirror_mode": {
    "name": "ipython",
    "version": 3
   },
   "file_extension": ".py",
   "mimetype": "text/x-python",
   "name": "python",
   "nbconvert_exporter": "python",
   "pygments_lexer": "ipython3",
   "version": "3.9.13"
  }
 },
 "nbformat": 4,
 "nbformat_minor": 5
}
