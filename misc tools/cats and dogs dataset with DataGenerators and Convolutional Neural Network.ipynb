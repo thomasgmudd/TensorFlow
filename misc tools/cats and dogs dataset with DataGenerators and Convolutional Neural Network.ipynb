{
 "cells": [
  {
   "cell_type": "markdown",
   "id": "76ebd01c",
   "metadata": {},
   "source": [
    "***Cats and Dogs dataset with CNN classification***\n",
    "<ul>\n",
    "<li> Create Test and Train ImageDataGenerators\n",
    "<li> Create a convolutional neural network\n",
    "<li> Compile model and train\n",
    "\n",
    "    "
   ]
  },
  {
   "cell_type": "code",
   "execution_count": 1,
   "id": "57d637c5",
   "metadata": {},
   "outputs": [],
   "source": [
    "import tensorflow as tf\n",
    "from tensorflow.keras.preprocessing.image import ImageDataGenerator\n",
    "from tensorflow.keras.optimizers import RMSprop\n",
    "import os\n",
    "import numpy as np\n",
    "#from google.colab import files\n",
    "from tensorflow.keras.preprocessing import image\n",
    "\n",
    "# Assign training and validation set directories\n",
    "base_dir = '../../data/cats_and_dogs_filtered'\n",
    "train_dir = os.path.join(base_dir, 'train')\n",
    "validation_dir = os.path.join(base_dir, 'validation')"
   ]
  },
  {
   "cell_type": "markdown",
   "id": "3bc82604",
   "metadata": {},
   "source": [
    "***Create Train Datagenerator***"
   ]
  },
  {
   "cell_type": "code",
   "execution_count": 2,
   "id": "8c6d4528",
   "metadata": {},
   "outputs": [
    {
     "name": "stdout",
     "output_type": "stream",
     "text": [
      "Found 2000 images belonging to 2 classes.\n"
     ]
    }
   ],
   "source": [
    "train_datagen=ImageDataGenerator(rescale=1./255)\n",
    "\n",
    "train_generator = train_datagen.flow_from_directory(\n",
    "    train_dir,\n",
    "    target_size=(300,300),\n",
    "    batch_size=128,\n",
    "    class_mode='binary'\n",
    ")"
   ]
  },
  {
   "cell_type": "markdown",
   "id": "ef52442a",
   "metadata": {},
   "source": [
    "***Create Test Datagen***"
   ]
  },
  {
   "cell_type": "code",
   "execution_count": 12,
   "id": "a31963c4",
   "metadata": {},
   "outputs": [
    {
     "name": "stdout",
     "output_type": "stream",
     "text": [
      "Found 1000 images belonging to 2 classes.\n"
     ]
    }
   ],
   "source": [
    "test_datagen=ImageDataGenerator(rescale=1./255)\n",
    "\n",
    "test_generator = train_datagen.flow_from_directory(\n",
    "    validation_dir,\n",
    "    target_size=(300,300),\n",
    "    batch_size=128,\n",
    "    class_mode='binary'\n",
    ")"
   ]
  },
  {
   "cell_type": "markdown",
   "id": "89ab8fa3",
   "metadata": {},
   "source": [
    "***Create Convolutional Neural Network***"
   ]
  },
  {
   "cell_type": "code",
   "execution_count": 6,
   "id": "490cd5f0",
   "metadata": {},
   "outputs": [],
   "source": [
    "model=tf.keras.models.Sequential([\n",
    "    tf.keras.layers.Conv2D(16,(3,3),activation='relu',input_shape=(300,300,3)),\n",
    "    tf.keras.layers.MaxPooling2D(2,2),\n",
    "    tf.keras.layers.Conv2D(32,(3,3),activation='relu'),\n",
    "    tf.keras.layers.MaxPooling2D(2,2),\n",
    "    tf.keras.layers.Conv2D(64,(3,3),activation='relu'),\n",
    "    tf.keras.layers.MaxPooling2D(2,2),\n",
    "    \n",
    "    tf.keras.layers.Flatten(),\n",
    "    tf.keras.layers.Dense(512, activation='relu'),\n",
    "    tf.keras.layers.Dense(1, activation='sigmoid')\n",
    "])\n",
    "\n",
    "#model.summary()"
   ]
  },
  {
   "cell_type": "markdown",
   "id": "4e98f8bf",
   "metadata": {},
   "source": [
    "***Compile and train***"
   ]
  },
  {
   "cell_type": "code",
   "execution_count": 15,
   "id": "5b7de31f",
   "metadata": {},
   "outputs": [],
   "source": [
    "model.compile(loss='binary_crossentropy',\n",
    "    optimizer=RMSprop(learning_rate=0.001),\n",
    "    metrics=['accuracy'])"
   ]
  },
  {
   "cell_type": "code",
   "execution_count": 18,
   "id": "7d004a0b",
   "metadata": {},
   "outputs": [
    {
     "name": "stdout",
     "output_type": "stream",
     "text": [
      "8/8 [==============================] - 6s 781ms/step - loss: 0.6889 - accuracy: 0.5510 - val_loss: 0.6535 - val_accuracy: 0.5920\n"
     ]
    }
   ],
   "source": [
    "history=model.fit(\n",
    "    train_generator,\n",
    "    steps_per_epoch=8,\n",
    "    validation_data=train_generator,\n",
    "    validation_steps=8,\n",
    "    verbose=1\n",
    ")"
   ]
  }
 ],
 "metadata": {
  "kernelspec": {
   "display_name": "Python 3 (ipykernel)",
   "language": "python",
   "name": "python3"
  },
  "language_info": {
   "codemirror_mode": {
    "name": "ipython",
    "version": 3
   },
   "file_extension": ".py",
   "mimetype": "text/x-python",
   "name": "python",
   "nbconvert_exporter": "python",
   "pygments_lexer": "ipython3",
   "version": "3.9.13"
  }
 },
 "nbformat": 4,
 "nbformat_minor": 5
}
