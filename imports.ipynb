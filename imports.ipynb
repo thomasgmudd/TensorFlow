{
 "cells": [
  {
   "cell_type": "code",
   "execution_count": 2,
   "id": "20a3a20c",
   "metadata": {},
   "outputs": [
    {
     "name": "stdout",
     "output_type": "stream",
     "text": [
      "TF version:  2.6.0\n",
      "Compute on:  [PhysicalDevice(name='/physical_device:GPU:0', device_type='GPU')]\n",
      "Cuda build:  True\n",
      "cwd       :  C:\\Users\\Tom\\Jupyter\n"
     ]
    }
   ],
   "source": [
    "import tensorflow as tf\n",
    "import keras\n",
    "import sklearn\n",
    "import pandas\n",
    "import matplotlib\n",
    "import seaborn\n",
    "import numpy as np\n",
    "import random\n",
    "import os\n",
    "\n",
    "from tensorflow.keras.preprocessing.image import ImageDataGenerator\n",
    "import tensorflow_datasets as tfds\n",
    "\n",
    "import turtle\n",
    "import image\n",
    "\n",
    "from PIL import Image, ImageDraw\n",
    "\n",
    "from ipywidgets import interact\n",
    "\n",
    "\n",
    "print(\"TF version: \",tf.__version__)\n",
    "print(\"Compute on: \",tf.config.list_physical_devices('GPU'))\n",
    "print(\"Cuda build: \",tf.test.is_built_with_cuda())\n",
    "print(\"cwd       : \",os.getcwd())\n",
    "\n",
    "#from google.colab import files"
   ]
  }
 ],
 "metadata": {
  "kernelspec": {
   "display_name": "Python 3 (ipykernel)",
   "language": "python",
   "name": "python3"
  },
  "language_info": {
   "codemirror_mode": {
    "name": "ipython",
    "version": 3
   },
   "file_extension": ".py",
   "mimetype": "text/x-python",
   "name": "python",
   "nbconvert_exporter": "python",
   "pygments_lexer": "ipython3",
   "version": "3.9.13"
  }
 },
 "nbformat": 4,
 "nbformat_minor": 5
}
